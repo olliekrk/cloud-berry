{
 "cells": [
  {
   "cell_type": "code",
   "execution_count": null,
   "metadata": {},
   "outputs": [],
   "source": [
    "import cloudberry.api as cb"
   ]
  },
  {
   "cell_type": "code",
   "execution_count": null,
   "metadata": {
    "pycharm": {
     "name": "#%%\n"
    }
   },
   "outputs": [],
   "source": [
    "# Define Cloudberry configuration\n",
    "cb_port = 9000\n",
    "cb_config = cb.CloudberryConfig(f'http://localhost:{cb_port}')\n",
    "\n",
    "# Initialize selected API(s)\n",
    "cb_data = cb.Data(cb_config)\n",
    "cb_analytics = cb.Analytics(cb_config)\n",
    "cb_anomalies = cb.Anomalies(cb_config)\n",
    "cb_buckets = cb.Buckets(cb_config)\n",
    "cb_meta = cb.Metadata(cb_config)\n",
    "cb_meta_experiment = cb_meta.experiment_api()\n",
    "cb_meta_experiment_configuration = cb_meta.experiment_configuration_api()\n",
    "cb_meta_experiment_computation = cb_meta.experiment_computation_api()\n",
    "cb_query = cb.Query(cb_config)\n",
    "cb_uploader = cb.AgeFileUploader(cb_config)\n",
    "cb_csv_uploader = cb.CsvFileUploader(cb_config)\n",
    "cb_api_configuration = cb.ApiConfiguration(cb_config)\n",
    "cb_deleteion = cb.Deletion(cb_config)"
   ]
  },
  {
   "cell_type": "code",
   "execution_count": null,
   "metadata": {
    "pycharm": {
     "name": "#%%\n"
    }
   },
   "outputs": [],
   "source": [
    "# cb.Data\n",
    "\n",
    "import math\n",
    "import datetime\n",
    "\n",
    "get_current_timestamp = lambda: math.trunc(datetime.datetime.utcnow().timestamp())\n",
    "\n",
    "#computation = cb_meta_experiment_computation.find_all()[0]\n",
    "\n",
    "current_time = get_current_timestamp()\n",
    "data_points = [\n",
    "    cb.DataPoint(time=current_time, fields={'version': 0.1}, tags={'origin': 'jupyter_notebook', 'type': 'api_demo'}),\n",
    "    cb.DataPoint(time=current_time + 1, fields={'version': 0.2}, tags={'origin': 'jupyter_notebook', 'type': 'api_demo'}),\n",
    "    cb.DataPoint(time=current_time + 2, fields={'version': 0.1}, tags={'origin': 'notebook', 'type': 'api_demo'}),\n",
    "    cb.DataPoint(time=current_time + 3, fields={'version': 0.2}, tags={'origin': 'notebook', 'type': 'api_demo'}),\n",
    "    #cb.DataPoint(time=current_time + 4, fields={'version': 0.7}, tags={'another': 'notebook'}, computation=computation),\n",
    "]\n",
    "\n",
    "# Save data points explicitly\n",
    "result = cb_data.save_data(data_points)\n",
    "print(result)\n",
    "\n",
    "# Get those data points with filters\n",
    "result = cb_data.get_data(cb.DataFilters(tags={'origin': 'notebook'}))\n",
    "print(len(result.data))\n",
    "\n",
    "result = cb_data.get_data(cb.DataFilters(fields={'version': 0.1}))\n",
    "print(len(result.data))\n",
    "\n",
    "result = cb_data.get_data(cb.DataFilters(tags={'origin': 'notebook'}, fields={'version': 0.1}))\n",
    "print(len(result.data), result.data)\n",
    "\n",
    "# *New* - get points with computation param\n",
    "#result1 = cb_data.get_data(cb.DataFilters(tags={'another': 'notebook'}, computation=computation))\n",
    "#result2 = cb_data.get_data(cb.DataFilters(tags={'another': 'notebook', 'computationId': computation.computation_id_hex}))\n",
    "#print(\"Queries are equal: \" + str(result1.data == result2.data))\n",
    "\n",
    "# *New* - get points by tags presence, ignoring the value\n",
    "\n",
    "result = cb_data.get_data(cb.DataFilters(tags_presence=['origin']))\n",
    "print(len(result.data))\n",
    "\n",
    "result = cb_data.get_data(cb.DataFilters(tags_presence=['origin', 'halo']))\n",
    "print(len(result.data))\n",
    "\n",
    "\n",
    "# Delete data points\n",
    "# result = cb_data.get_data(cb.DataFilters(tags={'type': 'api_demo'}))\n",
    "# print('before: ', len(result.data))\n",
    "\n",
    "# result = cb_data.delete_data(cb.DataFilters(tags={'type': 'api_demo'}))\n",
    "# print(result)\n",
    "\n",
    "# result = cb_data.get_data(cb.DataFilters(tags={'type': 'api_demo'}))\n",
    "# print('after: ', len(result.data))"
   ]
  },
  {
   "cell_type": "code",
   "execution_count": null,
   "metadata": {
    "pycharm": {
     "name": "#%%\n"
    }
   },
   "outputs": [],
   "source": [
    "# cb.Buckets\n",
    "\n",
    "buckets_names = cb_buckets.get_buckets_names()\n",
    "print(buckets_names)\n",
    "\n",
    "result = cb_buckets.create_bucket('wiadro_0')\n",
    "print(result)\n",
    "\n",
    "buckets_names = cb_buckets.get_buckets_names()\n",
    "print(buckets_names)\n",
    "\n",
    "result = cb_buckets.delete_bucket('wiadro_0')\n",
    "print(result)\n",
    "\n",
    "buckets_names = cb_buckets.get_buckets_names()\n",
    "print(buckets_names)"
   ]
  },
  {
   "cell_type": "code",
   "execution_count": null,
   "metadata": {
    "pycharm": {
     "name": "#%%\n"
    }
   },
   "outputs": [],
   "source": [
    "# cb.Query\n",
    "\n",
    "result = cb_query.query_series(\"\"\"\n",
    "from(bucket:\"cloudberry_logs\")\n",
    "|> range(start: 0)\n",
    "|> filter(fn: (r) => r._field == \"AVERAGE_FITNESS\")\n",
    "|> keep(columns: [\"_value\", \"_time\"])\n",
    "\"\"\")\n",
    "\n",
    "result.as_data_frame"
   ]
  },
  {
   "cell_type": "code",
   "execution_count": null,
   "metadata": {
    "pycharm": {
     "name": "#%%\n"
    }
   },
   "outputs": [],
   "source": [
    "# cb.AgeFileUploader\n",
    "\n",
    "computations = []\n",
    "\n",
    "age_log_file_path = './data/emas-20190412T120536.log'\n",
    "age_log_experiment_name = 'EMAS_AGE'\n",
    "age_log_headers_keys = {\n",
    "    \"[WH]\": \"[W]\",\n",
    "    \"[SH]\": \"[S]\",\n",
    "    \"[BH]\": \"[B]\"\n",
    "}\n",
    "\n",
    "computation = cb_uploader.upload_file(\n",
    "    file_path=age_log_file_path,\n",
    "    experiment_name=age_log_experiment_name,\n",
    "    details=cb.AgeUploadDetails(headers_keys=age_log_headers_keys)\n",
    ")\n",
    "computations.append(computation)"
   ]
  },
  {
   "cell_type": "code",
   "execution_count": null,
   "metadata": {},
   "outputs": [],
   "source": [
    "computations"
   ]
  },
  {
   "cell_type": "code",
   "execution_count": null,
   "metadata": {
    "pycharm": {
     "name": "#%%\n"
    }
   },
   "outputs": [],
   "source": [
    "# cb.Analytics\n",
    "\n",
    "# Upload more data to Cloudberry\n",
    "emas_files = [\n",
    "    \"./data/emas-20190411T232808.log\",\n",
    "    \"./data/emas-20190411T234810.log\",\n",
    "    \"./data/emas-20190412T000813.log\",\n",
    "    \"./data/emas-20190412T120536.log\",\n",
    "]\n",
    "for emas_file in emas_files:\n",
    "    computation = cb_uploader.upload_file(\n",
    "             file_path=emas_file,\n",
    "             experiment_name=age_log_experiment_name,\n",
    "             details=cb.AgeUploadDetails(headers_keys=age_log_headers_keys)\n",
    "         )\n",
    "    computations.append(computation)"
   ]
  },
  {
   "cell_type": "code",
   "execution_count": null,
   "metadata": {
    "pycharm": {
     "name": "#%%\n"
    }
   },
   "outputs": [],
   "source": [
    "best_fitness_field = 'BEST_SOLUTION_SO_FAR'\n",
    "fitness_field = 'AVERAGE_FITNESS'\n",
    "\n",
    "# Use case 1. Compare multiple computations by their ids\n",
    "\n",
    "series = cb_analytics.compare_computations(\n",
    "    computations=computations,\n",
    "    field_name=fitness_field\n",
    ")\n",
    "\n",
    "cb.DataSeriesPlots.compare(series=series, \n",
    "                           x_field='_time', \n",
    "                           y_field=fitness_field,\n",
    "                           title='Average fitness comparison')"
   ]
  },
  {
   "cell_type": "code",
   "execution_count": null,
   "metadata": {},
   "outputs": [],
   "source": [
    "# With new cloudberry.plots module\n",
    "import cloudberry.plots as cbp\n",
    "plot_properties = cbp.PlotProperties.default()\n",
    "plot_properties.default_series_kind = cbp.PlotSeriesKind.LINE\n",
    "plot_properties.title = f'{fitness_field} comparision'\n",
    "plot_properties.x_axis_name = 'Time'\n",
    "plot_properties.y_axis_name = fitness_field\n",
    "\n",
    "# Converters to plots model\n",
    "def to_plot_series(data_series, y_field, x_field=\"_time\"):\n",
    "    return cbp.PlotSeries(name = data_series.series_name, \n",
    "                          data = data_series.as_data_frame,\n",
    "                          x_field = x_field,\n",
    "                          y_field = y_field,\n",
    "                          y_err_field = None)\n",
    "\n",
    "def to_plot_series_multi(data_series_multi, y_field, x_field=\"_time\"):\n",
    "    return list(map(lambda s: to_plot_series(s, y_field, x_field), data_series_multi))"
   ]
  },
  {
   "cell_type": "code",
   "execution_count": null,
   "metadata": {},
   "outputs": [],
   "source": [
    "plot_series = to_plot_series_multi(series, fitness_field)\n",
    "builder = cbp.PlotBuilder(plot_properties)\n",
    "for s in plot_series:\n",
    "    if s.name == 'AVG':\n",
    "        builder.add_avg_series(s)\n",
    "    else:\n",
    "        builder.add_series(s)"
   ]
  },
  {
   "cell_type": "code",
   "execution_count": null,
   "metadata": {},
   "outputs": [],
   "source": [
    "# Adding trend lines\n",
    "trend_series = plot_series[0].name\n",
    "builder.add_trend(f'{trend_series} - trend', cbp.PlotlyTrendLine(trend_series, cbp.PlotlyTrendLineKind.KNN10))\n",
    "builder.add_trend('Lower bound', cbp.PlotlyTrendLine('AVG', cbp.PlotlyTrendLineKind.CONST, 4.55))\n",
    "builder.add_trend('Upper bound', cbp.PlotlyTrendLine('AVG', cbp.PlotlyTrendLineKind.CONST, 4.65))\n",
    "builder.plot()"
   ]
  },
  {
   "cell_type": "code",
   "execution_count": null,
   "metadata": {},
   "outputs": [],
   "source": [
    "# Exporting plot to file\n",
    "plot_properties.show_legend = False\n",
    "plot_to_export = builder.plot()\n",
    "cbp.PlotlyExporter(plot_to_export).write_image(\"demo_plot.png\", scale=4) # PNG is default\n",
    "cbp.PlotlyExporter(plot_to_export).write_image(\"demo_plot.svg\", scale=4, image_format=\"svg\") # other formats are supported"
   ]
  },
  {
   "cell_type": "code",
   "execution_count": null,
   "metadata": {
    "scrolled": true
   },
   "outputs": [],
   "source": [
    "series[0].as_data_frame"
   ]
  },
  {
   "cell_type": "code",
   "execution_count": null,
   "metadata": {},
   "outputs": [],
   "source": [
    "best_n_serie = cb_analytics.best_n_computations_for_configuration(\n",
    "    n=5,\n",
    "    field_name=best_fitness_field,\n",
    "    configuration=cb_meta_experiment_configuration.find_all()[0],\n",
    "    goal=cb.OptimizationGoal.MAX,\n",
    "    kind=cb.OptimizationKind.FINAL_VALUE\n",
    ")"
   ]
  },
  {
   "cell_type": "code",
   "execution_count": null,
   "metadata": {},
   "outputs": [],
   "source": [
    "best_n_serie[0].as_data_frame"
   ]
  },
  {
   "cell_type": "code",
   "execution_count": null,
   "metadata": {},
   "outputs": [],
   "source": [
    "series = cb_analytics.compare_computations(\n",
    "    computations=computations,\n",
    "    field_name=best_fitness_field\n",
    ")\n",
    "\n",
    "cb.DataSeriesPlots.compare(series=series, \n",
    "                           x_field='_time', \n",
    "                           y_field=best_fitness_field,\n",
    "                           title='Best solution so far comparison')"
   ]
  },
  {
   "cell_type": "code",
   "execution_count": null,
   "metadata": {
    "pycharm": {
     "name": "#%%\n"
    }
   },
   "outputs": [],
   "source": [
    "configuration = cb_meta_experiment_configuration.find_by_experiment_name(age_log_experiment_name)[0]\n",
    "# Use case 2. Compare all computations for given configuration id\n",
    "\n",
    "series = cb_analytics.compare_computations_for_configuration(\n",
    "    configuration=configuration,\n",
    "    field_name=fitness_field\n",
    ")\n",
    "\n",
    "\n",
    "cb.DataSeriesPlots.compare(series=series, \n",
    "                           x_field='_time', \n",
    "                           y_field=fitness_field,\n",
    "                           title='Average fitness comparison')"
   ]
  },
  {
   "cell_type": "code",
   "execution_count": null,
   "metadata": {
    "pycharm": {
     "name": "#%%\n"
    }
   },
   "outputs": [],
   "source": [
    "# Another feature: append data from CSV\n",
    "# - must specify configuration ID explicitly as CSV does not contain experiment configuration\n",
    "\n",
    "age_csv_file_path = './data/emas_1.csv'\n",
    "\n",
    "new_computation = cb_csv_uploader.upload_file(\n",
    "    file_path=age_csv_file_path,\n",
    "    experiment_name=age_log_experiment_name,\n",
    "    details=cb.CsvUploadDetails(\n",
    "        tags_names=['WORKPLACE_ID'],\n",
    "        configuration=configuration,\n",
    "        computation=None # None for new computation\n",
    "    )\n",
    ")"
   ]
  },
  {
   "cell_type": "code",
   "execution_count": null,
   "metadata": {},
   "outputs": [],
   "source": [
    "configurations = cb_meta_experiment_configuration.find_by_experiment_name(age_log_experiment_name)[0:3]\n",
    "\n",
    "# Use case 3. Compare N configurations\n",
    "\n",
    "series = cb_analytics.compare_configurations(\n",
    "    configurations=configurations,\n",
    "    field_name=fitness_field\n",
    ")\n",
    "\n",
    "cb.DataSeriesPlots.compare(series=series, \n",
    "                           x_field='_time', \n",
    "                           y_field=fitness_field,\n",
    "                           title='Average fitness comparison')"
   ]
  },
  {
   "cell_type": "code",
   "execution_count": null,
   "metadata": {
    "pycharm": {
     "name": "#%%\n"
    }
   },
   "outputs": [],
   "source": [
    "# Use case 4. Compare all configurations for experiment\n",
    "\n",
    "series = cb_analytics.compare_configurations_for_experiment(\n",
    "    experiment_name=age_log_experiment_name,\n",
    "    field_name=fitness_field\n",
    ")\n",
    "\n",
    "cb.DataSeriesPlots.compare(series=series, \n",
    "                           x_field='_time', \n",
    "                           y_field=fitness_field,\n",
    "                           title='Average fitness comparison')"
   ]
  },
  {
   "cell_type": "code",
   "execution_count": null,
   "metadata": {},
   "outputs": [],
   "source": [
    "# Use case 5.1 Get best computations (optimization) by their final values\n",
    "\n",
    "series = cb_analytics.best_n_computations(\n",
    "    n=2,\n",
    "    field_name='BEST_SOLUTION_SO_FAR',\n",
    "    goal=cb.OptimizationGoal.MAX,\n",
    "    kind=cb.OptimizationKind.FINAL_VALUE\n",
    ")\n",
    "\n",
    "cb.DataSeriesPlots.compare(series=series,\n",
    "                           x_field='_time',\n",
    "                           y_field='BEST_SOLUTION_SO_FAR',\n",
    "                           title='Best final solution')\n"
   ]
  },
  {
   "cell_type": "code",
   "execution_count": null,
   "metadata": {},
   "outputs": [],
   "source": [
    "# Use case 5.2 Get best computations (optimization) by convergence (area under curve / integral)\n",
    "\n",
    "series = cb_analytics.best_n_computations(\n",
    "    n=2,\n",
    "    field_name='AVERAGE_FITNESS',\n",
    "    goal=cb.OptimizationGoal.MAX,\n",
    "    kind=cb.OptimizationKind.AREA_UNDER_CURVE\n",
    ")\n",
    "\n",
    "cb.DataSeriesPlots.compare(series=series,\n",
    "                           x_field='_time',\n",
    "                           y_field='AVERAGE_FITNESS',\n",
    "                           title='Max fitness (AUC)')\n"
   ]
  },
  {
   "cell_type": "code",
   "execution_count": null,
   "metadata": {
    "pycharm": {
     "name": "#%%\n"
    }
   },
   "outputs": [],
   "source": [
    "# Get mean and stddev for given computations\n",
    "field_name = 'AVERAGE_FITNESS'\n",
    "\n",
    "\n",
    "series = cb_analytics.avg_and_stddev_for_computations(\n",
    "    computations=computations,\n",
    "    field_name=field_name,\n",
    "    interval=10,\n",
    "    time_unit=cb.TimeUnit.DAYS,\n",
    ")"
   ]
  },
  {
   "cell_type": "code",
   "execution_count": null,
   "metadata": {},
   "outputs": [],
   "source": [
    "series.as_data_frame"
   ]
  },
  {
   "cell_type": "code",
   "execution_count": null,
   "metadata": {},
   "outputs": [],
   "source": [
    "# cb.DataSeriesPlots.compare(series=[series],\n",
    "#                            x_field='_time',\n",
    "#                            y_field='AVG',\n",
    "#                            yerr_field='STDDEV',\n",
    "#                            title='Average + Standard Deviation')"
   ]
  },
  {
   "cell_type": "code",
   "execution_count": null,
   "metadata": {
    "pycharm": {
     "name": "#%%\n"
    }
   },
   "outputs": [],
   "source": [
    "# (Issue #40) Use case 6.1. get computations that values has reached given thresholds (either over or under)\n",
    "# Criteria mode can be one of the following: ANY, AVERAGE, FINAL\n",
    "\n",
    "series = cb_analytics.thresholds_exceeding_computations(\n",
    "    field_name='AVERAGE_FITNESS',\n",
    "    criteria_mode=cb.CriteriaMode.AVERAGE,\n",
    "    thresholds=cb.Thresholds(lower=4.6045)\n",
    ")\n",
    "\n",
    "print(series[0].series_name)\n",
    "\n",
    "cb.DataSeriesPlots.compare(series=series,\n",
    "                           x_field='_time',\n",
    "                           y_field='AVERAGE_FITNESS',\n",
    "                           title='Series with max fitness over threshold')"
   ]
  },
  {
   "cell_type": "code",
   "execution_count": null,
   "metadata": {
    "pycharm": {
     "name": "#%%\n"
    }
   },
   "outputs": [],
   "source": [
    "# Use case 6.2. analyze computations for possible anomalies.\n",
    "\n",
    "reports = cb_anomalies.get_reports(\n",
    "    field_name='AVERAGE_FITNESS',\n",
    "    computations=computations\n",
    ")\n",
    "\n",
    "print(reports[0].__dict__)"
   ]
  },
  {
   "cell_type": "code",
   "execution_count": null,
   "metadata": {},
   "outputs": [],
   "source": [
    "# crud metadata"
   ]
  },
  {
   "cell_type": "code",
   "execution_count": null,
   "metadata": {},
   "outputs": [],
   "source": [
    "# experiment"
   ]
  },
  {
   "cell_type": "code",
   "execution_count": null,
   "metadata": {},
   "outputs": [],
   "source": [
    "created_experiment = cb_meta_experiment.find_or_create('experiment name', parameters={'important': 'very'})\n",
    "print(created_experiment)"
   ]
  },
  {
   "cell_type": "code",
   "execution_count": null,
   "metadata": {},
   "outputs": [],
   "source": [
    "new_name = 'updated namee'\n",
    "cb_meta_experiment.update(experiment=created_experiment, name=new_name, parameters={'color': 'red'}, override_params = False)"
   ]
  },
  {
   "cell_type": "code",
   "execution_count": null,
   "metadata": {},
   "outputs": [],
   "source": [
    "cb_meta_experiment.find_all()"
   ]
  },
  {
   "cell_type": "code",
   "execution_count": null,
   "metadata": {},
   "outputs": [],
   "source": [
    "cb_meta_experiment.find_by_name(new_name)"
   ]
  },
  {
   "cell_type": "code",
   "execution_count": null,
   "metadata": {},
   "outputs": [],
   "source": [
    "# experiment configuration"
   ]
  },
  {
   "cell_type": "code",
   "execution_count": null,
   "metadata": {},
   "outputs": [],
   "source": [
    "configuration_file_name = \"configuration file name\"\n",
    "created_configuration = cb_meta_experiment_configuration.find_or_create(created_experiment, configuration_file_name, {\"param1\": \"value\"})\n",
    "print(created_configuration)"
   ]
  },
  {
   "cell_type": "code",
   "execution_count": null,
   "metadata": {},
   "outputs": [],
   "source": [
    "cb_meta_experiment_configuration.find_by_configuration_file_name(configuration_file_name)"
   ]
  },
  {
   "cell_type": "code",
   "execution_count": null,
   "metadata": {},
   "outputs": [],
   "source": [
    "cb_meta_experiment_configuration.find_by_experiment_name(new_name)"
   ]
  },
  {
   "cell_type": "code",
   "execution_count": null,
   "metadata": {},
   "outputs": [],
   "source": [
    "new_file_name=\"new config file name\"\n",
    "cb_meta_experiment_configuration.update(configuration=created_configuration, configuration_file_name=new_file_name, parameters={\"additionalParam\": True}, override_params=False)"
   ]
  },
  {
   "cell_type": "code",
   "execution_count": null,
   "metadata": {},
   "outputs": [],
   "source": [
    "# experiment computation"
   ]
  },
  {
   "cell_type": "code",
   "execution_count": null,
   "metadata": {
    "scrolled": true
   },
   "outputs": [],
   "source": [
    "cb_meta_experiment_computation.create(created_configuration)"
   ]
  },
  {
   "cell_type": "code",
   "execution_count": null,
   "metadata": {},
   "outputs": [],
   "source": [
    "cb_meta_experiment_computation.find_by_configuration(created_configuration)"
   ]
  },
  {
   "cell_type": "code",
   "execution_count": null,
   "metadata": {
    "pycharm": {
     "name": "#%%\n"
    }
   },
   "outputs": [],
   "source": [
    "# (#47) - ApiConfiguration API\n",
    "\n",
    "property_key = cb.ApiPropertiesIndex.OVERRIDDEN_DEFAULT_BUCKET_NAME\n",
    "\n",
    "cb_api_configuration.set_property(property_key, \"cloudberry_logs2\")\n",
    "property_value = cb_api_configuration.get_property(property_key)\n",
    "print(property_value)\n",
    "\n",
    "cb_api_configuration.delete_property(property_key)\n",
    "\n",
    "property_value = cb_api_configuration.get_property(property_key)\n",
    "print(property_value)\n"
   ]
  },
  {
   "cell_type": "code",
   "execution_count": null,
   "metadata": {},
   "outputs": [],
   "source": [
    "configs = cb_meta_experiment_configuration.find_all()[0:5]\n",
    "\n",
    "best_configurations = cb_analytics.best_n_configurations(\n",
    "    2,\n",
    "    'BEST_SOLUTION_SO_FAR',\n",
    "    configs,\n",
    "    cb.OptimizationGoal.MIN,\n",
    "    cb.OptimizationKind.AREA_UNDER_CURVE\n",
    ")"
   ]
  },
  {
   "cell_type": "code",
   "execution_count": null,
   "metadata": {
    "pycharm": {
     "name": "#%%\n"
    }
   },
   "outputs": [],
   "source": [
    "# THRESHOLDS PER CONFIGURATION - compute mean series for CONGIFURATION and check if overally it exceeds given threshold(s)\n",
    "field = 'AVERAGE_FITNESS'\n",
    "series = cb_analytics.thresholds_exceeding_configurations(\n",
    "    field_name=field,\n",
    "    criteria_mode=cb.CriteriaMode.FINAL,\n",
    "    thresholds=cb.Thresholds(upper=2.6),\n",
    "    configurations=configs\n",
    ")"
   ]
  },
  {
   "cell_type": "code",
   "execution_count": null,
   "metadata": {
    "pycharm": {
     "name": "#%%\n"
    }
   },
   "outputs": [],
   "source": [
    "cb.DataSeriesPlots.compare(series=series,\n",
    "                           x_field='_time',\n",
    "                           y_field=field,\n",
    "                           title='Series with max fitness over threshold')"
   ]
  },
  {
   "cell_type": "code",
   "execution_count": null,
   "metadata": {
    "pycharm": {
     "name": "#%%\n"
    }
   },
   "outputs": [],
   "source": [
    "cb.DataSeriesPlots.compare(series=series,\n",
    "                           x_field='_time',\n",
    "                           y_field=field,\n",
    "                           title='Series with max fitness over threshold')"
   ]
  },
  {
   "cell_type": "code",
   "execution_count": null,
   "metadata": {},
   "outputs": [],
   "source": [
    "cb.DataSeriesPlots.compare(series=series,\n",
    "                           x_field='_time',\n",
    "                           y_field=field,\n",
    "                           title='Series with max fitness over threshold')"
   ]
  },
  {
   "cell_type": "code",
   "execution_count": null,
   "metadata": {},
   "outputs": [],
   "source": [
    "cb.DataSeriesPlots.compare(series=series,\n",
    "                           x_field='_time',\n",
    "                           y_field=field,\n",
    "                           title='Series with max fitness over threshold')"
   ]
  },
  {
   "cell_type": "code",
   "execution_count": null,
   "metadata": {},
   "outputs": [],
   "source": [
    "# delete data from meta and influx"
   ]
  },
  {
   "cell_type": "code",
   "execution_count": null,
   "metadata": {},
   "outputs": [],
   "source": [
    "some_comp = cb_meta_experiment_computation.find_all()[0]\n",
    "cb_deleteion.delete_computations([some_comp])"
   ]
  },
  {
   "cell_type": "code",
   "execution_count": null,
   "metadata": {},
   "outputs": [],
   "source": [
    "some_config = cb_meta_experiment_configuration.find_all()[0]\n",
    "cb_deleteion.delete_configurations([some_config])"
   ]
  },
  {
   "cell_type": "code",
   "execution_count": null,
   "metadata": {},
   "outputs": [],
   "source": [
    "some_exp = cb_meta_experiment.find_all()[0]\n",
    "cb_deleteion.delete_experiments([some_exp])"
   ]
  }
 ],
 "metadata": {
  "@webio": {
   "lastCommId": null,
   "lastKernelId": null
  },
  "kernelspec": {
   "display_name": "Python 3",
   "language": "python",
   "name": "python3"
  },
  "language_info": {
   "codemirror_mode": {
    "name": "ipython",
    "version": 3
   },
   "file_extension": ".py",
   "mimetype": "text/x-python",
   "name": "python",
   "nbconvert_exporter": "python",
   "pygments_lexer": "ipython3",
   "version": "3.8.3"
  }
 },
 "nbformat": 4,
 "nbformat_minor": 1
}
