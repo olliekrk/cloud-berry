{
 "cells": [
  {
   "cell_type": "code",
   "execution_count": null,
   "metadata": {},
   "outputs": [],
   "source": [
    "import cloudberry.plots as cp\n",
    "\n",
    "properties = cp.PlotProperties.default()\n",
    "properties.default_series_kind = cp.PlotSeriesKind.LINE\n",
    "properties.show_legend = True\n",
    "properties.x_axis_name = 'Time [s]'\n",
    "properties.y_axis_name = 'Values'\n",
    "builder = cp.PlotBuilder(properties)"
   ]
  },
  {
   "cell_type": "code",
   "execution_count": null,
   "metadata": {},
   "outputs": [],
   "source": [
    "import pandas as pd\n",
    "\n",
    "df = pd.DataFrame({\n",
    "    'time': [1, 2, 3, 4],\n",
    "    'value': [2, 1, 3, 7],\n",
    "    'value_error': [.2, .1, .3, .7],\n",
    "})\n",
    "df"
   ]
  },
  {
   "cell_type": "code",
   "execution_count": null,
   "metadata": {},
   "outputs": [],
   "source": [
    "serie1 = cp.PlotSeries(\n",
    "    name=\"1st series\", \n",
    "    data=df,\n",
    "    x_field=\"time\", \n",
    "    y_field=\"value\",\n",
    "    y_err_field=\"value_error\",\n",
    ")\n",
    "\n",
    "builder.add_series(serie1)"
   ]
  },
  {
   "cell_type": "code",
   "execution_count": null,
   "metadata": {},
   "outputs": [],
   "source": [
    "plot = builder.plot()"
   ]
  },
  {
   "cell_type": "code",
   "execution_count": null,
   "metadata": {},
   "outputs": [],
   "source": [
    "plot.show()"
   ]
  },
  {
   "cell_type": "code",
   "execution_count": null,
   "metadata": {
    "scrolled": true
   },
   "outputs": [],
   "source": [
    "builder.add_trend('Linear Regression', cp.PlotlyTrendLine('1st series', cp.PlotlyTrendLineKind.KNN10))\n",
    "plot_with_trend = builder.plot()\n",
    "plot_with_trend"
   ]
  },
  {
   "cell_type": "code",
   "execution_count": null,
   "outputs": [],
   "source": [
    "# TEST WITH CLOUDBERRY DATA"
   ],
   "metadata": {
    "collapsed": false,
    "pycharm": {
     "name": "#%%\n"
    }
   }
  },
  {
   "cell_type": "code",
   "execution_count": null,
   "outputs": [],
   "source": [
    "impo"
   ],
   "metadata": {
    "collapsed": false,
    "pycharm": {
     "name": "#%%\n"
    }
   }
  },
  {
   "cell_type": "code",
   "execution_count": null,
   "metadata": {},
   "outputs": [],
   "source": [
    "impo"
   ]
  },
  {
   "cell_type": "code",
   "execution_count": null,
   "metadata": {},
   "outputs": [],
   "source": [
    "impo"
   ]
  }
 ],
 "metadata": {
  "kernelspec": {
   "display_name": "Python 3",
   "language": "python",
   "name": "python3"
  },
  "language_info": {
   "codemirror_mode": {
    "name": "ipython",
    "version": 3
   },
   "file_extension": ".py",
   "mimetype": "text/x-python",
   "name": "python",
   "nbconvert_exporter": "python",
   "pygments_lexer": "ipython3",
   "version": "3.8.3"
  }
 },
 "nbformat": 4,
 "nbformat_minor": 1
}