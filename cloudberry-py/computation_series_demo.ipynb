{
 "cells": [
  {
   "cell_type": "code",
   "execution_count": null,
   "metadata": {
    "collapsed": true
   },
   "outputs": [],
   "source": [
    "# Define Cloudberry configuration\n",
    "\n",
    "import cloudberry.api as cb\n",
    "cb_port = 9000\n",
    "cb_config = cb.CloudberryConfig(f'http://localhost:{cb_port}')\n"
   ]
  },
  {
   "cell_type": "code",
   "execution_count": null,
   "outputs": [],
   "source": [
    "# Initialize API for data upload\n",
    "cb_uploader = cb.AgeFileUploader(cb_config)\n",
    "\n",
    "files_paths = [\n",
    "    \"./data/emas-20190411T232808.log\",\n",
    "    \"./data/emas-20190411T234810.log\",\n",
    "    \"./data/emas-20190412T000813.log\",\n",
    "    \"./data/emas-20190412T120536.log\",\n",
    "]\n",
    "\n",
    "files_details = cb.AgeUploadDetails(\n",
    "    headers_keys={\"[WH]\": \"[W]\", \"[SH]\": \"[S]\", \"[BH]\": \"[B]\"}\n",
    ")\n",
    "\n",
    "experiment_name = 'Example AgE experiment'\n",
    "\n",
    "uploaded_computations = []\n",
    "for fp in files_paths:\n",
    "    computation = cb_uploader.upload_file(file_path=fp, experiment_name=experiment_name, details=files_paths)\n",
    "    uploaded_computations.append(computation)"
   ],
   "metadata": {
    "collapsed": false,
    "pycharm": {
     "name": "#%%\n"
    }
   }
  },
  {
   "cell_type": "code",
   "execution_count": null,
   "outputs": [],
   "source": [],
   "metadata": {
    "collapsed": false,
    "pycharm": {
     "name": "#%%\n"
    }
   }
  },
  {
   "cell_type": "code",
   "execution_count": null,
   "outputs": [],
   "source": [
    "# Cleanup"
   ],
   "metadata": {
    "collapsed": false,
    "pycharm": {
     "name": "#%%\n"
    }
   }
  }
 ],
 "metadata": {
  "kernelspec": {
   "display_name": "Python 3",
   "language": "python",
   "name": "python3"
  },
  "language_info": {
   "codemirror_mode": {
    "name": "ipython",
    "version": 2
   },
   "file_extension": ".py",
   "mimetype": "text/x-python",
   "name": "python",
   "nbconvert_exporter": "python",
   "pygments_lexer": "ipython2",
   "version": "2.7.6"
  }
 },
 "nbformat": 4,
 "nbformat_minor": 0
}