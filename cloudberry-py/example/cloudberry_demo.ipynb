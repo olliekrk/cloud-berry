{
 "cells": [
  {
   "cell_type": "code",
   "execution_count": 1,
   "metadata": {},
   "outputs": [],
   "source": [
    "import cloudberry.api as cb"
   ]
  },
  {
   "cell_type": "code",
   "execution_count": 2,
   "metadata": {
    "pycharm": {
     "name": "#%%\n"
    }
   },
   "outputs": [],
   "source": [
    "# Define Cloudberry configuration\n",
    "cb_port = 9000\n",
    "cb_config = cb.CloudberryConfig(f'http://localhost:{cb_port}')\n",
    "\n",
    "# Initialize selected API(s)\n",
    "cb_data = cb.Data(cb_config)\n",
    "cb_analytics = cb.Analytics(cb_config)\n",
    "cb_buckets = cb.Buckets(cb_config)\n",
    "cb_meta = cb.Metadata(cb_config)\n",
    "cb_query = cb.Query(cb_config)\n",
    "cb_uploader = cb.AgeFileUploader(cb_config)"
   ]
  },
  {
   "cell_type": "code",
   "execution_count": null,
   "metadata": {
    "pycharm": {
     "name": "#%%\n"
    }
   },
   "outputs": [],
   "source": [
    "# cb.Data\n",
    "\n",
    "import math\n",
    "import datetime\n",
    "\n",
    "get_current_timestamp = lambda: math.trunc(datetime.datetime.utcnow().timestamp())\n",
    "\n",
    "current_time = get_current_timestamp()\n",
    "data_points = [\n",
    "    cb.DataPoint(time=current_time, fields={'version': 0.1}, tags={'origin': 'jupyter_notebook', 'type': 'api_demo'}),\n",
    "    cb.DataPoint(time=current_time + 1, fields={'version': 0.2}, tags={'origin': 'jupyter_notebook', 'type': 'api_demo'}),\n",
    "    cb.DataPoint(time=current_time + 2, fields={'version': 0.1}, tags={'origin': 'notebook', 'type': 'api_demo'}),\n",
    "    cb.DataPoint(time=current_time + 3, fields={'version': 0.2}, tags={'origin': 'notebook', 'type': 'api_demo'}),\n",
    "]\n",
    "\n",
    "# Save data points explicitly\n",
    "result = cb_data.save_data(data_points)\n",
    "print(result)\n",
    "\n",
    "# Get those data points with filters\n",
    "result = cb_data.get_data(cb.DataFilters(tags={'origin': 'notebook'}))\n",
    "print(len(result.data))\n",
    "\n",
    "result = cb_data.get_data(cb.DataFilters(fields={'version': 0.1}))\n",
    "print(len(result.data))\n",
    "\n",
    "result = cb_data.get_data(cb.DataFilters(tags={'origin': 'notebook'}, fields={'version': 0.1}))\n",
    "print(len(result.data), result.data)\n",
    "\n",
    "# Delete data points\n",
    "result = cb_data.get_data(cb.DataFilters(tags={'type': 'api_demo'}))\n",
    "print('before: ', len(result.data))\n",
    "\n",
    "# result = cb_data.delete_data(cb.DataFilters(tags={'type': 'api_demo'}))\n",
    "# print(result)\n",
    "\n",
    "result = cb_data.get_data(cb.DataFilters(tags={'type': 'api_demo'}))\n",
    "print('after: ', len(result.data))"
   ]
  },
  {
   "cell_type": "code",
   "execution_count": null,
   "metadata": {
    "pycharm": {
     "name": "#%%\n"
    }
   },
   "outputs": [],
   "source": [
    "# cb.Buckets\n",
    "\n",
    "buckets_names = cb_buckets.get_buckets_names()\n",
    "print(buckets_names)\n",
    "\n",
    "result = cb_buckets.create_bucket('wiadro_0')\n",
    "print(result)\n",
    "\n",
    "buckets_names = cb_buckets.get_buckets_names()\n",
    "print(buckets_names)\n",
    "\n",
    "result = cb_buckets.delete_bucket('wiadro_0')\n",
    "print(result)\n",
    "\n",
    "buckets_names = cb_buckets.get_buckets_names()\n",
    "print(buckets_names)"
   ]
  },
  {
   "cell_type": "code",
   "execution_count": null,
   "metadata": {
    "pycharm": {
     "name": "#%%\n"
    }
   },
   "outputs": [],
   "source": [
    "# cb.Query\n",
    "\n",
    "result = cb_query.query(\"\"\"\n",
    "from(bucket:\"cloudberry-logs\")\n",
    "|> range(start: -1h)\n",
    "|> filter(fn: (r) => r.type == \"api_demo\")\n",
    "\"\"\", raw=True)\n",
    "print(result)"
   ]
  },
  {
   "cell_type": "code",
   "execution_count": 5,
   "metadata": {
    "pycharm": {
     "name": "#%%\n"
    }
   },
   "outputs": [
    {
     "name": "stdout",
     "output_type": "stream",
     "text": [
      "5f35adc51650d32ea7850834\n"
     ]
    }
   ],
   "source": [
    "# cb.AgeFileUploader\n",
    "\n",
    "age_log_file_path = '../data/emas-20190412T120536.log'\n",
    "age_log_experiment_name = 'EMAS_AGE'\n",
    "age_log_headers_keys = {\n",
    "    \"[WH]\": \"[W]\",\n",
    "    \"[SH]\": \"[S]\",\n",
    "    \"[BH]\": \"[B]\"\n",
    "}\n",
    "\n",
    "evaluation_id = cb_uploader.upload_file(\n",
    "    file_name=age_log_file_path,\n",
    "    experiment_name=age_log_experiment_name,\n",
    "    details=cb.UploadDetails(headers_keys=age_log_headers_keys)\n",
    ")\n",
    "print(evaluation_id)\n"
   ]
  },
  {
   "cell_type": "code",
   "execution_count": 8,
   "metadata": {
    "pycharm": {
     "name": "#%%\n"
    }
   },
   "outputs": [
    {
     "ename": "KeyError",
     "evalue": "'seriesName'",
     "output_type": "error",
     "traceback": [
      "\u001B[0;31m---------------------------------------------------------------------------\u001B[0m",
      "\u001B[0;31mKeyError\u001B[0m                                  Traceback (most recent call last)",
      "\u001B[0;32m<ipython-input-8-ca4d0468f81d>\u001B[0m in \u001B[0;36m<module>\u001B[0;34m\u001B[0m\n\u001B[1;32m     22\u001B[0m series = cb_analytics.compare_evaluations(\n\u001B[1;32m     23\u001B[0m     \u001B[0mevaluation_ids\u001B[0m\u001B[0;34m=\u001B[0m\u001B[0mevaluation_ids\u001B[0m\u001B[0;34m,\u001B[0m\u001B[0;34m\u001B[0m\u001B[0;34m\u001B[0m\u001B[0m\n\u001B[0;32m---> 24\u001B[0;31m     \u001B[0mcompared_field\u001B[0m\u001B[0;34m=\u001B[0m\u001B[0mfitness_field\u001B[0m\u001B[0;34m\u001B[0m\u001B[0;34m\u001B[0m\u001B[0m\n\u001B[0m\u001B[1;32m     25\u001B[0m )\n\u001B[1;32m     26\u001B[0m \u001B[0;34m\u001B[0m\u001B[0m\n",
      "\u001B[0;32m/opt/projects/IdeaProjects/cloudberry/cloudberry-py/cloudberry/api/analytics.py\u001B[0m in \u001B[0;36mcompare_evaluations\u001B[0;34m(self, evaluation_ids, compared_field, measurement_name, bucket_name)\u001B[0m\n\u001B[1;32m     20\u001B[0m         \u001B[0mparams\u001B[0m \u001B[0;34m=\u001B[0m \u001B[0mAnalytics\u001B[0m\u001B[0;34m.\u001B[0m\u001B[0m_as_comparison_params\u001B[0m\u001B[0;34m(\u001B[0m\u001B[0mcompared_field\u001B[0m\u001B[0;34m,\u001B[0m \u001B[0mmeasurement_name\u001B[0m\u001B[0;34m,\u001B[0m \u001B[0mbucket_name\u001B[0m\u001B[0;34m)\u001B[0m\u001B[0;34m\u001B[0m\u001B[0;34m\u001B[0m\u001B[0m\n\u001B[1;32m     21\u001B[0m         \u001B[0mresponse\u001B[0m \u001B[0;34m=\u001B[0m \u001B[0mrequests\u001B[0m\u001B[0;34m.\u001B[0m\u001B[0mpost\u001B[0m\u001B[0;34m(\u001B[0m\u001B[0murl\u001B[0m\u001B[0;34m=\u001B[0m\u001B[0murl\u001B[0m\u001B[0;34m,\u001B[0m \u001B[0mparams\u001B[0m\u001B[0;34m=\u001B[0m\u001B[0mparams\u001B[0m\u001B[0;34m,\u001B[0m \u001B[0mjson\u001B[0m\u001B[0;34m=\u001B[0m\u001B[0mevaluation_ids\u001B[0m\u001B[0;34m)\u001B[0m\u001B[0;34m\u001B[0m\u001B[0;34m\u001B[0m\u001B[0m\n\u001B[0;32m---> 22\u001B[0;31m         \u001B[0;32mreturn\u001B[0m \u001B[0mAnalytics\u001B[0m\u001B[0;34m.\u001B[0m\u001B[0m_wrap_response\u001B[0m\u001B[0;34m(\u001B[0m\u001B[0mresponse\u001B[0m\u001B[0;34m)\u001B[0m\u001B[0;34m\u001B[0m\u001B[0;34m\u001B[0m\u001B[0m\n\u001B[0m\u001B[1;32m     23\u001B[0m \u001B[0;34m\u001B[0m\u001B[0m\n\u001B[1;32m     24\u001B[0m     def compare_evaluations_for_configuration(self,\n",
      "\u001B[0;32m/opt/projects/IdeaProjects/cloudberry/cloudberry-py/cloudberry/api/analytics.py\u001B[0m in \u001B[0;36m_wrap_response\u001B[0;34m(response)\u001B[0m\n\u001B[1;32m     56\u001B[0m     \u001B[0;34m@\u001B[0m\u001B[0mstaticmethod\u001B[0m\u001B[0;34m\u001B[0m\u001B[0;34m\u001B[0m\u001B[0m\n\u001B[1;32m     57\u001B[0m     \u001B[0;32mdef\u001B[0m \u001B[0m_wrap_response\u001B[0m\u001B[0;34m(\u001B[0m\u001B[0mresponse\u001B[0m\u001B[0;34m:\u001B[0m \u001B[0mrequests\u001B[0m\u001B[0;34m.\u001B[0m\u001B[0mResponse\u001B[0m\u001B[0;34m)\u001B[0m\u001B[0;34m:\u001B[0m\u001B[0;34m\u001B[0m\u001B[0;34m\u001B[0m\u001B[0m\n\u001B[0;32m---> 58\u001B[0;31m         \u001B[0;32mreturn\u001B[0m \u001B[0mDataSeries\u001B[0m\u001B[0;34m.\u001B[0m\u001B[0mfrom_json\u001B[0m\u001B[0;34m(\u001B[0m\u001B[0mresponse\u001B[0m\u001B[0;34m.\u001B[0m\u001B[0mjson\u001B[0m\u001B[0;34m(\u001B[0m\u001B[0;34m)\u001B[0m\u001B[0;34m)\u001B[0m\u001B[0;34m\u001B[0m\u001B[0;34m\u001B[0m\u001B[0m\n\u001B[0m\u001B[1;32m     59\u001B[0m \u001B[0;34m\u001B[0m\u001B[0m\n\u001B[1;32m     60\u001B[0m     \u001B[0;34m@\u001B[0m\u001B[0mstaticmethod\u001B[0m\u001B[0;34m\u001B[0m\u001B[0;34m\u001B[0m\u001B[0m\n",
      "\u001B[0;32m/opt/projects/IdeaProjects/cloudberry/cloudberry-py/cloudberry/api/wrappers.py\u001B[0m in \u001B[0;36mfrom_json\u001B[0;34m(data_series_json)\u001B[0m\n\u001B[1;32m     32\u001B[0m     \u001B[0;34m@\u001B[0m\u001B[0mstaticmethod\u001B[0m\u001B[0;34m\u001B[0m\u001B[0;34m\u001B[0m\u001B[0m\n\u001B[1;32m     33\u001B[0m     \u001B[0;32mdef\u001B[0m \u001B[0mfrom_json\u001B[0m\u001B[0;34m(\u001B[0m\u001B[0mdata_series_json\u001B[0m\u001B[0;34m:\u001B[0m \u001B[0mdict\u001B[0m\u001B[0;34m)\u001B[0m\u001B[0;34m:\u001B[0m\u001B[0;34m\u001B[0m\u001B[0;34m\u001B[0m\u001B[0m\n\u001B[0;32m---> 34\u001B[0;31m         \u001B[0;32mreturn\u001B[0m \u001B[0mDataSeries\u001B[0m\u001B[0;34m(\u001B[0m\u001B[0mseries_name\u001B[0m\u001B[0;34m=\u001B[0m\u001B[0mdata_series_json\u001B[0m\u001B[0;34m[\u001B[0m\u001B[0;34m'seriesName'\u001B[0m\u001B[0;34m]\u001B[0m\u001B[0;34m,\u001B[0m \u001B[0mdata\u001B[0m\u001B[0;34m=\u001B[0m\u001B[0mdata_series_json\u001B[0m\u001B[0;34m[\u001B[0m\u001B[0;34m'data'\u001B[0m\u001B[0;34m]\u001B[0m\u001B[0;34m)\u001B[0m\u001B[0;34m\u001B[0m\u001B[0;34m\u001B[0m\u001B[0m\n\u001B[0m",
      "\u001B[0;31mKeyError\u001B[0m: 'seriesName'"
     ]
    }
   ],
   "source": [
    "# cb.Analytics\n",
    "\n",
    "# Upload more data to Cloudberry\n",
    "emas_files = [\n",
    "    \"../data/emas-20190411T232808.log\",\n",
    "    \"../data/emas-20190411T234810.log\",\n",
    "    \"../data/emas-20190412T000813.log\",\n",
    "    \"../data/emas-20190412T120536.log\",\n",
    "]\n",
    "evaluation_ids = []\n",
    "for emas_file in emas_files:\n",
    "    evaluation_id = cb_uploader.upload_file(\n",
    "             file_name=emas_file,\n",
    "             experiment_name=age_log_experiment_name,\n",
    "             details=cb.UploadDetails(headers_keys=age_log_headers_keys)\n",
    "         )\n",
    "    evaluation_ids.append(evaluation_id)"
   ]
  },
  {
   "cell_type": "code",
   "execution_count": 14,
   "metadata": {
    "pycharm": {
     "name": "#%%\n"
    }
   },
   "outputs": [
    {
     "ename": "TypeError",
     "evalue": "list indices must be integers or slices, not str",
     "output_type": "error",
     "traceback": [
      "\u001B[0;31m---------------------------------------------------------------------------\u001B[0m",
      "\u001B[0;31mTypeError\u001B[0m                                 Traceback (most recent call last)",
      "\u001B[0;32m<ipython-input-14-76fc200dc6f2>\u001B[0m in \u001B[0;36m<module>\u001B[0;34m\u001B[0m\n\u001B[1;32m      4\u001B[0m series = cb_analytics.compare_evaluations(\n\u001B[1;32m      5\u001B[0m     \u001B[0mevaluation_ids\u001B[0m\u001B[0;34m=\u001B[0m\u001B[0mevaluation_ids\u001B[0m\u001B[0;34m,\u001B[0m\u001B[0;34m\u001B[0m\u001B[0;34m\u001B[0m\u001B[0m\n\u001B[0;32m----> 6\u001B[0;31m     \u001B[0mcompared_field\u001B[0m\u001B[0;34m=\u001B[0m\u001B[0mfitness_field\u001B[0m\u001B[0;34m\u001B[0m\u001B[0;34m\u001B[0m\u001B[0m\n\u001B[0m\u001B[1;32m      7\u001B[0m )\n\u001B[1;32m      8\u001B[0m \u001B[0;34m\u001B[0m\u001B[0m\n",
      "\u001B[0;32m/opt/projects/IdeaProjects/cloudberry/cloudberry-py/cloudberry/api/analytics.py\u001B[0m in \u001B[0;36mcompare_evaluations\u001B[0;34m(self, evaluation_ids, compared_field, measurement_name, bucket_name)\u001B[0m\n\u001B[1;32m     20\u001B[0m         \u001B[0mparams\u001B[0m \u001B[0;34m=\u001B[0m \u001B[0mAnalytics\u001B[0m\u001B[0;34m.\u001B[0m\u001B[0m_as_comparison_params\u001B[0m\u001B[0;34m(\u001B[0m\u001B[0mcompared_field\u001B[0m\u001B[0;34m,\u001B[0m \u001B[0mmeasurement_name\u001B[0m\u001B[0;34m,\u001B[0m \u001B[0mbucket_name\u001B[0m\u001B[0;34m)\u001B[0m\u001B[0;34m\u001B[0m\u001B[0;34m\u001B[0m\u001B[0m\n\u001B[1;32m     21\u001B[0m         \u001B[0mresponse\u001B[0m \u001B[0;34m=\u001B[0m \u001B[0mrequests\u001B[0m\u001B[0;34m.\u001B[0m\u001B[0mpost\u001B[0m\u001B[0;34m(\u001B[0m\u001B[0murl\u001B[0m\u001B[0;34m=\u001B[0m\u001B[0murl\u001B[0m\u001B[0;34m,\u001B[0m \u001B[0mparams\u001B[0m\u001B[0;34m=\u001B[0m\u001B[0mparams\u001B[0m\u001B[0;34m,\u001B[0m \u001B[0mjson\u001B[0m\u001B[0;34m=\u001B[0m\u001B[0mevaluation_ids\u001B[0m\u001B[0;34m)\u001B[0m\u001B[0;34m\u001B[0m\u001B[0;34m\u001B[0m\u001B[0m\n\u001B[0;32m---> 22\u001B[0;31m         \u001B[0;32mreturn\u001B[0m \u001B[0mAnalytics\u001B[0m\u001B[0;34m.\u001B[0m\u001B[0m_wrap_response\u001B[0m\u001B[0;34m(\u001B[0m\u001B[0mresponse\u001B[0m\u001B[0;34m)\u001B[0m\u001B[0;34m\u001B[0m\u001B[0;34m\u001B[0m\u001B[0m\n\u001B[0m\u001B[1;32m     23\u001B[0m \u001B[0;34m\u001B[0m\u001B[0m\n\u001B[1;32m     24\u001B[0m     def compare_evaluations_for_configuration(self,\n",
      "\u001B[0;32m/opt/projects/IdeaProjects/cloudberry/cloudberry-py/cloudberry/api/analytics.py\u001B[0m in \u001B[0;36m_wrap_response\u001B[0;34m(response)\u001B[0m\n\u001B[1;32m     56\u001B[0m     \u001B[0;34m@\u001B[0m\u001B[0mstaticmethod\u001B[0m\u001B[0;34m\u001B[0m\u001B[0;34m\u001B[0m\u001B[0m\n\u001B[1;32m     57\u001B[0m     \u001B[0;32mdef\u001B[0m \u001B[0m_wrap_response\u001B[0m\u001B[0;34m(\u001B[0m\u001B[0mresponse\u001B[0m\u001B[0;34m:\u001B[0m \u001B[0mrequests\u001B[0m\u001B[0;34m.\u001B[0m\u001B[0mResponse\u001B[0m\u001B[0;34m)\u001B[0m\u001B[0;34m:\u001B[0m\u001B[0;34m\u001B[0m\u001B[0;34m\u001B[0m\u001B[0m\n\u001B[0;32m---> 58\u001B[0;31m         \u001B[0;32mreturn\u001B[0m \u001B[0mDataSeries\u001B[0m\u001B[0;34m.\u001B[0m\u001B[0mfrom_json\u001B[0m\u001B[0;34m(\u001B[0m\u001B[0mresponse\u001B[0m\u001B[0;34m.\u001B[0m\u001B[0mjson\u001B[0m\u001B[0;34m(\u001B[0m\u001B[0;34m)\u001B[0m\u001B[0;34m)\u001B[0m\u001B[0;34m\u001B[0m\u001B[0;34m\u001B[0m\u001B[0m\n\u001B[0m\u001B[1;32m     59\u001B[0m \u001B[0;34m\u001B[0m\u001B[0m\n\u001B[1;32m     60\u001B[0m     \u001B[0;34m@\u001B[0m\u001B[0mstaticmethod\u001B[0m\u001B[0;34m\u001B[0m\u001B[0;34m\u001B[0m\u001B[0m\n",
      "\u001B[0;32m/opt/projects/IdeaProjects/cloudberry/cloudberry-py/cloudberry/api/wrappers.py\u001B[0m in \u001B[0;36mfrom_json\u001B[0;34m(data_series_json)\u001B[0m\n\u001B[1;32m     32\u001B[0m     \u001B[0;34m@\u001B[0m\u001B[0mstaticmethod\u001B[0m\u001B[0;34m\u001B[0m\u001B[0;34m\u001B[0m\u001B[0m\n\u001B[1;32m     33\u001B[0m     \u001B[0;32mdef\u001B[0m \u001B[0mfrom_json\u001B[0m\u001B[0;34m(\u001B[0m\u001B[0mdata_series_json\u001B[0m\u001B[0;34m:\u001B[0m \u001B[0mdict\u001B[0m\u001B[0;34m)\u001B[0m\u001B[0;34m:\u001B[0m\u001B[0;34m\u001B[0m\u001B[0;34m\u001B[0m\u001B[0m\n\u001B[0;32m---> 34\u001B[0;31m         \u001B[0;32mreturn\u001B[0m \u001B[0mDataSeries\u001B[0m\u001B[0;34m(\u001B[0m\u001B[0mseries_name\u001B[0m\u001B[0;34m=\u001B[0m\u001B[0mdata_series_json\u001B[0m\u001B[0;34m[\u001B[0m\u001B[0;34m'seriesName'\u001B[0m\u001B[0;34m]\u001B[0m\u001B[0;34m,\u001B[0m \u001B[0mdata\u001B[0m\u001B[0;34m=\u001B[0m\u001B[0mdata_series_json\u001B[0m\u001B[0;34m[\u001B[0m\u001B[0;34m'data'\u001B[0m\u001B[0;34m]\u001B[0m\u001B[0;34m)\u001B[0m\u001B[0;34m\u001B[0m\u001B[0;34m\u001B[0m\u001B[0m\n\u001B[0m",
      "\u001B[0;31mTypeError\u001B[0m: list indices must be integers or slices, not str"
     ]
    }
   ],
   "source": [
    "\n",
    "best_fitness_field = 'BEST_SOLUTION_SO_FAR'\n",
    "fitness_field = 'AVERAGE_FITNESS'\n",
    "\n",
    "series = cb_analytics.compare_evaluations(\n",
    "    evaluation_ids=evaluation_ids,\n",
    "    compared_field=fitness_field\n",
    ")\n",
    "\n",
    "cb.DataSeriesPlots.compare(series, '_time', fitness_field)"
   ]
  },
  {
   "cell_type": "code",
   "execution_count": null,
   "outputs": [],
   "source": [],
   "metadata": {
    "collapsed": false,
    "pycharm": {
     "name": "#%%\n"
    }
   }
  },
  {
   "cell_type": "code",
   "execution_count": null,
   "outputs": [],
   "source": [],
   "metadata": {
    "collapsed": false,
    "pycharm": {
     "name": "#%%\n"
    }
   }
  },
  {
   "cell_type": "code",
   "execution_count": null,
   "metadata": {
    "pycharm": {
     "name": "#%%\n"
    }
   },
   "outputs": [],
   "source": []
  },
  {
   "cell_type": "code",
   "execution_count": null,
   "metadata": {},
   "outputs": [],
   "source": []
  },
  {
   "cell_type": "code",
   "execution_count": null,
   "metadata": {},
   "outputs": [],
   "source": []
  }
 ],
 "metadata": {
  "@webio": {
   "lastCommId": null,
   "lastKernelId": null
  },
  "kernelspec": {
   "display_name": "Python 3",
   "language": "python",
   "name": "python3"
  },
  "language_info": {
   "codemirror_mode": {
    "name": "ipython",
    "version": 3
   },
   "file_extension": ".py",
   "mimetype": "text/x-python",
   "name": "python",
   "nbconvert_exporter": "python",
   "pygments_lexer": "ipython3",
   "version": "3.6.9"
  }
 },
 "nbformat": 4,
 "nbformat_minor": 1
}