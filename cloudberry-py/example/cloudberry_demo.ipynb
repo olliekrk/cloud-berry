{
 "cells": [
  {
   "cell_type": "code",
   "execution_count": 1,
   "metadata": {},
   "outputs": [],
   "source": [
    "import cloudberry.api as cb"
   ]
  },
  {
   "cell_type": "code",
   "execution_count": null,
   "metadata": {},
   "outputs": [],
   "source": []
  },
  {
   "cell_type": "code",
   "execution_count": null,
   "metadata": {},
   "outputs": [],
   "source": []
  },
  {
   "cell_type": "code",
   "execution_count": 2,
   "metadata": {
    "pycharm": {
     "name": "#%%\n"
    }
   },
   "outputs": [],
   "source": [
    "# Define Cloudberry configuration\n",
    "cb_port = 9000\n",
    "cb_config = cb.CloudberryConfig(f'http://localhost:{cb_port}')\n",
    "\n",
    "# Initialize selected API(s)\n",
    "cb_data = cb.Data(cb_config)\n",
    "cb_analytics = cb.Analytics(cb_config)\n",
    "cb_buckets = cb.Buckets(cb_config)\n",
    "cb_meta = cb.Metadata(cb_config)\n",
    "cb_query = cb.Query(cb_config)\n",
    "cb_uploader = cb.AgeFileUploader(cb_config)"
   ]
  },
  {
   "cell_type": "code",
   "execution_count": null,
   "metadata": {
    "pycharm": {
     "name": "#%%\n"
    }
   },
   "outputs": [],
   "source": [
    "# cb.Data\n",
    "\n",
    "import math\n",
    "import datetime\n",
    "\n",
    "get_current_timestamp = lambda: math.trunc(datetime.datetime.utcnow().timestamp())\n",
    "\n",
    "current_time = get_current_timestamp()\n",
    "data_points = [\n",
    "    cb.DataPoint(time=current_time, fields={'version': 0.1}, tags={'origin': 'jupyter_notebook', 'type': 'api_demo'}),\n",
    "    cb.DataPoint(time=current_time + 1, fields={'version': 0.2}, tags={'origin': 'jupyter_notebook', 'type': 'api_demo'}),\n",
    "    cb.DataPoint(time=current_time + 2, fields={'version': 0.1}, tags={'origin': 'notebook', 'type': 'api_demo'}),\n",
    "    cb.DataPoint(time=current_time + 3, fields={'version': 0.2}, tags={'origin': 'notebook', 'type': 'api_demo'}),\n",
    "]\n",
    "\n",
    "# Save data points explicitly\n",
    "result = cb_data.save_data(data_points)\n",
    "print(result)\n",
    "\n",
    "# Get those data points with filters\n",
    "result = cb_data.get_data(cb.DataFilters(tags={'origin': 'notebook'}))\n",
    "print(len(result.data))\n",
    "\n",
    "result = cb_data.get_data(cb.DataFilters(fields={'version': 0.1}))\n",
    "print(len(result.data))\n",
    "\n",
    "result = cb_data.get_data(cb.DataFilters(tags={'origin': 'notebook'}, fields={'version': 0.1}))\n",
    "print(len(result.data), result.data)\n",
    "\n",
    "# Delete data points\n",
    "result = cb_data.get_data(cb.DataFilters(tags={'type': 'api_demo'}))\n",
    "print('before: ', len(result.data))\n",
    "\n",
    "# result = cb_data.delete_data(cb.DataFilters(tags={'type': 'api_demo'}))\n",
    "# print(result)\n",
    "\n",
    "result = cb_data.get_data(cb.DataFilters(tags={'type': 'api_demo'}))\n",
    "print('after: ', len(result.data))"
   ]
  },
  {
   "cell_type": "code",
   "execution_count": null,
   "metadata": {
    "pycharm": {
     "name": "#%%\n"
    }
   },
   "outputs": [],
   "source": [
    "# cb.Buckets\n",
    "\n",
    "buckets_names = cb_buckets.get_buckets_names()\n",
    "print(buckets_names)\n",
    "\n",
    "result = cb_buckets.create_bucket('wiadro_0')\n",
    "print(result)\n",
    "\n",
    "buckets_names = cb_buckets.get_buckets_names()\n",
    "print(buckets_names)\n",
    "\n",
    "result = cb_buckets.delete_bucket('wiadro_0')\n",
    "print(result)\n",
    "\n",
    "buckets_names = cb_buckets.get_buckets_names()\n",
    "print(buckets_names)"
   ]
  },
  {
   "cell_type": "code",
   "execution_count": null,
   "metadata": {
    "pycharm": {
     "name": "#%%\n"
    }
   },
   "outputs": [],
   "source": [
    "# cb.Query\n",
    "\n",
    "result = cb_query.query(\"\"\"\n",
    "from(bucket:\"cloudberry-logs\")\n",
    "|> range(start: -1h)\n",
    "|> filter(fn: (r) => r.type == \"api_demo\")\n",
    "\"\"\", raw=True)\n",
    "print(result)"
   ]
  },
  {
   "cell_type": "code",
   "execution_count": 3,
   "metadata": {
    "pycharm": {
     "name": "#%%\n"
    }
   },
   "outputs": [
    {
     "name": "stdout",
     "output_type": "stream",
     "text": [
      "{'timestamp': 1597352686, 'counter': 12904865, 'time': 1597352686000, 'date': 1597352686000, 'machineIdentifier': 16693908, 'processIdentifier': 12704, 'timeSecond': 1597352686}\n"
     ]
    }
   ],
   "source": [
    "# cb.AgeFileUploader\n",
    "\n",
    "age_log_file_path = '../data/emas-20190412T120536.log'\n",
    "age_log_experiment_name = 'EMAS_AGE'\n",
    "age_log_headers_keys = {\n",
    "    \"[WH]\": \"[W]\",\n",
    "    \"[SH]\": \"[S]\",\n",
    "    \"[BH]\": \"[B]\"\n",
    "}\n",
    "\n",
    "evaluation_id = cb_uploader.upload_file(\n",
    "    file_name=age_log_file_path,\n",
    "    experiment_name=age_log_experiment_name,\n",
    "    details=cb.UploadDetails(headers_keys=age_log_headers_keys)\n",
    ")\n",
    "print(evaluation_id)"
   ]
  }
 ],
 "metadata": {
  "@webio": {
   "lastCommId": null,
   "lastKernelId": null
  },
  "kernelspec": {
   "display_name": "Python 3",
   "language": "python",
   "name": "python3"
  },
  "language_info": {
   "codemirror_mode": {
    "name": "ipython",
    "version": 3
   },
   "file_extension": ".py",
   "mimetype": "text/x-python",
   "name": "python",
   "nbconvert_exporter": "python",
   "pygments_lexer": "ipython3",
   "version": "3.6.9"
  }
 },
 "nbformat": 4,
 "nbformat_minor": 1
}