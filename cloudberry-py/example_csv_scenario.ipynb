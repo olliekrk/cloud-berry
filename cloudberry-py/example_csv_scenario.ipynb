{
 "cells": [
  {
   "cell_type": "markdown",
   "metadata": {
    "collapsed": true
   },
   "source": [
    "# 1. Inicjalizacja API\n",
    "W pierwszej komórce wskazujemy adres serwera cloudberry, a w drugiej tworzymy metadane opisujące eksperyment dla którego dane chcemy zaimportować."
   ]
  },
  {
   "cell_type": "code",
   "execution_count": 1,
   "metadata": {},
   "outputs": [],
   "source": [
    "# Define Cloudberry configuration\n",
    "\n",
    "import cloudberry.api as cb\n",
    "cb_port = 9000\n",
    "cb_config = cb.CloudberryConfig(f'http://localhost:{cb_port}')"
   ]
  },
  {
   "cell_type": "code",
   "execution_count": 2,
   "metadata": {},
   "outputs": [],
   "source": [
    "# Create metadata necessary for CSV upload - Experiment & Configuration\n",
    "\n",
    "meta_api = cb.Metadata(cb_config)\n",
    "experiment_api = meta_api.experiment_api()\n",
    "configuration_api = meta_api.experiment_configuration_api()\n",
    "\n",
    "csv_experiment_name = 'CSV Scenario Experiment'\n",
    "csv_configuration_name = 'CSV Scenario Configuration'\n",
    "\n",
    "# optionally pass parameters to save experiment with\n",
    "csv_experiment = experiment_api.find_or_create(csv_experiment_name, parameters = {})\n",
    "csv_configuration = configuration_api.find_or_create(csv_experiment, csv_configuration_name, parameters={'version': 1})"
   ]
  },
  {
   "cell_type": "markdown",
   "metadata": {},
   "source": [
    "Właściwy import danych z przykładowego pliku CSV:"
   ]
  },
  {
   "cell_type": "code",
   "execution_count": 3,
   "metadata": {},
   "outputs": [],
   "source": [
    "# CSV-like Data Upload API\n",
    "\n",
    "csv_api = cb.CsvFileUploader(cb_config)\n",
    "\n",
    "csv_file_path = './data/csv_evolution_data.csv'\n",
    "csv_details = cb.CsvUploadDetails(\n",
    "    tags_names=['ISLAND_ID'],\n",
    "    raw_fields=['BEST_SOLUTION'],\n",
    "    configuration=csv_configuration,\n",
    "    computation=None, # None for new one, otherwise append data to existing computation .\n",
    ")\n",
    "\n",
    "csv_computation = csv_api.upload_file(\n",
    "    csv_file_path,\n",
    "    csv_experiment_name,\n",
    "    csv_details\n",
    ")"
   ]
  },
  {
   "cell_type": "markdown",
   "metadata": {},
   "source": [
    "Weryfikacja zaimportowanych danych:"
   ]
  },
  {
   "cell_type": "code",
   "execution_count": 4,
   "metadata": {},
   "outputs": [
    {
     "data": {
      "text/html": [
       "<div>\n",
       "<style scoped>\n",
       "    .dataframe tbody tr th:only-of-type {\n",
       "        vertical-align: middle;\n",
       "    }\n",
       "\n",
       "    .dataframe tbody tr th {\n",
       "        vertical-align: top;\n",
       "    }\n",
       "\n",
       "    .dataframe thead th {\n",
       "        text-align: right;\n",
       "    }\n",
       "</style>\n",
       "<table border=\"1\" class=\"dataframe\">\n",
       "  <thead>\n",
       "    <tr style=\"text-align: right;\">\n",
       "      <th></th>\n",
       "      <th>_time</th>\n",
       "      <th>ISLAND_ID</th>\n",
       "      <th>_measurement</th>\n",
       "      <th>computationId</th>\n",
       "      <th>AGENTS_NUMBER</th>\n",
       "      <th>AVERAGE_MERIT_FACTOR_VALUE</th>\n",
       "      <th>BEST_SOLUTION</th>\n",
       "      <th>BEST_MERIT_FACTOR_VALUE</th>\n",
       "      <th>STEP</th>\n",
       "      <th>WHOLE_ENERGY</th>\n",
       "      <th>series_name</th>\n",
       "    </tr>\n",
       "  </thead>\n",
       "  <tbody>\n",
       "    <tr>\n",
       "      <th>0</th>\n",
       "      <td>0.000</td>\n",
       "      <td>1</td>\n",
       "      <td>cloudberry-default</td>\n",
       "      <td>5fc3c93ecf2e1902cd930561</td>\n",
       "      <td>100.0</td>\n",
       "      <td>1.178338</td>\n",
       "      <td>0000100101101101110111001110000111101000110111...</td>\n",
       "      <td>2.598752</td>\n",
       "      <td>0.0</td>\n",
       "      <td>100000.000</td>\n",
       "      <td>raw_data</td>\n",
       "    </tr>\n",
       "    <tr>\n",
       "      <th>1</th>\n",
       "      <td>1.524</td>\n",
       "      <td>1</td>\n",
       "      <td>cloudberry-default</td>\n",
       "      <td>5fc3c93ecf2e1902cd930561</td>\n",
       "      <td>736.0</td>\n",
       "      <td>1.134079</td>\n",
       "      <td>0000100101101101110111001110000111101000110111...</td>\n",
       "      <td>2.598752</td>\n",
       "      <td>5.0</td>\n",
       "      <td>100000.000</td>\n",
       "      <td>raw_data</td>\n",
       "    </tr>\n",
       "    <tr>\n",
       "      <th>2</th>\n",
       "      <td>2.796</td>\n",
       "      <td>1</td>\n",
       "      <td>cloudberry-default</td>\n",
       "      <td>5fc3c93ecf2e1902cd930561</td>\n",
       "      <td>1104.0</td>\n",
       "      <td>1.130674</td>\n",
       "      <td>0000100101101101110111001110000111101000110111...</td>\n",
       "      <td>2.598752</td>\n",
       "      <td>6.0</td>\n",
       "      <td>99999.610</td>\n",
       "      <td>raw_data</td>\n",
       "    </tr>\n",
       "    <tr>\n",
       "      <th>3</th>\n",
       "      <td>5.357</td>\n",
       "      <td>1</td>\n",
       "      <td>cloudberry-default</td>\n",
       "      <td>5fc3c93ecf2e1902cd930561</td>\n",
       "      <td>1656.0</td>\n",
       "      <td>1.128743</td>\n",
       "      <td>0000100101101101110111001110000111101000110111...</td>\n",
       "      <td>2.598752</td>\n",
       "      <td>7.0</td>\n",
       "      <td>99999.740</td>\n",
       "      <td>raw_data</td>\n",
       "    </tr>\n",
       "    <tr>\n",
       "      <th>4</th>\n",
       "      <td>10.581</td>\n",
       "      <td>1</td>\n",
       "      <td>cloudberry-default</td>\n",
       "      <td>5fc3c93ecf2e1902cd930561</td>\n",
       "      <td>2484.0</td>\n",
       "      <td>1.127798</td>\n",
       "      <td>0000100101101101110111001110000111101000110111...</td>\n",
       "      <td>2.598752</td>\n",
       "      <td>8.0</td>\n",
       "      <td>99999.766</td>\n",
       "      <td>raw_data</td>\n",
       "    </tr>\n",
       "    <tr>\n",
       "      <th>5</th>\n",
       "      <td>23.211</td>\n",
       "      <td>1</td>\n",
       "      <td>cloudberry-default</td>\n",
       "      <td>5fc3c93ecf2e1902cd930561</td>\n",
       "      <td>3716.0</td>\n",
       "      <td>1.127996</td>\n",
       "      <td>0001101111000011110110011100010011011111101110...</td>\n",
       "      <td>2.783964</td>\n",
       "      <td>9.0</td>\n",
       "      <td>99999.980</td>\n",
       "      <td>raw_data</td>\n",
       "    </tr>\n",
       "    <tr>\n",
       "      <th>6</th>\n",
       "      <td>41.554</td>\n",
       "      <td>1</td>\n",
       "      <td>cloudberry-default</td>\n",
       "      <td>5fc3c93ecf2e1902cd930561</td>\n",
       "      <td>5389.0</td>\n",
       "      <td>1.125509</td>\n",
       "      <td>0001101111000011110110011100010011011111101110...</td>\n",
       "      <td>2.783964</td>\n",
       "      <td>10.0</td>\n",
       "      <td>100000.340</td>\n",
       "      <td>raw_data</td>\n",
       "    </tr>\n",
       "    <tr>\n",
       "      <th>7</th>\n",
       "      <td>68.192</td>\n",
       "      <td>1</td>\n",
       "      <td>cloudberry-default</td>\n",
       "      <td>5fc3c93ecf2e1902cd930561</td>\n",
       "      <td>7044.0</td>\n",
       "      <td>1.128620</td>\n",
       "      <td>0001101111000011110110011100010011011111101110...</td>\n",
       "      <td>2.783964</td>\n",
       "      <td>11.0</td>\n",
       "      <td>99999.680</td>\n",
       "      <td>raw_data</td>\n",
       "    </tr>\n",
       "    <tr>\n",
       "      <th>8</th>\n",
       "      <td>110.047</td>\n",
       "      <td>1</td>\n",
       "      <td>cloudberry-default</td>\n",
       "      <td>5fc3c93ecf2e1902cd930561</td>\n",
       "      <td>8185.0</td>\n",
       "      <td>1.132329</td>\n",
       "      <td>0001101111000011110110011100010011011111101110...</td>\n",
       "      <td>2.783964</td>\n",
       "      <td>12.0</td>\n",
       "      <td>100000.810</td>\n",
       "      <td>raw_data</td>\n",
       "    </tr>\n",
       "    <tr>\n",
       "      <th>9</th>\n",
       "      <td>170.363</td>\n",
       "      <td>1</td>\n",
       "      <td>cloudberry-default</td>\n",
       "      <td>5fc3c93ecf2e1902cd930561</td>\n",
       "      <td>8914.0</td>\n",
       "      <td>1.149185</td>\n",
       "      <td>0001101111000011110110011100010011011111101110...</td>\n",
       "      <td>2.783964</td>\n",
       "      <td>13.0</td>\n",
       "      <td>99999.150</td>\n",
       "      <td>raw_data</td>\n",
       "    </tr>\n",
       "    <tr>\n",
       "      <th>10</th>\n",
       "      <td>262.531</td>\n",
       "      <td>1</td>\n",
       "      <td>cloudberry-default</td>\n",
       "      <td>5fc3c93ecf2e1902cd930561</td>\n",
       "      <td>9062.0</td>\n",
       "      <td>1.168938</td>\n",
       "      <td>0001101111000011110110011100010011011111101110...</td>\n",
       "      <td>2.783964</td>\n",
       "      <td>14.0</td>\n",
       "      <td>99999.766</td>\n",
       "      <td>raw_data</td>\n",
       "    </tr>\n",
       "    <tr>\n",
       "      <th>11</th>\n",
       "      <td>0.004</td>\n",
       "      <td>2</td>\n",
       "      <td>cloudberry-default</td>\n",
       "      <td>5fc3c93ecf2e1902cd930561</td>\n",
       "      <td>100.0</td>\n",
       "      <td>1.107238</td>\n",
       "      <td>0000100101101101110111001110000111101000110111...</td>\n",
       "      <td>2.598752</td>\n",
       "      <td>0.0</td>\n",
       "      <td>100000.000</td>\n",
       "      <td>raw_data</td>\n",
       "    </tr>\n",
       "    <tr>\n",
       "      <th>12</th>\n",
       "      <td>1.521</td>\n",
       "      <td>2</td>\n",
       "      <td>cloudberry-default</td>\n",
       "      <td>5fc3c93ecf2e1902cd930561</td>\n",
       "      <td>736.0</td>\n",
       "      <td>1.132071</td>\n",
       "      <td>0000100101101101110111001110000111101000110111...</td>\n",
       "      <td>2.598752</td>\n",
       "      <td>5.0</td>\n",
       "      <td>100000.000</td>\n",
       "      <td>raw_data</td>\n",
       "    </tr>\n",
       "    <tr>\n",
       "      <th>13</th>\n",
       "      <td>2.800</td>\n",
       "      <td>2</td>\n",
       "      <td>cloudberry-default</td>\n",
       "      <td>5fc3c93ecf2e1902cd930561</td>\n",
       "      <td>1104.0</td>\n",
       "      <td>1.138668</td>\n",
       "      <td>0000100101101101110111001110000111101000110111...</td>\n",
       "      <td>2.598752</td>\n",
       "      <td>6.0</td>\n",
       "      <td>99999.640</td>\n",
       "      <td>raw_data</td>\n",
       "    </tr>\n",
       "    <tr>\n",
       "      <th>14</th>\n",
       "      <td>5.354</td>\n",
       "      <td>2</td>\n",
       "      <td>cloudberry-default</td>\n",
       "      <td>5fc3c93ecf2e1902cd930561</td>\n",
       "      <td>1656.0</td>\n",
       "      <td>1.137541</td>\n",
       "      <td>0000100101101101110111001110000111101000110111...</td>\n",
       "      <td>2.598752</td>\n",
       "      <td>7.0</td>\n",
       "      <td>99999.640</td>\n",
       "      <td>raw_data</td>\n",
       "    </tr>\n",
       "    <tr>\n",
       "      <th>15</th>\n",
       "      <td>10.569</td>\n",
       "      <td>2</td>\n",
       "      <td>cloudberry-default</td>\n",
       "      <td>5fc3c93ecf2e1902cd930561</td>\n",
       "      <td>2484.0</td>\n",
       "      <td>1.140161</td>\n",
       "      <td>0000100101101101110111001110000111101000110111...</td>\n",
       "      <td>2.598752</td>\n",
       "      <td>8.0</td>\n",
       "      <td>99999.890</td>\n",
       "      <td>raw_data</td>\n",
       "    </tr>\n",
       "    <tr>\n",
       "      <th>16</th>\n",
       "      <td>23.207</td>\n",
       "      <td>2</td>\n",
       "      <td>cloudberry-default</td>\n",
       "      <td>5fc3c93ecf2e1902cd930561</td>\n",
       "      <td>3714.0</td>\n",
       "      <td>1.140331</td>\n",
       "      <td>0001101111000011110110011100010011011111101110...</td>\n",
       "      <td>2.783964</td>\n",
       "      <td>9.0</td>\n",
       "      <td>100016.080</td>\n",
       "      <td>raw_data</td>\n",
       "    </tr>\n",
       "    <tr>\n",
       "      <th>17</th>\n",
       "      <td>41.562</td>\n",
       "      <td>2</td>\n",
       "      <td>cloudberry-default</td>\n",
       "      <td>5fc3c93ecf2e1902cd930561</td>\n",
       "      <td>5389.0</td>\n",
       "      <td>1.139221</td>\n",
       "      <td>0001101111000011110110011100010011011111101110...</td>\n",
       "      <td>2.783964</td>\n",
       "      <td>10.0</td>\n",
       "      <td>99996.914</td>\n",
       "      <td>raw_data</td>\n",
       "    </tr>\n",
       "    <tr>\n",
       "      <th>18</th>\n",
       "      <td>68.188</td>\n",
       "      <td>2</td>\n",
       "      <td>cloudberry-default</td>\n",
       "      <td>5fc3c93ecf2e1902cd930561</td>\n",
       "      <td>7024.0</td>\n",
       "      <td>1.138085</td>\n",
       "      <td>0001101111000011110110011100010011011111101110...</td>\n",
       "      <td>2.783964</td>\n",
       "      <td>11.0</td>\n",
       "      <td>100015.484</td>\n",
       "      <td>raw_data</td>\n",
       "    </tr>\n",
       "    <tr>\n",
       "      <th>19</th>\n",
       "      <td>110.058</td>\n",
       "      <td>2</td>\n",
       "      <td>cloudberry-default</td>\n",
       "      <td>5fc3c93ecf2e1902cd930561</td>\n",
       "      <td>8196.0</td>\n",
       "      <td>1.141299</td>\n",
       "      <td>0001101111000011110110011100010011011111101110...</td>\n",
       "      <td>2.783964</td>\n",
       "      <td>12.0</td>\n",
       "      <td>100016.340</td>\n",
       "      <td>raw_data</td>\n",
       "    </tr>\n",
       "    <tr>\n",
       "      <th>20</th>\n",
       "      <td>170.367</td>\n",
       "      <td>2</td>\n",
       "      <td>cloudberry-default</td>\n",
       "      <td>5fc3c93ecf2e1902cd930561</td>\n",
       "      <td>8906.0</td>\n",
       "      <td>1.156371</td>\n",
       "      <td>0001101111000011110110011100010011011111101110...</td>\n",
       "      <td>2.783964</td>\n",
       "      <td>13.0</td>\n",
       "      <td>100005.190</td>\n",
       "      <td>raw_data</td>\n",
       "    </tr>\n",
       "    <tr>\n",
       "      <th>21</th>\n",
       "      <td>262.535</td>\n",
       "      <td>2</td>\n",
       "      <td>cloudberry-default</td>\n",
       "      <td>5fc3c93ecf2e1902cd930561</td>\n",
       "      <td>9061.0</td>\n",
       "      <td>1.180563</td>\n",
       "      <td>0001101111000011110110011100010011011111101110...</td>\n",
       "      <td>2.783964</td>\n",
       "      <td>14.0</td>\n",
       "      <td>100005.590</td>\n",
       "      <td>raw_data</td>\n",
       "    </tr>\n",
       "    <tr>\n",
       "      <th>22</th>\n",
       "      <td>0.006</td>\n",
       "      <td>3</td>\n",
       "      <td>cloudberry-default</td>\n",
       "      <td>5fc3c93ecf2e1902cd930561</td>\n",
       "      <td>100.0</td>\n",
       "      <td>1.079795</td>\n",
       "      <td>0000100101101101110111001110000111101000110111...</td>\n",
       "      <td>2.598752</td>\n",
       "      <td>0.0</td>\n",
       "      <td>100000.000</td>\n",
       "      <td>raw_data</td>\n",
       "    </tr>\n",
       "    <tr>\n",
       "      <th>23</th>\n",
       "      <td>1.511</td>\n",
       "      <td>3</td>\n",
       "      <td>cloudberry-default</td>\n",
       "      <td>5fc3c93ecf2e1902cd930561</td>\n",
       "      <td>736.0</td>\n",
       "      <td>1.086519</td>\n",
       "      <td>0000100101101101110111001110000111101000110111...</td>\n",
       "      <td>2.598752</td>\n",
       "      <td>5.0</td>\n",
       "      <td>100000.000</td>\n",
       "      <td>raw_data</td>\n",
       "    </tr>\n",
       "    <tr>\n",
       "      <th>24</th>\n",
       "      <td>2.798</td>\n",
       "      <td>3</td>\n",
       "      <td>cloudberry-default</td>\n",
       "      <td>5fc3c93ecf2e1902cd930561</td>\n",
       "      <td>1104.0</td>\n",
       "      <td>1.090716</td>\n",
       "      <td>0000100101101101110111001110000111101000110111...</td>\n",
       "      <td>2.598752</td>\n",
       "      <td>6.0</td>\n",
       "      <td>99999.500</td>\n",
       "      <td>raw_data</td>\n",
       "    </tr>\n",
       "    <tr>\n",
       "      <th>25</th>\n",
       "      <td>5.347</td>\n",
       "      <td>3</td>\n",
       "      <td>cloudberry-default</td>\n",
       "      <td>5fc3c93ecf2e1902cd930561</td>\n",
       "      <td>1656.0</td>\n",
       "      <td>1.082037</td>\n",
       "      <td>0000100101101101110111001110000111101000110111...</td>\n",
       "      <td>2.598752</td>\n",
       "      <td>7.0</td>\n",
       "      <td>99999.660</td>\n",
       "      <td>raw_data</td>\n",
       "    </tr>\n",
       "    <tr>\n",
       "      <th>26</th>\n",
       "      <td>10.578</td>\n",
       "      <td>3</td>\n",
       "      <td>cloudberry-default</td>\n",
       "      <td>5fc3c93ecf2e1902cd930561</td>\n",
       "      <td>2484.0</td>\n",
       "      <td>1.083951</td>\n",
       "      <td>0000100101101101110111001110000111101000110111...</td>\n",
       "      <td>2.598752</td>\n",
       "      <td>8.0</td>\n",
       "      <td>99999.780</td>\n",
       "      <td>raw_data</td>\n",
       "    </tr>\n",
       "    <tr>\n",
       "      <th>27</th>\n",
       "      <td>23.196</td>\n",
       "      <td>3</td>\n",
       "      <td>cloudberry-default</td>\n",
       "      <td>5fc3c93ecf2e1902cd930561</td>\n",
       "      <td>3716.0</td>\n",
       "      <td>1.082343</td>\n",
       "      <td>0001101111000011110110011100010011011111101110...</td>\n",
       "      <td>2.783964</td>\n",
       "      <td>9.0</td>\n",
       "      <td>99983.930</td>\n",
       "      <td>raw_data</td>\n",
       "    </tr>\n",
       "    <tr>\n",
       "      <th>28</th>\n",
       "      <td>41.569</td>\n",
       "      <td>3</td>\n",
       "      <td>cloudberry-default</td>\n",
       "      <td>5fc3c93ecf2e1902cd930561</td>\n",
       "      <td>5400.0</td>\n",
       "      <td>1.082748</td>\n",
       "      <td>0001101111000011110110011100010011011111101110...</td>\n",
       "      <td>2.783964</td>\n",
       "      <td>10.0</td>\n",
       "      <td>99984.060</td>\n",
       "      <td>raw_data</td>\n",
       "    </tr>\n",
       "    <tr>\n",
       "      <th>29</th>\n",
       "      <td>68.184</td>\n",
       "      <td>3</td>\n",
       "      <td>cloudberry-default</td>\n",
       "      <td>5fc3c93ecf2e1902cd930561</td>\n",
       "      <td>7061.0</td>\n",
       "      <td>1.086506</td>\n",
       "      <td>0001101111000011110110011100010011011111101110...</td>\n",
       "      <td>2.783964</td>\n",
       "      <td>11.0</td>\n",
       "      <td>99965.164</td>\n",
       "      <td>raw_data</td>\n",
       "    </tr>\n",
       "    <tr>\n",
       "      <th>30</th>\n",
       "      <td>110.062</td>\n",
       "      <td>3</td>\n",
       "      <td>cloudberry-default</td>\n",
       "      <td>5fc3c93ecf2e1902cd930561</td>\n",
       "      <td>8201.0</td>\n",
       "      <td>1.088893</td>\n",
       "      <td>0001101111000011110110011100010011011111101110...</td>\n",
       "      <td>2.783964</td>\n",
       "      <td>12.0</td>\n",
       "      <td>99951.266</td>\n",
       "      <td>raw_data</td>\n",
       "    </tr>\n",
       "    <tr>\n",
       "      <th>31</th>\n",
       "      <td>170.352</td>\n",
       "      <td>3</td>\n",
       "      <td>cloudberry-default</td>\n",
       "      <td>5fc3c93ecf2e1902cd930561</td>\n",
       "      <td>8895.0</td>\n",
       "      <td>1.104922</td>\n",
       "      <td>0001101111000011110110011100010011011111101110...</td>\n",
       "      <td>2.783964</td>\n",
       "      <td>13.0</td>\n",
       "      <td>99949.640</td>\n",
       "      <td>raw_data</td>\n",
       "    </tr>\n",
       "    <tr>\n",
       "      <th>32</th>\n",
       "      <td>262.520</td>\n",
       "      <td>3</td>\n",
       "      <td>cloudberry-default</td>\n",
       "      <td>5fc3c93ecf2e1902cd930561</td>\n",
       "      <td>9033.0</td>\n",
       "      <td>1.123334</td>\n",
       "      <td>0001101111000011110110011100010011011111101110...</td>\n",
       "      <td>2.783964</td>\n",
       "      <td>14.0</td>\n",
       "      <td>99950.330</td>\n",
       "      <td>raw_data</td>\n",
       "    </tr>\n",
       "    <tr>\n",
       "      <th>33</th>\n",
       "      <td>0.009</td>\n",
       "      <td>4</td>\n",
       "      <td>cloudberry-default</td>\n",
       "      <td>5fc3c93ecf2e1902cd930561</td>\n",
       "      <td>100.0</td>\n",
       "      <td>1.084050</td>\n",
       "      <td>0000100101101101110111001110000111101000110111...</td>\n",
       "      <td>2.598752</td>\n",
       "      <td>0.0</td>\n",
       "      <td>100000.000</td>\n",
       "      <td>raw_data</td>\n",
       "    </tr>\n",
       "    <tr>\n",
       "      <th>34</th>\n",
       "      <td>1.527</td>\n",
       "      <td>4</td>\n",
       "      <td>cloudberry-default</td>\n",
       "      <td>5fc3c93ecf2e1902cd930561</td>\n",
       "      <td>736.0</td>\n",
       "      <td>1.085011</td>\n",
       "      <td>0000100101101101110111001110000111101000110111...</td>\n",
       "      <td>2.598752</td>\n",
       "      <td>5.0</td>\n",
       "      <td>100000.000</td>\n",
       "      <td>raw_data</td>\n",
       "    </tr>\n",
       "    <tr>\n",
       "      <th>35</th>\n",
       "      <td>2.788</td>\n",
       "      <td>4</td>\n",
       "      <td>cloudberry-default</td>\n",
       "      <td>5fc3c93ecf2e1902cd930561</td>\n",
       "      <td>1104.0</td>\n",
       "      <td>1.078816</td>\n",
       "      <td>0000100101101101110111001110000111101000110111...</td>\n",
       "      <td>2.598752</td>\n",
       "      <td>6.0</td>\n",
       "      <td>99999.610</td>\n",
       "      <td>raw_data</td>\n",
       "    </tr>\n",
       "    <tr>\n",
       "      <th>36</th>\n",
       "      <td>5.351</td>\n",
       "      <td>4</td>\n",
       "      <td>cloudberry-default</td>\n",
       "      <td>5fc3c93ecf2e1902cd930561</td>\n",
       "      <td>1656.0</td>\n",
       "      <td>1.082483</td>\n",
       "      <td>0000100101101101110111001110000111101000110111...</td>\n",
       "      <td>2.598752</td>\n",
       "      <td>7.0</td>\n",
       "      <td>99999.680</td>\n",
       "      <td>raw_data</td>\n",
       "    </tr>\n",
       "    <tr>\n",
       "      <th>37</th>\n",
       "      <td>10.575</td>\n",
       "      <td>4</td>\n",
       "      <td>cloudberry-default</td>\n",
       "      <td>5fc3c93ecf2e1902cd930561</td>\n",
       "      <td>2484.0</td>\n",
       "      <td>1.083431</td>\n",
       "      <td>0000100101101101110111001110000111101000110111...</td>\n",
       "      <td>2.598752</td>\n",
       "      <td>8.0</td>\n",
       "      <td>99999.720</td>\n",
       "      <td>raw_data</td>\n",
       "    </tr>\n",
       "    <tr>\n",
       "      <th>38</th>\n",
       "      <td>23.215</td>\n",
       "      <td>4</td>\n",
       "      <td>cloudberry-default</td>\n",
       "      <td>5fc3c93ecf2e1902cd930561</td>\n",
       "      <td>3716.0</td>\n",
       "      <td>1.085411</td>\n",
       "      <td>0001101111000011110110011100010011011111101110...</td>\n",
       "      <td>2.783964</td>\n",
       "      <td>9.0</td>\n",
       "      <td>99999.910</td>\n",
       "      <td>raw_data</td>\n",
       "    </tr>\n",
       "    <tr>\n",
       "      <th>39</th>\n",
       "      <td>41.566</td>\n",
       "      <td>4</td>\n",
       "      <td>cloudberry-default</td>\n",
       "      <td>5fc3c93ecf2e1902cd930561</td>\n",
       "      <td>5370.0</td>\n",
       "      <td>1.085347</td>\n",
       "      <td>0001101111000011110110011100010011011111101110...</td>\n",
       "      <td>2.783964</td>\n",
       "      <td>10.0</td>\n",
       "      <td>100019.530</td>\n",
       "      <td>raw_data</td>\n",
       "    </tr>\n",
       "    <tr>\n",
       "      <th>40</th>\n",
       "      <td>68.173</td>\n",
       "      <td>4</td>\n",
       "      <td>cloudberry-default</td>\n",
       "      <td>5fc3c93ecf2e1902cd930561</td>\n",
       "      <td>7025.0</td>\n",
       "      <td>1.086970</td>\n",
       "      <td>0001101111000011110110011100010011011111101110...</td>\n",
       "      <td>2.783964</td>\n",
       "      <td>11.0</td>\n",
       "      <td>100019.234</td>\n",
       "      <td>raw_data</td>\n",
       "    </tr>\n",
       "    <tr>\n",
       "      <th>41</th>\n",
       "      <td>110.065</td>\n",
       "      <td>4</td>\n",
       "      <td>cloudberry-default</td>\n",
       "      <td>5fc3c93ecf2e1902cd930561</td>\n",
       "      <td>8169.0</td>\n",
       "      <td>1.092880</td>\n",
       "      <td>0001101111000011110110011100010011011111101110...</td>\n",
       "      <td>2.783964</td>\n",
       "      <td>12.0</td>\n",
       "      <td>100035.016</td>\n",
       "      <td>raw_data</td>\n",
       "    </tr>\n",
       "    <tr>\n",
       "      <th>42</th>\n",
       "      <td>170.371</td>\n",
       "      <td>4</td>\n",
       "      <td>cloudberry-default</td>\n",
       "      <td>5fc3c93ecf2e1902cd930561</td>\n",
       "      <td>8878.0</td>\n",
       "      <td>1.107345</td>\n",
       "      <td>0001101111000011110110011100010011011111101110...</td>\n",
       "      <td>2.783964</td>\n",
       "      <td>13.0</td>\n",
       "      <td>100042.984</td>\n",
       "      <td>raw_data</td>\n",
       "    </tr>\n",
       "    <tr>\n",
       "      <th>43</th>\n",
       "      <td>262.527</td>\n",
       "      <td>4</td>\n",
       "      <td>cloudberry-default</td>\n",
       "      <td>5fc3c93ecf2e1902cd930561</td>\n",
       "      <td>9014.0</td>\n",
       "      <td>1.129159</td>\n",
       "      <td>0001101111000011110110011100010011011111101110...</td>\n",
       "      <td>2.783964</td>\n",
       "      <td>14.0</td>\n",
       "      <td>100043.500</td>\n",
       "      <td>raw_data</td>\n",
       "    </tr>\n",
       "  </tbody>\n",
       "</table>\n",
       "</div>"
      ],
      "text/plain": [
       "      _time ISLAND_ID        _measurement             computationId  \\\n",
       "0     0.000         1  cloudberry-default  5fc3c93ecf2e1902cd930561   \n",
       "1     1.524         1  cloudberry-default  5fc3c93ecf2e1902cd930561   \n",
       "2     2.796         1  cloudberry-default  5fc3c93ecf2e1902cd930561   \n",
       "3     5.357         1  cloudberry-default  5fc3c93ecf2e1902cd930561   \n",
       "4    10.581         1  cloudberry-default  5fc3c93ecf2e1902cd930561   \n",
       "5    23.211         1  cloudberry-default  5fc3c93ecf2e1902cd930561   \n",
       "6    41.554         1  cloudberry-default  5fc3c93ecf2e1902cd930561   \n",
       "7    68.192         1  cloudberry-default  5fc3c93ecf2e1902cd930561   \n",
       "8   110.047         1  cloudberry-default  5fc3c93ecf2e1902cd930561   \n",
       "9   170.363         1  cloudberry-default  5fc3c93ecf2e1902cd930561   \n",
       "10  262.531         1  cloudberry-default  5fc3c93ecf2e1902cd930561   \n",
       "11    0.004         2  cloudberry-default  5fc3c93ecf2e1902cd930561   \n",
       "12    1.521         2  cloudberry-default  5fc3c93ecf2e1902cd930561   \n",
       "13    2.800         2  cloudberry-default  5fc3c93ecf2e1902cd930561   \n",
       "14    5.354         2  cloudberry-default  5fc3c93ecf2e1902cd930561   \n",
       "15   10.569         2  cloudberry-default  5fc3c93ecf2e1902cd930561   \n",
       "16   23.207         2  cloudberry-default  5fc3c93ecf2e1902cd930561   \n",
       "17   41.562         2  cloudberry-default  5fc3c93ecf2e1902cd930561   \n",
       "18   68.188         2  cloudberry-default  5fc3c93ecf2e1902cd930561   \n",
       "19  110.058         2  cloudberry-default  5fc3c93ecf2e1902cd930561   \n",
       "20  170.367         2  cloudberry-default  5fc3c93ecf2e1902cd930561   \n",
       "21  262.535         2  cloudberry-default  5fc3c93ecf2e1902cd930561   \n",
       "22    0.006         3  cloudberry-default  5fc3c93ecf2e1902cd930561   \n",
       "23    1.511         3  cloudberry-default  5fc3c93ecf2e1902cd930561   \n",
       "24    2.798         3  cloudberry-default  5fc3c93ecf2e1902cd930561   \n",
       "25    5.347         3  cloudberry-default  5fc3c93ecf2e1902cd930561   \n",
       "26   10.578         3  cloudberry-default  5fc3c93ecf2e1902cd930561   \n",
       "27   23.196         3  cloudberry-default  5fc3c93ecf2e1902cd930561   \n",
       "28   41.569         3  cloudberry-default  5fc3c93ecf2e1902cd930561   \n",
       "29   68.184         3  cloudberry-default  5fc3c93ecf2e1902cd930561   \n",
       "30  110.062         3  cloudberry-default  5fc3c93ecf2e1902cd930561   \n",
       "31  170.352         3  cloudberry-default  5fc3c93ecf2e1902cd930561   \n",
       "32  262.520         3  cloudberry-default  5fc3c93ecf2e1902cd930561   \n",
       "33    0.009         4  cloudberry-default  5fc3c93ecf2e1902cd930561   \n",
       "34    1.527         4  cloudberry-default  5fc3c93ecf2e1902cd930561   \n",
       "35    2.788         4  cloudberry-default  5fc3c93ecf2e1902cd930561   \n",
       "36    5.351         4  cloudberry-default  5fc3c93ecf2e1902cd930561   \n",
       "37   10.575         4  cloudberry-default  5fc3c93ecf2e1902cd930561   \n",
       "38   23.215         4  cloudberry-default  5fc3c93ecf2e1902cd930561   \n",
       "39   41.566         4  cloudberry-default  5fc3c93ecf2e1902cd930561   \n",
       "40   68.173         4  cloudberry-default  5fc3c93ecf2e1902cd930561   \n",
       "41  110.065         4  cloudberry-default  5fc3c93ecf2e1902cd930561   \n",
       "42  170.371         4  cloudberry-default  5fc3c93ecf2e1902cd930561   \n",
       "43  262.527         4  cloudberry-default  5fc3c93ecf2e1902cd930561   \n",
       "\n",
       "    AGENTS_NUMBER  AVERAGE_MERIT_FACTOR_VALUE  \\\n",
       "0           100.0                    1.178338   \n",
       "1           736.0                    1.134079   \n",
       "2          1104.0                    1.130674   \n",
       "3          1656.0                    1.128743   \n",
       "4          2484.0                    1.127798   \n",
       "5          3716.0                    1.127996   \n",
       "6          5389.0                    1.125509   \n",
       "7          7044.0                    1.128620   \n",
       "8          8185.0                    1.132329   \n",
       "9          8914.0                    1.149185   \n",
       "10         9062.0                    1.168938   \n",
       "11          100.0                    1.107238   \n",
       "12          736.0                    1.132071   \n",
       "13         1104.0                    1.138668   \n",
       "14         1656.0                    1.137541   \n",
       "15         2484.0                    1.140161   \n",
       "16         3714.0                    1.140331   \n",
       "17         5389.0                    1.139221   \n",
       "18         7024.0                    1.138085   \n",
       "19         8196.0                    1.141299   \n",
       "20         8906.0                    1.156371   \n",
       "21         9061.0                    1.180563   \n",
       "22          100.0                    1.079795   \n",
       "23          736.0                    1.086519   \n",
       "24         1104.0                    1.090716   \n",
       "25         1656.0                    1.082037   \n",
       "26         2484.0                    1.083951   \n",
       "27         3716.0                    1.082343   \n",
       "28         5400.0                    1.082748   \n",
       "29         7061.0                    1.086506   \n",
       "30         8201.0                    1.088893   \n",
       "31         8895.0                    1.104922   \n",
       "32         9033.0                    1.123334   \n",
       "33          100.0                    1.084050   \n",
       "34          736.0                    1.085011   \n",
       "35         1104.0                    1.078816   \n",
       "36         1656.0                    1.082483   \n",
       "37         2484.0                    1.083431   \n",
       "38         3716.0                    1.085411   \n",
       "39         5370.0                    1.085347   \n",
       "40         7025.0                    1.086970   \n",
       "41         8169.0                    1.092880   \n",
       "42         8878.0                    1.107345   \n",
       "43         9014.0                    1.129159   \n",
       "\n",
       "                                        BEST_SOLUTION  \\\n",
       "0   0000100101101101110111001110000111101000110111...   \n",
       "1   0000100101101101110111001110000111101000110111...   \n",
       "2   0000100101101101110111001110000111101000110111...   \n",
       "3   0000100101101101110111001110000111101000110111...   \n",
       "4   0000100101101101110111001110000111101000110111...   \n",
       "5   0001101111000011110110011100010011011111101110...   \n",
       "6   0001101111000011110110011100010011011111101110...   \n",
       "7   0001101111000011110110011100010011011111101110...   \n",
       "8   0001101111000011110110011100010011011111101110...   \n",
       "9   0001101111000011110110011100010011011111101110...   \n",
       "10  0001101111000011110110011100010011011111101110...   \n",
       "11  0000100101101101110111001110000111101000110111...   \n",
       "12  0000100101101101110111001110000111101000110111...   \n",
       "13  0000100101101101110111001110000111101000110111...   \n",
       "14  0000100101101101110111001110000111101000110111...   \n",
       "15  0000100101101101110111001110000111101000110111...   \n",
       "16  0001101111000011110110011100010011011111101110...   \n",
       "17  0001101111000011110110011100010011011111101110...   \n",
       "18  0001101111000011110110011100010011011111101110...   \n",
       "19  0001101111000011110110011100010011011111101110...   \n",
       "20  0001101111000011110110011100010011011111101110...   \n",
       "21  0001101111000011110110011100010011011111101110...   \n",
       "22  0000100101101101110111001110000111101000110111...   \n",
       "23  0000100101101101110111001110000111101000110111...   \n",
       "24  0000100101101101110111001110000111101000110111...   \n",
       "25  0000100101101101110111001110000111101000110111...   \n",
       "26  0000100101101101110111001110000111101000110111...   \n",
       "27  0001101111000011110110011100010011011111101110...   \n",
       "28  0001101111000011110110011100010011011111101110...   \n",
       "29  0001101111000011110110011100010011011111101110...   \n",
       "30  0001101111000011110110011100010011011111101110...   \n",
       "31  0001101111000011110110011100010011011111101110...   \n",
       "32  0001101111000011110110011100010011011111101110...   \n",
       "33  0000100101101101110111001110000111101000110111...   \n",
       "34  0000100101101101110111001110000111101000110111...   \n",
       "35  0000100101101101110111001110000111101000110111...   \n",
       "36  0000100101101101110111001110000111101000110111...   \n",
       "37  0000100101101101110111001110000111101000110111...   \n",
       "38  0001101111000011110110011100010011011111101110...   \n",
       "39  0001101111000011110110011100010011011111101110...   \n",
       "40  0001101111000011110110011100010011011111101110...   \n",
       "41  0001101111000011110110011100010011011111101110...   \n",
       "42  0001101111000011110110011100010011011111101110...   \n",
       "43  0001101111000011110110011100010011011111101110...   \n",
       "\n",
       "    BEST_MERIT_FACTOR_VALUE  STEP  WHOLE_ENERGY series_name  \n",
       "0                  2.598752   0.0    100000.000    raw_data  \n",
       "1                  2.598752   5.0    100000.000    raw_data  \n",
       "2                  2.598752   6.0     99999.610    raw_data  \n",
       "3                  2.598752   7.0     99999.740    raw_data  \n",
       "4                  2.598752   8.0     99999.766    raw_data  \n",
       "5                  2.783964   9.0     99999.980    raw_data  \n",
       "6                  2.783964  10.0    100000.340    raw_data  \n",
       "7                  2.783964  11.0     99999.680    raw_data  \n",
       "8                  2.783964  12.0    100000.810    raw_data  \n",
       "9                  2.783964  13.0     99999.150    raw_data  \n",
       "10                 2.783964  14.0     99999.766    raw_data  \n",
       "11                 2.598752   0.0    100000.000    raw_data  \n",
       "12                 2.598752   5.0    100000.000    raw_data  \n",
       "13                 2.598752   6.0     99999.640    raw_data  \n",
       "14                 2.598752   7.0     99999.640    raw_data  \n",
       "15                 2.598752   8.0     99999.890    raw_data  \n",
       "16                 2.783964   9.0    100016.080    raw_data  \n",
       "17                 2.783964  10.0     99996.914    raw_data  \n",
       "18                 2.783964  11.0    100015.484    raw_data  \n",
       "19                 2.783964  12.0    100016.340    raw_data  \n",
       "20                 2.783964  13.0    100005.190    raw_data  \n",
       "21                 2.783964  14.0    100005.590    raw_data  \n",
       "22                 2.598752   0.0    100000.000    raw_data  \n",
       "23                 2.598752   5.0    100000.000    raw_data  \n",
       "24                 2.598752   6.0     99999.500    raw_data  \n",
       "25                 2.598752   7.0     99999.660    raw_data  \n",
       "26                 2.598752   8.0     99999.780    raw_data  \n",
       "27                 2.783964   9.0     99983.930    raw_data  \n",
       "28                 2.783964  10.0     99984.060    raw_data  \n",
       "29                 2.783964  11.0     99965.164    raw_data  \n",
       "30                 2.783964  12.0     99951.266    raw_data  \n",
       "31                 2.783964  13.0     99949.640    raw_data  \n",
       "32                 2.783964  14.0     99950.330    raw_data  \n",
       "33                 2.598752   0.0    100000.000    raw_data  \n",
       "34                 2.598752   5.0    100000.000    raw_data  \n",
       "35                 2.598752   6.0     99999.610    raw_data  \n",
       "36                 2.598752   7.0     99999.680    raw_data  \n",
       "37                 2.598752   8.0     99999.720    raw_data  \n",
       "38                 2.783964   9.0     99999.910    raw_data  \n",
       "39                 2.783964  10.0    100019.530    raw_data  \n",
       "40                 2.783964  11.0    100019.234    raw_data  \n",
       "41                 2.783964  12.0    100035.016    raw_data  \n",
       "42                 2.783964  13.0    100042.984    raw_data  \n",
       "43                 2.783964  14.0    100043.500    raw_data  "
      ]
     },
     "execution_count": 4,
     "metadata": {},
     "output_type": "execute_result"
    }
   ],
   "source": [
    "data_api = cb.Data(cb_config)\n",
    "filters = cb.DataFilters(tags={}, computation=csv_computation)\n",
    "series = data_api.get_data(filters)\n",
    "series.as_data_frame"
   ]
  },
  {
   "cell_type": "markdown",
   "metadata": {},
   "source": [
    "Następnie możemy stworzyć wykres dla wybranego parametru.\n",
    "Opcjonalnie odfiltrowujemy wyniki - w przykładzie poniżej interesuje nas tylko wyspa o ID 1."
   ]
  },
  {
   "cell_type": "code",
   "execution_count": 41,
   "metadata": {},
   "outputs": [],
   "source": [
    "cb_computations = cb.ComputationSeries(cb_config)\n",
    "\n",
    "field = 'WHOLE_ENERGY'\n",
    "data_filters = cb.DataFilters(\n",
    "    tags={\n",
    "        'ISLAND_ID': 1\n",
    "    }\n",
    ")\n",
    "\n",
    "series_pack = cb_computations.for_computations(\n",
    "    computations=[csv_computation],\n",
    "    field_name=field,\n",
    "    api_params=None,\n",
    "    data_filters=data_filters\n",
    ")"
   ]
  },
  {
   "cell_type": "code",
   "execution_count": 38,
   "metadata": {},
   "outputs": [],
   "source": [
    "from cloudberry.converters import SeriesConverter\n",
    "\n",
    "plot_pack = SeriesConverter.data_series_pack_to_plot_series_pack(\n",
    "    ds=series_pack,\n",
    "    x_field=\"_time\",\n",
    "    y_field=field,\n",
    ")"
   ]
  },
  {
   "cell_type": "code",
   "execution_count": 39,
   "metadata": {},
   "outputs": [],
   "source": [
    "import cloudberry.plots as cp\n",
    "\n",
    "props = cp.PlotProperties.default()\n",
    "props.title = \"Whole energy over time\"\n",
    "props.show_title = True\n",
    "props.show_averages = False\n",
    "props.x_axis_name = \"TIME\"\n",
    "props.y_axis_name = field\n",
    "props.default_series_kind = cp.PlotSeriesKind.LINE"
   ]
  },
  {
   "cell_type": "code",
   "execution_count": 40,
   "metadata": {},
   "outputs": [
    {
     "data": {
      "application/vnd.plotly.v1+json": {
       "config": {
        "plotlyServerURL": "https://plot.ly"
       },
       "data": [
        {
         "line": {
          "color": "#b9bf40"
         },
         "marker": {
          "symbol": "circle"
         },
         "mode": "lines",
         "name": "computation_5fc3c93ecf2e1902cd930561",
         "type": "scatter",
         "x": [
          0,
          1.524,
          2.796,
          5.357,
          10.581,
          23.211,
          41.554,
          68.192,
          110.047,
          170.363,
          262.531
         ],
         "y": [
          100000,
          100000,
          99999.61,
          99999.74,
          99999.766,
          99999.98,
          100000.34,
          99999.68,
          100000.81,
          99999.15,
          99999.766
         ]
        }
       ],
       "layout": {
        "margin": {
         "b": 60,
         "l": 60,
         "r": 30,
         "t": 30
        },
        "showlegend": true,
        "template": {
         "data": {
          "bar": [
           {
            "error_x": {
             "color": "#2a3f5f"
            },
            "error_y": {
             "color": "#2a3f5f"
            },
            "marker": {
             "line": {
              "color": "#E5ECF6",
              "width": 0.5
             }
            },
            "type": "bar"
           }
          ],
          "barpolar": [
           {
            "marker": {
             "line": {
              "color": "#E5ECF6",
              "width": 0.5
             }
            },
            "type": "barpolar"
           }
          ],
          "carpet": [
           {
            "aaxis": {
             "endlinecolor": "#2a3f5f",
             "gridcolor": "white",
             "linecolor": "white",
             "minorgridcolor": "white",
             "startlinecolor": "#2a3f5f"
            },
            "baxis": {
             "endlinecolor": "#2a3f5f",
             "gridcolor": "white",
             "linecolor": "white",
             "minorgridcolor": "white",
             "startlinecolor": "#2a3f5f"
            },
            "type": "carpet"
           }
          ],
          "choropleth": [
           {
            "colorbar": {
             "outlinewidth": 0,
             "ticks": ""
            },
            "type": "choropleth"
           }
          ],
          "contour": [
           {
            "colorbar": {
             "outlinewidth": 0,
             "ticks": ""
            },
            "colorscale": [
             [
              0,
              "#0d0887"
             ],
             [
              0.1111111111111111,
              "#46039f"
             ],
             [
              0.2222222222222222,
              "#7201a8"
             ],
             [
              0.3333333333333333,
              "#9c179e"
             ],
             [
              0.4444444444444444,
              "#bd3786"
             ],
             [
              0.5555555555555556,
              "#d8576b"
             ],
             [
              0.6666666666666666,
              "#ed7953"
             ],
             [
              0.7777777777777778,
              "#fb9f3a"
             ],
             [
              0.8888888888888888,
              "#fdca26"
             ],
             [
              1,
              "#f0f921"
             ]
            ],
            "type": "contour"
           }
          ],
          "contourcarpet": [
           {
            "colorbar": {
             "outlinewidth": 0,
             "ticks": ""
            },
            "type": "contourcarpet"
           }
          ],
          "heatmap": [
           {
            "colorbar": {
             "outlinewidth": 0,
             "ticks": ""
            },
            "colorscale": [
             [
              0,
              "#0d0887"
             ],
             [
              0.1111111111111111,
              "#46039f"
             ],
             [
              0.2222222222222222,
              "#7201a8"
             ],
             [
              0.3333333333333333,
              "#9c179e"
             ],
             [
              0.4444444444444444,
              "#bd3786"
             ],
             [
              0.5555555555555556,
              "#d8576b"
             ],
             [
              0.6666666666666666,
              "#ed7953"
             ],
             [
              0.7777777777777778,
              "#fb9f3a"
             ],
             [
              0.8888888888888888,
              "#fdca26"
             ],
             [
              1,
              "#f0f921"
             ]
            ],
            "type": "heatmap"
           }
          ],
          "heatmapgl": [
           {
            "colorbar": {
             "outlinewidth": 0,
             "ticks": ""
            },
            "colorscale": [
             [
              0,
              "#0d0887"
             ],
             [
              0.1111111111111111,
              "#46039f"
             ],
             [
              0.2222222222222222,
              "#7201a8"
             ],
             [
              0.3333333333333333,
              "#9c179e"
             ],
             [
              0.4444444444444444,
              "#bd3786"
             ],
             [
              0.5555555555555556,
              "#d8576b"
             ],
             [
              0.6666666666666666,
              "#ed7953"
             ],
             [
              0.7777777777777778,
              "#fb9f3a"
             ],
             [
              0.8888888888888888,
              "#fdca26"
             ],
             [
              1,
              "#f0f921"
             ]
            ],
            "type": "heatmapgl"
           }
          ],
          "histogram": [
           {
            "marker": {
             "colorbar": {
              "outlinewidth": 0,
              "ticks": ""
             }
            },
            "type": "histogram"
           }
          ],
          "histogram2d": [
           {
            "colorbar": {
             "outlinewidth": 0,
             "ticks": ""
            },
            "colorscale": [
             [
              0,
              "#0d0887"
             ],
             [
              0.1111111111111111,
              "#46039f"
             ],
             [
              0.2222222222222222,
              "#7201a8"
             ],
             [
              0.3333333333333333,
              "#9c179e"
             ],
             [
              0.4444444444444444,
              "#bd3786"
             ],
             [
              0.5555555555555556,
              "#d8576b"
             ],
             [
              0.6666666666666666,
              "#ed7953"
             ],
             [
              0.7777777777777778,
              "#fb9f3a"
             ],
             [
              0.8888888888888888,
              "#fdca26"
             ],
             [
              1,
              "#f0f921"
             ]
            ],
            "type": "histogram2d"
           }
          ],
          "histogram2dcontour": [
           {
            "colorbar": {
             "outlinewidth": 0,
             "ticks": ""
            },
            "colorscale": [
             [
              0,
              "#0d0887"
             ],
             [
              0.1111111111111111,
              "#46039f"
             ],
             [
              0.2222222222222222,
              "#7201a8"
             ],
             [
              0.3333333333333333,
              "#9c179e"
             ],
             [
              0.4444444444444444,
              "#bd3786"
             ],
             [
              0.5555555555555556,
              "#d8576b"
             ],
             [
              0.6666666666666666,
              "#ed7953"
             ],
             [
              0.7777777777777778,
              "#fb9f3a"
             ],
             [
              0.8888888888888888,
              "#fdca26"
             ],
             [
              1,
              "#f0f921"
             ]
            ],
            "type": "histogram2dcontour"
           }
          ],
          "mesh3d": [
           {
            "colorbar": {
             "outlinewidth": 0,
             "ticks": ""
            },
            "type": "mesh3d"
           }
          ],
          "parcoords": [
           {
            "line": {
             "colorbar": {
              "outlinewidth": 0,
              "ticks": ""
             }
            },
            "type": "parcoords"
           }
          ],
          "pie": [
           {
            "automargin": true,
            "type": "pie"
           }
          ],
          "scatter": [
           {
            "marker": {
             "colorbar": {
              "outlinewidth": 0,
              "ticks": ""
             }
            },
            "type": "scatter"
           }
          ],
          "scatter3d": [
           {
            "line": {
             "colorbar": {
              "outlinewidth": 0,
              "ticks": ""
             }
            },
            "marker": {
             "colorbar": {
              "outlinewidth": 0,
              "ticks": ""
             }
            },
            "type": "scatter3d"
           }
          ],
          "scattercarpet": [
           {
            "marker": {
             "colorbar": {
              "outlinewidth": 0,
              "ticks": ""
             }
            },
            "type": "scattercarpet"
           }
          ],
          "scattergeo": [
           {
            "marker": {
             "colorbar": {
              "outlinewidth": 0,
              "ticks": ""
             }
            },
            "type": "scattergeo"
           }
          ],
          "scattergl": [
           {
            "marker": {
             "colorbar": {
              "outlinewidth": 0,
              "ticks": ""
             }
            },
            "type": "scattergl"
           }
          ],
          "scattermapbox": [
           {
            "marker": {
             "colorbar": {
              "outlinewidth": 0,
              "ticks": ""
             }
            },
            "type": "scattermapbox"
           }
          ],
          "scatterpolar": [
           {
            "marker": {
             "colorbar": {
              "outlinewidth": 0,
              "ticks": ""
             }
            },
            "type": "scatterpolar"
           }
          ],
          "scatterpolargl": [
           {
            "marker": {
             "colorbar": {
              "outlinewidth": 0,
              "ticks": ""
             }
            },
            "type": "scatterpolargl"
           }
          ],
          "scatterternary": [
           {
            "marker": {
             "colorbar": {
              "outlinewidth": 0,
              "ticks": ""
             }
            },
            "type": "scatterternary"
           }
          ],
          "surface": [
           {
            "colorbar": {
             "outlinewidth": 0,
             "ticks": ""
            },
            "colorscale": [
             [
              0,
              "#0d0887"
             ],
             [
              0.1111111111111111,
              "#46039f"
             ],
             [
              0.2222222222222222,
              "#7201a8"
             ],
             [
              0.3333333333333333,
              "#9c179e"
             ],
             [
              0.4444444444444444,
              "#bd3786"
             ],
             [
              0.5555555555555556,
              "#d8576b"
             ],
             [
              0.6666666666666666,
              "#ed7953"
             ],
             [
              0.7777777777777778,
              "#fb9f3a"
             ],
             [
              0.8888888888888888,
              "#fdca26"
             ],
             [
              1,
              "#f0f921"
             ]
            ],
            "type": "surface"
           }
          ],
          "table": [
           {
            "cells": {
             "fill": {
              "color": "#EBF0F8"
             },
             "line": {
              "color": "white"
             }
            },
            "header": {
             "fill": {
              "color": "#C8D4E3"
             },
             "line": {
              "color": "white"
             }
            },
            "type": "table"
           }
          ]
         },
         "layout": {
          "annotationdefaults": {
           "arrowcolor": "#2a3f5f",
           "arrowhead": 0,
           "arrowwidth": 1
          },
          "coloraxis": {
           "colorbar": {
            "outlinewidth": 0,
            "ticks": ""
           }
          },
          "colorscale": {
           "diverging": [
            [
             0,
             "#8e0152"
            ],
            [
             0.1,
             "#c51b7d"
            ],
            [
             0.2,
             "#de77ae"
            ],
            [
             0.3,
             "#f1b6da"
            ],
            [
             0.4,
             "#fde0ef"
            ],
            [
             0.5,
             "#f7f7f7"
            ],
            [
             0.6,
             "#e6f5d0"
            ],
            [
             0.7,
             "#b8e186"
            ],
            [
             0.8,
             "#7fbc41"
            ],
            [
             0.9,
             "#4d9221"
            ],
            [
             1,
             "#276419"
            ]
           ],
           "sequential": [
            [
             0,
             "#0d0887"
            ],
            [
             0.1111111111111111,
             "#46039f"
            ],
            [
             0.2222222222222222,
             "#7201a8"
            ],
            [
             0.3333333333333333,
             "#9c179e"
            ],
            [
             0.4444444444444444,
             "#bd3786"
            ],
            [
             0.5555555555555556,
             "#d8576b"
            ],
            [
             0.6666666666666666,
             "#ed7953"
            ],
            [
             0.7777777777777778,
             "#fb9f3a"
            ],
            [
             0.8888888888888888,
             "#fdca26"
            ],
            [
             1,
             "#f0f921"
            ]
           ],
           "sequentialminus": [
            [
             0,
             "#0d0887"
            ],
            [
             0.1111111111111111,
             "#46039f"
            ],
            [
             0.2222222222222222,
             "#7201a8"
            ],
            [
             0.3333333333333333,
             "#9c179e"
            ],
            [
             0.4444444444444444,
             "#bd3786"
            ],
            [
             0.5555555555555556,
             "#d8576b"
            ],
            [
             0.6666666666666666,
             "#ed7953"
            ],
            [
             0.7777777777777778,
             "#fb9f3a"
            ],
            [
             0.8888888888888888,
             "#fdca26"
            ],
            [
             1,
             "#f0f921"
            ]
           ]
          },
          "colorway": [
           "#636efa",
           "#EF553B",
           "#00cc96",
           "#ab63fa",
           "#FFA15A",
           "#19d3f3",
           "#FF6692",
           "#B6E880",
           "#FF97FF",
           "#FECB52"
          ],
          "font": {
           "color": "#2a3f5f"
          },
          "geo": {
           "bgcolor": "white",
           "lakecolor": "white",
           "landcolor": "#E5ECF6",
           "showlakes": true,
           "showland": true,
           "subunitcolor": "white"
          },
          "hoverlabel": {
           "align": "left"
          },
          "hovermode": "closest",
          "mapbox": {
           "style": "light"
          },
          "paper_bgcolor": "white",
          "plot_bgcolor": "#E5ECF6",
          "polar": {
           "angularaxis": {
            "gridcolor": "white",
            "linecolor": "white",
            "ticks": ""
           },
           "bgcolor": "#E5ECF6",
           "radialaxis": {
            "gridcolor": "white",
            "linecolor": "white",
            "ticks": ""
           }
          },
          "scene": {
           "xaxis": {
            "backgroundcolor": "#E5ECF6",
            "gridcolor": "white",
            "gridwidth": 2,
            "linecolor": "white",
            "showbackground": true,
            "ticks": "",
            "zerolinecolor": "white"
           },
           "yaxis": {
            "backgroundcolor": "#E5ECF6",
            "gridcolor": "white",
            "gridwidth": 2,
            "linecolor": "white",
            "showbackground": true,
            "ticks": "",
            "zerolinecolor": "white"
           },
           "zaxis": {
            "backgroundcolor": "#E5ECF6",
            "gridcolor": "white",
            "gridwidth": 2,
            "linecolor": "white",
            "showbackground": true,
            "ticks": "",
            "zerolinecolor": "white"
           }
          },
          "shapedefaults": {
           "line": {
            "color": "#2a3f5f"
           }
          },
          "ternary": {
           "aaxis": {
            "gridcolor": "white",
            "linecolor": "white",
            "ticks": ""
           },
           "baxis": {
            "gridcolor": "white",
            "linecolor": "white",
            "ticks": ""
           },
           "bgcolor": "#E5ECF6",
           "caxis": {
            "gridcolor": "white",
            "linecolor": "white",
            "ticks": ""
           }
          },
          "title": {
           "x": 0.05
          },
          "xaxis": {
           "automargin": true,
           "gridcolor": "white",
           "linecolor": "white",
           "ticks": "",
           "title": {
            "standoff": 15
           },
           "zerolinecolor": "white",
           "zerolinewidth": 2
          },
          "yaxis": {
           "automargin": true,
           "gridcolor": "white",
           "linecolor": "white",
           "ticks": "",
           "title": {
            "standoff": 15
           },
           "zerolinecolor": "white",
           "zerolinewidth": 2
          }
         }
        },
        "title": {
         "text": "Whole energy over time"
        },
        "xaxis": {
         "title": {
          "text": "TIME"
         },
         "visible": true
        },
        "yaxis": {
         "title": {
          "text": "WHOLE_ENERGY"
         },
         "visible": true
        }
       }
      },
      "text/html": [
       "<div>                            <div id=\"e37bbda5-afa7-4e47-9e04-fd8453c34052\" class=\"plotly-graph-div\" style=\"height:525px; width:100%;\"></div>            <script type=\"text/javascript\">                require([\"plotly\"], function(Plotly) {                    window.PLOTLYENV=window.PLOTLYENV || {};                                    if (document.getElementById(\"e37bbda5-afa7-4e47-9e04-fd8453c34052\")) {                    Plotly.newPlot(                        \"e37bbda5-afa7-4e47-9e04-fd8453c34052\",                        [{\"line\": {\"color\": \"#b9bf40\"}, \"marker\": {\"symbol\": \"circle\"}, \"mode\": \"lines\", \"name\": \"computation_5fc3c93ecf2e1902cd930561\", \"type\": \"scatter\", \"x\": [0.0, 1.524, 2.796, 5.357, 10.581, 23.211, 41.554, 68.192, 110.047, 170.363, 262.531], \"y\": [100000.0, 100000.0, 99999.61, 99999.74, 99999.766, 99999.98, 100000.34, 99999.68, 100000.81, 99999.15, 99999.766]}],                        {\"margin\": {\"b\": 60, \"l\": 60, \"r\": 30, \"t\": 30}, \"showlegend\": true, \"template\": {\"data\": {\"bar\": [{\"error_x\": {\"color\": \"#2a3f5f\"}, \"error_y\": {\"color\": \"#2a3f5f\"}, \"marker\": {\"line\": {\"color\": \"#E5ECF6\", \"width\": 0.5}}, \"type\": \"bar\"}], \"barpolar\": [{\"marker\": {\"line\": {\"color\": \"#E5ECF6\", \"width\": 0.5}}, \"type\": \"barpolar\"}], \"carpet\": [{\"aaxis\": {\"endlinecolor\": \"#2a3f5f\", \"gridcolor\": \"white\", \"linecolor\": \"white\", \"minorgridcolor\": \"white\", \"startlinecolor\": \"#2a3f5f\"}, \"baxis\": {\"endlinecolor\": \"#2a3f5f\", \"gridcolor\": \"white\", \"linecolor\": \"white\", \"minorgridcolor\": \"white\", \"startlinecolor\": \"#2a3f5f\"}, \"type\": \"carpet\"}], \"choropleth\": [{\"colorbar\": {\"outlinewidth\": 0, \"ticks\": \"\"}, \"type\": \"choropleth\"}], \"contour\": [{\"colorbar\": {\"outlinewidth\": 0, \"ticks\": \"\"}, \"colorscale\": [[0.0, \"#0d0887\"], [0.1111111111111111, \"#46039f\"], [0.2222222222222222, \"#7201a8\"], [0.3333333333333333, \"#9c179e\"], [0.4444444444444444, \"#bd3786\"], [0.5555555555555556, \"#d8576b\"], [0.6666666666666666, \"#ed7953\"], [0.7777777777777778, \"#fb9f3a\"], [0.8888888888888888, \"#fdca26\"], [1.0, \"#f0f921\"]], \"type\": \"contour\"}], \"contourcarpet\": [{\"colorbar\": {\"outlinewidth\": 0, \"ticks\": \"\"}, \"type\": \"contourcarpet\"}], \"heatmap\": [{\"colorbar\": {\"outlinewidth\": 0, \"ticks\": \"\"}, \"colorscale\": [[0.0, \"#0d0887\"], [0.1111111111111111, \"#46039f\"], [0.2222222222222222, \"#7201a8\"], [0.3333333333333333, \"#9c179e\"], [0.4444444444444444, \"#bd3786\"], [0.5555555555555556, \"#d8576b\"], [0.6666666666666666, \"#ed7953\"], [0.7777777777777778, \"#fb9f3a\"], [0.8888888888888888, \"#fdca26\"], [1.0, \"#f0f921\"]], \"type\": \"heatmap\"}], \"heatmapgl\": [{\"colorbar\": {\"outlinewidth\": 0, \"ticks\": \"\"}, \"colorscale\": [[0.0, \"#0d0887\"], [0.1111111111111111, \"#46039f\"], [0.2222222222222222, \"#7201a8\"], [0.3333333333333333, \"#9c179e\"], [0.4444444444444444, \"#bd3786\"], [0.5555555555555556, \"#d8576b\"], [0.6666666666666666, \"#ed7953\"], [0.7777777777777778, \"#fb9f3a\"], [0.8888888888888888, \"#fdca26\"], [1.0, \"#f0f921\"]], \"type\": \"heatmapgl\"}], \"histogram\": [{\"marker\": {\"colorbar\": {\"outlinewidth\": 0, \"ticks\": \"\"}}, \"type\": \"histogram\"}], \"histogram2d\": [{\"colorbar\": {\"outlinewidth\": 0, \"ticks\": \"\"}, \"colorscale\": [[0.0, \"#0d0887\"], [0.1111111111111111, \"#46039f\"], [0.2222222222222222, \"#7201a8\"], [0.3333333333333333, \"#9c179e\"], [0.4444444444444444, \"#bd3786\"], [0.5555555555555556, \"#d8576b\"], [0.6666666666666666, \"#ed7953\"], [0.7777777777777778, \"#fb9f3a\"], [0.8888888888888888, \"#fdca26\"], [1.0, \"#f0f921\"]], \"type\": \"histogram2d\"}], \"histogram2dcontour\": [{\"colorbar\": {\"outlinewidth\": 0, \"ticks\": \"\"}, \"colorscale\": [[0.0, \"#0d0887\"], [0.1111111111111111, \"#46039f\"], [0.2222222222222222, \"#7201a8\"], [0.3333333333333333, \"#9c179e\"], [0.4444444444444444, \"#bd3786\"], [0.5555555555555556, \"#d8576b\"], [0.6666666666666666, \"#ed7953\"], [0.7777777777777778, \"#fb9f3a\"], [0.8888888888888888, \"#fdca26\"], [1.0, \"#f0f921\"]], \"type\": \"histogram2dcontour\"}], \"mesh3d\": [{\"colorbar\": {\"outlinewidth\": 0, \"ticks\": \"\"}, \"type\": \"mesh3d\"}], \"parcoords\": [{\"line\": {\"colorbar\": {\"outlinewidth\": 0, \"ticks\": \"\"}}, \"type\": \"parcoords\"}], \"pie\": [{\"automargin\": true, \"type\": \"pie\"}], \"scatter\": [{\"marker\": {\"colorbar\": {\"outlinewidth\": 0, \"ticks\": \"\"}}, \"type\": \"scatter\"}], \"scatter3d\": [{\"line\": {\"colorbar\": {\"outlinewidth\": 0, \"ticks\": \"\"}}, \"marker\": {\"colorbar\": {\"outlinewidth\": 0, \"ticks\": \"\"}}, \"type\": \"scatter3d\"}], \"scattercarpet\": [{\"marker\": {\"colorbar\": {\"outlinewidth\": 0, \"ticks\": \"\"}}, \"type\": \"scattercarpet\"}], \"scattergeo\": [{\"marker\": {\"colorbar\": {\"outlinewidth\": 0, \"ticks\": \"\"}}, \"type\": \"scattergeo\"}], \"scattergl\": [{\"marker\": {\"colorbar\": {\"outlinewidth\": 0, \"ticks\": \"\"}}, \"type\": \"scattergl\"}], \"scattermapbox\": [{\"marker\": {\"colorbar\": {\"outlinewidth\": 0, \"ticks\": \"\"}}, \"type\": \"scattermapbox\"}], \"scatterpolar\": [{\"marker\": {\"colorbar\": {\"outlinewidth\": 0, \"ticks\": \"\"}}, \"type\": \"scatterpolar\"}], \"scatterpolargl\": [{\"marker\": {\"colorbar\": {\"outlinewidth\": 0, \"ticks\": \"\"}}, \"type\": \"scatterpolargl\"}], \"scatterternary\": [{\"marker\": {\"colorbar\": {\"outlinewidth\": 0, \"ticks\": \"\"}}, \"type\": \"scatterternary\"}], \"surface\": [{\"colorbar\": {\"outlinewidth\": 0, \"ticks\": \"\"}, \"colorscale\": [[0.0, \"#0d0887\"], [0.1111111111111111, \"#46039f\"], [0.2222222222222222, \"#7201a8\"], [0.3333333333333333, \"#9c179e\"], [0.4444444444444444, \"#bd3786\"], [0.5555555555555556, \"#d8576b\"], [0.6666666666666666, \"#ed7953\"], [0.7777777777777778, \"#fb9f3a\"], [0.8888888888888888, \"#fdca26\"], [1.0, \"#f0f921\"]], \"type\": \"surface\"}], \"table\": [{\"cells\": {\"fill\": {\"color\": \"#EBF0F8\"}, \"line\": {\"color\": \"white\"}}, \"header\": {\"fill\": {\"color\": \"#C8D4E3\"}, \"line\": {\"color\": \"white\"}}, \"type\": \"table\"}]}, \"layout\": {\"annotationdefaults\": {\"arrowcolor\": \"#2a3f5f\", \"arrowhead\": 0, \"arrowwidth\": 1}, \"coloraxis\": {\"colorbar\": {\"outlinewidth\": 0, \"ticks\": \"\"}}, \"colorscale\": {\"diverging\": [[0, \"#8e0152\"], [0.1, \"#c51b7d\"], [0.2, \"#de77ae\"], [0.3, \"#f1b6da\"], [0.4, \"#fde0ef\"], [0.5, \"#f7f7f7\"], [0.6, \"#e6f5d0\"], [0.7, \"#b8e186\"], [0.8, \"#7fbc41\"], [0.9, \"#4d9221\"], [1, \"#276419\"]], \"sequential\": [[0.0, \"#0d0887\"], [0.1111111111111111, \"#46039f\"], [0.2222222222222222, \"#7201a8\"], [0.3333333333333333, \"#9c179e\"], [0.4444444444444444, \"#bd3786\"], [0.5555555555555556, \"#d8576b\"], [0.6666666666666666, \"#ed7953\"], [0.7777777777777778, \"#fb9f3a\"], [0.8888888888888888, \"#fdca26\"], [1.0, \"#f0f921\"]], \"sequentialminus\": [[0.0, \"#0d0887\"], [0.1111111111111111, \"#46039f\"], [0.2222222222222222, \"#7201a8\"], [0.3333333333333333, \"#9c179e\"], [0.4444444444444444, \"#bd3786\"], [0.5555555555555556, \"#d8576b\"], [0.6666666666666666, \"#ed7953\"], [0.7777777777777778, \"#fb9f3a\"], [0.8888888888888888, \"#fdca26\"], [1.0, \"#f0f921\"]]}, \"colorway\": [\"#636efa\", \"#EF553B\", \"#00cc96\", \"#ab63fa\", \"#FFA15A\", \"#19d3f3\", \"#FF6692\", \"#B6E880\", \"#FF97FF\", \"#FECB52\"], \"font\": {\"color\": \"#2a3f5f\"}, \"geo\": {\"bgcolor\": \"white\", \"lakecolor\": \"white\", \"landcolor\": \"#E5ECF6\", \"showlakes\": true, \"showland\": true, \"subunitcolor\": \"white\"}, \"hoverlabel\": {\"align\": \"left\"}, \"hovermode\": \"closest\", \"mapbox\": {\"style\": \"light\"}, \"paper_bgcolor\": \"white\", \"plot_bgcolor\": \"#E5ECF6\", \"polar\": {\"angularaxis\": {\"gridcolor\": \"white\", \"linecolor\": \"white\", \"ticks\": \"\"}, \"bgcolor\": \"#E5ECF6\", \"radialaxis\": {\"gridcolor\": \"white\", \"linecolor\": \"white\", \"ticks\": \"\"}}, \"scene\": {\"xaxis\": {\"backgroundcolor\": \"#E5ECF6\", \"gridcolor\": \"white\", \"gridwidth\": 2, \"linecolor\": \"white\", \"showbackground\": true, \"ticks\": \"\", \"zerolinecolor\": \"white\"}, \"yaxis\": {\"backgroundcolor\": \"#E5ECF6\", \"gridcolor\": \"white\", \"gridwidth\": 2, \"linecolor\": \"white\", \"showbackground\": true, \"ticks\": \"\", \"zerolinecolor\": \"white\"}, \"zaxis\": {\"backgroundcolor\": \"#E5ECF6\", \"gridcolor\": \"white\", \"gridwidth\": 2, \"linecolor\": \"white\", \"showbackground\": true, \"ticks\": \"\", \"zerolinecolor\": \"white\"}}, \"shapedefaults\": {\"line\": {\"color\": \"#2a3f5f\"}}, \"ternary\": {\"aaxis\": {\"gridcolor\": \"white\", \"linecolor\": \"white\", \"ticks\": \"\"}, \"baxis\": {\"gridcolor\": \"white\", \"linecolor\": \"white\", \"ticks\": \"\"}, \"bgcolor\": \"#E5ECF6\", \"caxis\": {\"gridcolor\": \"white\", \"linecolor\": \"white\", \"ticks\": \"\"}}, \"title\": {\"x\": 0.05}, \"xaxis\": {\"automargin\": true, \"gridcolor\": \"white\", \"linecolor\": \"white\", \"ticks\": \"\", \"title\": {\"standoff\": 15}, \"zerolinecolor\": \"white\", \"zerolinewidth\": 2}, \"yaxis\": {\"automargin\": true, \"gridcolor\": \"white\", \"linecolor\": \"white\", \"ticks\": \"\", \"title\": {\"standoff\": 15}, \"zerolinecolor\": \"white\", \"zerolinewidth\": 2}}}, \"title\": {\"text\": \"Whole energy over time\"}, \"xaxis\": {\"title\": {\"text\": \"TIME\"}, \"visible\": true}, \"yaxis\": {\"title\": {\"text\": \"WHOLE_ENERGY\"}, \"visible\": true}},                        {\"responsive\": true}                    ).then(function(){\n",
       "                            \n",
       "var gd = document.getElementById('e37bbda5-afa7-4e47-9e04-fd8453c34052');\n",
       "var x = new MutationObserver(function (mutations, observer) {{\n",
       "        var display = window.getComputedStyle(gd).display;\n",
       "        if (!display || display === 'none') {{\n",
       "            console.log([gd, 'removed!']);\n",
       "            Plotly.purge(gd);\n",
       "            observer.disconnect();\n",
       "        }}\n",
       "}});\n",
       "\n",
       "// Listen for the removal of the full notebook cells\n",
       "var notebookContainer = gd.closest('#notebook-container');\n",
       "if (notebookContainer) {{\n",
       "    x.observe(notebookContainer, {childList: true});\n",
       "}}\n",
       "\n",
       "// Listen for the clearing of the current output cell\n",
       "var outputEl = gd.closest('.output');\n",
       "if (outputEl) {{\n",
       "    x.observe(outputEl, {childList: true});\n",
       "}}\n",
       "\n",
       "                        })                };                });            </script>        </div>"
      ]
     },
     "metadata": {},
     "output_type": "display_data"
    }
   ],
   "source": [
    "builder = cp.PlotBuilder(props)\n",
    "builder.add_pack(plot_pack)\n",
    "plot = builder.plot()\n",
    "plot"
   ]
  }
 ],
 "metadata": {
  "kernelspec": {
   "display_name": "Python 3",
   "language": "python",
   "name": "python3"
  },
  "language_info": {
   "codemirror_mode": {
    "name": "ipython",
    "version": 3
   },
   "file_extension": ".py",
   "mimetype": "text/x-python",
   "name": "python",
   "nbconvert_exporter": "python",
   "pygments_lexer": "ipython3",
   "version": "3.8.3"
  }
 },
 "nbformat": 4,
 "nbformat_minor": 1
}
