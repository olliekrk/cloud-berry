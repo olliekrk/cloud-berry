{
 "cells": [
  {
   "cell_type": "markdown",
   "metadata": {
    "collapsed": true
   },
   "source": [
    "# 1. Inicjalizacja API\n",
    "W pierwszej komórce wskazujemy adres serwera cloudberry, a w drugiej tworzymy metadane opisujące eksperyment dla którego dane chcemy zaimportować."
   ]
  },
  {
   "cell_type": "code",
   "execution_count": null,
   "metadata": {},
   "outputs": [],
   "source": [
    "# Define Cloudberry configuration\n",
    "\n",
    "import cloudberry.api as cb\n",
    "cb_port = 9000\n",
    "cb_config = cb.CloudberryConfig(f'http://localhost:{cb_port}')"
   ]
  },
  {
   "cell_type": "code",
   "execution_count": null,
   "metadata": {},
   "outputs": [],
   "source": [
    "# Create metadata necessary for CSV upload - Experiment & Configuration\n",
    "\n",
    "meta_api = cb.Metadata(cb_config)\n",
    "experiment_api = meta_api.experiment_api()\n",
    "configuration_api = meta_api.experiment_configuration_api()\n",
    "\n",
    "csv_experiment_name = 'CSV Scenario Experiment'\n",
    "csv_configuration_name = 'CSV Scenario Configuration'\n",
    "\n",
    "# optionally pass parameters to save experiment with\n",
    "csv_experiment = experiment_api.find_or_create(csv_experiment_name, parameters = {})\n",
    "csv_configuration = configuration_api.find_or_create(csv_experiment, csv_configuration_name, parameters={'version': 1})"
   ]
  },
  {
   "cell_type": "markdown",
   "metadata": {},
   "source": [
    "Właściwy import danych z przykładowego pliku CSV:"
   ]
  },
  {
   "cell_type": "code",
   "execution_count": null,
   "metadata": {},
   "outputs": [],
   "source": [
    "# CSV-like Data Upload API\n",
    "\n",
    "csv_api = cb.CsvFileUploader(cb_config)\n",
    "\n",
    "csv_file_path = './data/csv_evolution_data.csv'\n",
    "csv_details = cb.CsvUploadDetails(\n",
    "    tags_names=['ISLAND_ID'],\n",
    "    raw_fields=['BEST_SOLUTION'],\n",
    "    configuration=csv_configuration,\n",
    "    computation=None, # None for new one, otherwise append data to existing computation .\n",
    ")\n",
    "\n",
    "csv_computation = csv_api.upload_file(\n",
    "    csv_file_path,\n",
    "    csv_experiment_name,\n",
    "    csv_details\n",
    ")"
   ]
  },
  {
   "cell_type": "markdown",
   "metadata": {},
   "source": [
    "Weryfikacja zaimportowanych danych:"
   ]
  },
  {
   "cell_type": "code",
   "execution_count": null,
   "metadata": {},
   "outputs": [],
   "source": [
    "data_api = cb.Data(cb_config)\n",
    "filters = cb.DataFilters(tags={}, computation=csv_computation)\n",
    "series = data_api.get_data(filters)\n",
    "series.as_data_frame"
   ]
  },
  {
   "cell_type": "markdown",
   "metadata": {},
   "source": [
    "Wykres dla parametru BEST_MERIT_FACTOR:"
   ]
  },
  {
   "cell_type": "code",
   "execution_count": null,
   "metadata": {},
   "outputs": [],
   "source": [
    "cb_computations = cb.ComputationSeries(cb_config)\n",
    "\n",
    "field = 'BEST_MERIT_FACTOR_VALUE'\n",
    "series_pack = cb_computations.for_computations([csv_computation], field)"
   ]
  },
  {
   "cell_type": "code",
   "execution_count": null,
   "metadata": {},
   "outputs": [],
   "source": [
    "from cloudberry.converters import SeriesConverter\n",
    "\n",
    "plot_pack = SeriesConverter.data_series_pack_to_plot_series_pack(\n",
    "    ds=series_pack,\n",
    "    x_field=\"_time\",\n",
    "    y_field=field,\n",
    ")"
   ]
  },
  {
   "cell_type": "code",
   "execution_count": null,
   "metadata": {},
   "outputs": [],
   "source": [
    "import cloudberry.plots as cp\n",
    "\n",
    "props = cp.PlotProperties.default()\n",
    "props.title = \"BEST_MERIT_FACTOR_VALUE for uploaded computation from csv file\"\n",
    "props.show_title = True\n",
    "props.x_axis_name = \"Time in milliseconds\"\n",
    "props.y_axis_name = \"BEST_MERIT_FACTOR_VALUE\"\n",
    "props.show_averages = False\n",
    "# props.show_series = False\n",
    "# props.show_error_bars = True\n",
    "props.default_series_kind = cp.PlotSeriesKind.LINE"
   ]
  },
  {
   "cell_type": "code",
   "execution_count": null,
   "metadata": {},
   "outputs": [],
   "source": [
    "builder = cp.PlotBuilder(props)\n",
    "builder.add_pack(plot_pack)\n",
    "plot = builder.plot()\n",
    "plot"
   ]
  }
 ],
 "metadata": {
  "kernelspec": {
   "display_name": "Python 3",
   "language": "python",
   "name": "python3"
  },
  "language_info": {
   "codemirror_mode": {
    "name": "ipython",
    "version": 3
   },
   "file_extension": ".py",
   "mimetype": "text/x-python",
   "name": "python",
   "nbconvert_exporter": "python",
   "pygments_lexer": "ipython3",
   "version": "3.7.1"
  }
 },
 "nbformat": 4,
 "nbformat_minor": 1
}
