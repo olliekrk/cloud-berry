{
 "cells": [
  {
   "cell_type": "code",
   "execution_count": 1,
   "metadata": {},
   "outputs": [],
   "source": [
    "\n",
    "\"\"\"\n",
    " TODO: migrate this notebook into new one and demonstrate apis only for:\n",
    "  * Metadata management (experiment, configuration, computation)\n",
    "  * Metadata & data removal (deletion)\n",
    "\"\"\"\n",
    "\n",
    "import cloudberry.api as cb"
   ]
  },
  {
   "cell_type": "code",
   "execution_count": 2,
   "metadata": {
    "pycharm": {
     "name": "#%%\n"
    }
   },
   "outputs": [],
   "source": [
    "# Define Cloudberry configuration\n",
    "cb_port = 9000\n",
    "cb_config = cb.CloudberryConfig(f'http://localhost:{cb_port}')\n",
    "\n",
    "# Initialize selected API(s)\n",
    "cb_data = cb.Data(cb_config)\n",
    "cb_analytics = cb.Analytics(cb_config)\n",
    "cb_anomalies = cb.Anomalies(cb_config)\n",
    "cb_buckets = cb.Buckets(cb_config)\n",
    "cb_meta = cb.Metadata(cb_config)\n",
    "cb_meta_experiment = cb_meta.experiment_api()\n",
    "cb_meta_experiment_configuration = cb_meta.experiment_configuration_api()\n",
    "cb_meta_experiment_computation = cb_meta.experiment_computation_api()\n",
    "cb_query = cb.Query(cb_config)\n",
    "cb_uploader = cb.AgeFileUploader(cb_config)\n",
    "cb_csv_uploader = cb.CsvFileUploader(cb_config)\n",
    "cb_api_configuration = cb.ApiConfiguration(cb_config)\n",
    "cb_deleteion = cb.Deletion(cb_config)"
   ]
  },
  {
   "cell_type": "code",
   "execution_count": null,
   "metadata": {
    "pycharm": {
     "name": "#%%\n"
    }
   },
   "outputs": [],
   "source": [
    "# Use case 6.2. analyze computations for possible anomalies.\n",
    "\n",
    "reports = cb_anomalies.get_reports(\n",
    "    field_name='AVERAGE_FITNESS',\n",
    "    computations=computations\n",
    ")\n",
    "\n",
    "print(reports[0].__dict__)"
   ]
  },
  {
   "cell_type": "code",
   "execution_count": null,
   "metadata": {},
   "outputs": [],
   "source": [
    "# crud metadata"
   ]
  },
  {
   "cell_type": "code",
   "execution_count": null,
   "metadata": {},
   "outputs": [],
   "source": [
    "# experiment"
   ]
  },
  {
   "cell_type": "code",
   "execution_count": null,
   "metadata": {},
   "outputs": [],
   "source": [
    "created_experiment = cb_meta_experiment.find_or_create('experiment name', parameters={'important': 'very'})\n",
    "print(created_experiment)"
   ]
  },
  {
   "cell_type": "code",
   "execution_count": null,
   "metadata": {},
   "outputs": [],
   "source": [
    "new_name = 'updated namee'\n",
    "cb_meta_experiment.update(experiment=created_experiment, name=new_name, parameters={'color': 'red'}, override_params = False)"
   ]
  },
  {
   "cell_type": "code",
   "execution_count": null,
   "metadata": {},
   "outputs": [],
   "source": [
    "cb_meta_experiment.find_all()"
   ]
  },
  {
   "cell_type": "code",
   "execution_count": null,
   "metadata": {},
   "outputs": [],
   "source": [
    "cb_meta_experiment.find_by_name(new_name)"
   ]
  },
  {
   "cell_type": "code",
   "execution_count": null,
   "metadata": {},
   "outputs": [],
   "source": [
    "# experiment configuration"
   ]
  },
  {
   "cell_type": "code",
   "execution_count": null,
   "metadata": {},
   "outputs": [],
   "source": [
    "configuration_file_name = \"configuration file name\"\n",
    "created_configuration = cb_meta_experiment_configuration.find_or_create(created_experiment, configuration_file_name, {\"param1\": \"value\"})\n",
    "print(created_configuration)"
   ]
  },
  {
   "cell_type": "code",
   "execution_count": null,
   "metadata": {},
   "outputs": [],
   "source": [
    "cb_meta_experiment_configuration.find_by_configuration_file_name(configuration_file_name)"
   ]
  },
  {
   "cell_type": "code",
   "execution_count": null,
   "metadata": {},
   "outputs": [],
   "source": [
    "cb_meta_experiment_configuration.find_by_experiment_name(new_name)"
   ]
  },
  {
   "cell_type": "code",
   "execution_count": null,
   "metadata": {},
   "outputs": [],
   "source": [
    "new_file_name=\"new config file name\"\n",
    "cb_meta_experiment_configuration.update(configuration=created_configuration, configuration_file_name=new_file_name, parameters={\"additionalParam\": True}, override_params=False)"
   ]
  },
  {
   "cell_type": "code",
   "execution_count": null,
   "metadata": {},
   "outputs": [],
   "source": [
    "# experiment computation"
   ]
  },
  {
   "cell_type": "code",
   "execution_count": null,
   "metadata": {
    "scrolled": true
   },
   "outputs": [],
   "source": [
    "cb_meta_experiment_computation.create(created_configuration)"
   ]
  },
  {
   "cell_type": "code",
   "execution_count": null,
   "metadata": {},
   "outputs": [],
   "source": [
    "cb_meta_experiment_computation.find_by_configuration(created_configuration)"
   ]
  },
  {
   "cell_type": "code",
   "execution_count": null,
   "metadata": {},
   "outputs": [],
   "source": [
    "configs = cb_meta_experiment_configuration.find_all()[0:5]\n",
    "\n",
    "# delete data from meta and influx"
   ]
  },
  {
   "cell_type": "code",
   "execution_count": null,
   "metadata": {},
   "outputs": [],
   "source": [
    "some_comp = cb_meta_experiment_computation.find_all()[0]\n",
    "cb_deleteion.delete_computations([some_comp])"
   ]
  },
  {
   "cell_type": "code",
   "execution_count": null,
   "metadata": {},
   "outputs": [],
   "source": [
    "some_config = cb_meta_experiment_configuration.find_all()[0]\n",
    "cb_deleteion.delete_configurations([some_config])"
   ]
  },
  {
   "cell_type": "code",
   "execution_count": null,
   "metadata": {},
   "outputs": [],
   "source": [
    "some_exp = cb_meta_experiment.find_all()[0]\n",
    "cb_deleteion.delete_experiments([some_exp])"
   ]
  },
  {
   "cell_type": "code",
   "execution_count": null,
   "metadata": {},
   "outputs": [],
   "source": [
    "# #49 - append metadata ids to DataSeries\n",
    "\n",
    "computation = cb_meta_experiment_computation.find_all()[1]\n",
    "computation_series = cb_analytics.compare_computations([computation], 'AVERAGE_FITNESS')[0]\n",
    "\n",
    "computation_series.meta_ids = cb_meta.get_meta_ids(computation)\n",
    "computation_series.as_data_frame"
   ]
  }
 ],
 "metadata": {
  "@webio": {
   "lastCommId": null,
   "lastKernelId": null
  },
  "kernelspec": {
   "display_name": "Python 3",
   "language": "python",
   "name": "python3"
  },
  "language_info": {
   "codemirror_mode": {
    "name": "ipython",
    "version": 3
   },
   "file_extension": ".py",
   "mimetype": "text/x-python",
   "name": "python",
   "nbconvert_exporter": "python",
   "pygments_lexer": "ipython3",
   "version": "3.8.3"
  }
 },
 "nbformat": 4,
 "nbformat_minor": 1
}