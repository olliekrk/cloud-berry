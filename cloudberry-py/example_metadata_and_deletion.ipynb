{
 "cells": [
  {
   "cell_type": "code",
   "execution_count": null,
   "metadata": {
    "pycharm": {
     "name": "#%%\n"
    }
   },
   "outputs": [],
   "source": [
    "import cloudberry.api as cb\n",
    "\n",
    "# Define Cloudberry configuration\n",
    "cb_port = 9000\n",
    "cb_config = cb.CloudberryConfig(f'http://localhost:{cb_port}')\n",
    "\n",
    "# Initialize selected API(s)\n",
    "cb_meta = cb.Metadata(cb_config)\n",
    "cb_meta_experiment = cb_meta.experiment_api()\n",
    "cb_meta_experiment_configuration = cb_meta.experiment_configuration_api()\n",
    "cb_meta_experiment_computation = cb_meta.experiment_computation_api()\n",
    "cb_deleteion = cb.Deletion(cb_config)"
   ]
  },
  {
   "cell_type": "code",
   "execution_count": null,
   "metadata": {
    "pycharm": {
     "name": "#%%\n"
    }
   },
   "outputs": [],
   "source": [
    "# Create experiment\n",
    "experiment_name = \"EMAS\"\n",
    "experiment_parameters = {\"Author\": \"Andrzej\"}\n",
    "experiment = cb_meta_experiment.find_or_create(name = experiment_name, parameters = experiment_parameters)\n",
    "\n",
    "# Create experiment configurations\n",
    "configuration1_file_name = \"this_is_just_a_name\"\n",
    "configuration1 = cb_meta_experiment_configuration.find_or_create(experiment = experiment, configuration_file_name = configuration1_file_name)\n",
    "configuration2 = cb_meta_experiment_configuration.find_or_create(experiment = experiment, parameters = {\"islands.count\": 100, \"energy-transfer\": \"proportional\"})\n",
    "\n",
    "# Create experiment computations\n",
    "computations = []\n",
    "for i in range(2):\n",
    "    computations.append(cb_meta_experiment_computation.create(configuration1))\n",
    "    computations.append(cb_meta_experiment_computation.create(configuration2))\n"
   ]
  },
  {
   "cell_type": "code",
   "execution_count": null,
   "metadata": {},
   "outputs": [],
   "source": [
    "# Finding experiment\n",
    "# print(\"find all\")\n",
    "# for exp in cb_meta_experiment.find_all():\n",
    "#     print(exp)\n",
    "\n",
    "print()\n",
    "print(\"find by id\")\n",
    "print(cb_meta_experiment.find_by_id(experiment.experiment_id_hex))\n",
    "\n",
    "print()\n",
    "print(\"find by configuration\")\n",
    "print(cb_meta_experiment.find_by_configuration(configuration1))\n",
    "\n",
    "print()\n",
    "print(\"find by computation\")\n",
    "print(cb_meta_experiment.find_by_computation(computations[0]))\n",
    "\n",
    "print()\n",
    "print(\"find by name\")\n",
    "for exp in cb_meta_experiment.find_by_name(experiment_name):\n",
    "    print(exp)"
   ]
  },
  {
   "cell_type": "code",
   "execution_count": null,
   "metadata": {},
   "outputs": [],
   "source": [
    "# Finding experiment configuration\n",
    "# print(\"find all\")\n",
    "# for config in cb_meta_experiment_configuration.find_all():\n",
    "#    print(config)\n",
    "\n",
    "print()\n",
    "print(\"find by id\")\n",
    "print(cb_meta_experiment_configuration.find_by_id(configuration1.experiment_configuration_id_hex))\n",
    "\n",
    "print()\n",
    "print(\"find by computation\")\n",
    "print(cb_meta_experiment_configuration.find_by_computation(computations[0]))\n",
    "\n",
    "print()\n",
    "print(\"find by experiment\")\n",
    "for conf in cb_meta_experiment_configuration.find_by_experiment(experiment):\n",
    "    print(conf)\n",
    "    \n",
    "print()\n",
    "print(\"find by configuration file name\")\n",
    "for conf in cb_meta_experiment_configuration.find_by_configuration_file_name(configuration1_file_name):\n",
    "    print(conf)\n",
    "    \n",
    "print()\n",
    "print(\"find by experiment name\")\n",
    "for conf in cb_meta_experiment_configuration.find_by_experiment_name(experiment_name):\n",
    "    print(conf)"
   ]
  },
  {
   "cell_type": "code",
   "execution_count": null,
   "metadata": {},
   "outputs": [],
   "source": [
    "# Finding experiment computation\n",
    "# print(\"find all\")\n",
    "# for config in cb_meta_experiment_computation.find_all():\n",
    "#    print(config)\n",
    "\n",
    "print()\n",
    "print(\"find by id\")\n",
    "print(cb_meta_experiment_computation.find_by_id(computations[0].computation_id_hex))\n",
    "\n",
    "print()\n",
    "print(\"find by experiment\")\n",
    "for comp in cb_meta_experiment_computation.find_by_experiment(experiment):\n",
    "    print(comp)\n",
    "    \n",
    "print()\n",
    "print(\"find by experiment configuration\")\n",
    "for comp in cb_meta_experiment_computation.find_by_configuration(configuration1):\n",
    "    print(comp)"
   ]
  },
  {
   "cell_type": "code",
   "execution_count": null,
   "metadata": {},
   "outputs": [],
   "source": [
    "# Update experiment\n",
    "# Change name and add new param\n",
    "experiment_new_name = \"BETTER EMAS\"\n",
    "updated_experiment = cb_meta_experiment.update(experiment = experiment, name = experiment_new_name, parameters = {\"CoAuthor\": \"Jarosław\"}, override_params = False)\n",
    "print(\"Updated name and parameters:\")\n",
    "print(updated_experiment)\n",
    "print()\n",
    "\n",
    "# change existing param\n",
    "updated_experiment = cb_meta_experiment.update(experiment = experiment, parameters = {\"CoAuthor\": \"Antoni\"}, override_params = False)\n",
    "print(\"Updated already existing parameter:\")\n",
    "print(updated_experiment)\n",
    "print()\n",
    "\n",
    "# override all params\n",
    "updated_experiment = cb_meta_experiment.update(experiment = experiment, parameters = {\"Location\": \"Kraków\"}, override_params = True)\n",
    "print(\"Override all parameters:\")\n",
    "print(updated_experiment)"
   ]
  },
  {
   "cell_type": "code",
   "execution_count": null,
   "metadata": {},
   "outputs": [],
   "source": [
    "# Update experiment configuration\n",
    "# Change name and add new param\n",
    "configuration2_new_file_name = \"file_name.xml\"\n",
    "updated_config2 = cb_meta_experiment_configuration.update(configuration=configuration2, configuration_file_name=configuration2_new_file_name, parameters={\"use-fast-flip\": True})\n",
    "print(\"Updated file name and parameters:\")\n",
    "print(updated_config2)\n",
    "print()\n",
    "\n",
    "# change existing param\n",
    "print(\"Updated already existing parameter:\")\n",
    "updated_config2 = cb_meta_experiment_configuration.update(configuration=configuration2, parameters={\"use-fast-flip\": False})\n",
    "print(updated_config2)\n",
    "print()\n",
    "\n",
    "# override all params\n",
    "print(\"Override all parameters:\")\n",
    "updated_config2 = cb_meta_experiment_configuration.update(configuration=configuration2, parameters={\"iterations\": 10}, override_params=True)\n",
    "print(updated_config2)"
   ]
  },
  {
   "cell_type": "code",
   "execution_count": null,
   "metadata": {},
   "outputs": [],
   "source": [
    "# delete metadata and associated values from influxDB\n",
    "\n",
    "# WARNING - deleting experiment will also remove all its configurations and computations\n",
    "cb_deleteion.delete_experiments([experiment])\n",
    "\n",
    "# WARNING - deleting configurations will also remove all its computations\n",
    "# cb_deleteion.delete_configurations([configuration1, configuration2])\n",
    "\n",
    "# cb_deleteion.delete_computations(computations)"
   ]
  },
  {
   "cell_type": "code",
   "execution_count": null,
   "metadata": {},
   "outputs": [],
   "source": [
    "# delete only metadata - probably never needed\n",
    "# WARNING - will not delete data with associated values - stored in influxDB\n",
    "\n",
    "# WARNING - deleting experiment will also remove all its configurations and computations\n",
    "# cb_meta_experiment.delete(experiment)\n",
    "\n",
    "# cb_meta_experiment_configuration.delete(configuration1)\n",
    "# cb_meta_experiment_configuration.delete(configuration2)\n",
    "\n",
    "# for comp in computations:\n",
    "#     cb_meta_experiment_computation.delete(comp)\n",
    "\n"
   ]
  }
 ],
 "metadata": {
  "@webio": {
   "lastCommId": null,
   "lastKernelId": null
  },
  "kernelspec": {
   "display_name": "Python 3",
   "language": "python",
   "name": "python3"
  },
  "language_info": {
   "codemirror_mode": {
    "name": "ipython",
    "version": 3
   },
   "file_extension": ".py",
   "mimetype": "text/x-python",
   "name": "python",
   "nbconvert_exporter": "python",
   "pygments_lexer": "ipython3",
   "version": "3.7.1"
  }
 },
 "nbformat": 4,
 "nbformat_minor": 1
}
