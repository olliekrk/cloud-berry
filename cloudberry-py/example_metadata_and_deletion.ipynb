{
 "cells": [
  {
   "cell_type": "markdown",
   "metadata": {
    "pycharm": {
     "name": "#%% md\n"
    }
   },
   "source": [
    "## Notebook demonstrujący API biblioteki cloudberry-py do zarządzania metadanymi - definicjami: eksperymentów, konfiguracji i uruchomień. "
   ]
  },
  {
   "cell_type": "code",
   "execution_count": 1,
   "metadata": {
    "pycharm": {
     "name": "#%%\n"
    }
   },
   "outputs": [],
   "source": [
    "import cloudberry.api as cb\n",
    "\n",
    "# Define Cloudberry configuration\n",
    "cb_port = 9000\n",
    "cb_config = cb.CloudberryConfig(f'http://localhost:{cb_port}')\n",
    "\n",
    "# Initialize selected API(s)\n",
    "cb_meta = cb.Metadata(cb_config)\n",
    "cb_meta_experiment = cb_meta.experiment_api()\n",
    "cb_meta_experiment_configuration = cb_meta.experiment_configuration_api()\n",
    "cb_meta_experiment_computation = cb_meta.experiment_computation_api()\n",
    "cb_deleteion = cb.Deletion(cb_config)"
   ]
  },
  {
   "cell_type": "markdown",
   "metadata": {
    "pycharm": {
     "name": "#%% md\n"
    }
   },
   "source": [
    "Tworzenie eksperymentu, konfiguracji i uruchomień:"
   ]
  },
  {
   "cell_type": "code",
   "execution_count": 2,
   "metadata": {
    "pycharm": {
     "name": "#%%\n"
    }
   },
   "outputs": [],
   "source": [
    "# Create experiment\n",
    "experiment_name = \"GAMECHANGING EXPERIMENT\"\n",
    "experiment_parameters = {\"Author\": \"Andrzej\"}\n",
    "experiment = cb_meta_experiment.find_or_create(name = experiment_name, parameters = experiment_parameters)\n",
    "\n",
    "# Create experiment configurations\n",
    "configuration1_name = \"this_is_just_a_name\"\n",
    "configuration1 = cb_meta_experiment_configuration.find_or_create(experiment = experiment, configuration_name = configuration1_name)\n",
    "configuration2 = cb_meta_experiment_configuration.find_or_create(experiment = experiment, parameters = {\"islands.count\": 100, \"energy-transfer\": \"proportional\"})\n",
    "\n",
    "# Create experiment computations\n",
    "computations = []\n",
    "for i in range(2):\n",
    "    computations.append(cb_meta_experiment_computation.create(configuration1))\n",
    "    computations.append(cb_meta_experiment_computation.create(configuration2))\n"
   ]
  },
  {
   "cell_type": "markdown",
   "metadata": {
    "pycharm": {
     "name": "#%% md\n"
    }
   },
   "source": [
    "Znajdź eksperyment:"
   ]
  },
  {
   "cell_type": "code",
   "execution_count": 3,
   "metadata": {},
   "outputs": [
    {
     "name": "stdout",
     "output_type": "stream",
     "text": [
      "\n",
      "find by id\n",
      "Experiment(experiment_id_hex=5fa52a97c0cba37786e8b238, name=EMAS, parameters={'Author': 'Andrzej'}, time=1604659863.668)\n",
      "\n",
      "find by configuration\n",
      "Experiment(experiment_id_hex=5fa52a97c0cba37786e8b238, name=EMAS, parameters={'Author': 'Andrzej'}, time=1604659863.668)\n",
      "\n",
      "find by computation\n",
      "Experiment(experiment_id_hex=5fa52a97c0cba37786e8b238, name=EMAS, parameters={'Author': 'Andrzej'}, time=1604659863.668)\n",
      "\n",
      "find by name\n",
      "Experiment(experiment_id_hex=5fa52a97c0cba37786e8b238, name=EMAS, parameters={'Author': 'Andrzej'}, time=1604659863.668)\n"
     ]
    }
   ],
   "source": [
    "# Finding experiment\n",
    "# print(\"find all\")\n",
    "# for exp in cb_meta_experiment.find_all():\n",
    "#     print(exp)\n",
    "\n",
    "print()\n",
    "print(\"find by id\")\n",
    "print(cb_meta_experiment.find_by_id(experiment.experiment_id_hex))\n",
    "\n",
    "print()\n",
    "print(\"find by configuration\")\n",
    "print(cb_meta_experiment.find_by_configuration(configuration1))\n",
    "\n",
    "print()\n",
    "print(\"find by computation\")\n",
    "print(cb_meta_experiment.find_by_computation(computations[0]))\n",
    "\n",
    "print()\n",
    "print(\"find by name\")\n",
    "for exp in cb_meta_experiment.find_by_name(experiment_name):\n",
    "    print(exp)"
   ]
  },
  {
   "cell_type": "markdown",
   "metadata": {
    "pycharm": {
     "name": "#%% md\n"
    }
   },
   "source": [
    "Znajdź konfigurację eksperymentu:"
   ]
  },
  {
   "cell_type": "code",
   "execution_count": 4,
   "metadata": {},
   "outputs": [
    {
     "name": "stdout",
     "output_type": "stream",
     "text": [
      "\n",
      "find by id\n",
      "ExperimentConfiguration(experiment_configuration_id_hex=5fa52a97c0cba37786e8b239, experiment_id_hex=5fa52a97c0cba37786e8b238, configuration_file_name=this_is_just_a_name, parameters={}, time=1604659863.679)\n",
      "\n",
      "find by computation\n",
      "ExperimentConfiguration(experiment_configuration_id_hex=5fa52a97c0cba37786e8b239, experiment_id_hex=5fa52a97c0cba37786e8b238, configuration_file_name=this_is_just_a_name, parameters={}, time=1604659863.679)\n",
      "\n",
      "find by experiment\n",
      "ExperimentConfiguration(experiment_configuration_id_hex=5fa52a97c0cba37786e8b239, experiment_id_hex=5fa52a97c0cba37786e8b238, configuration_file_name=this_is_just_a_name, parameters={}, time=1604659863.679)\n",
      "ExperimentConfiguration(experiment_configuration_id_hex=5fa52a97c0cba37786e8b23a, experiment_id_hex=5fa52a97c0cba37786e8b238, configuration_file_name=None, parameters={'islands.count': 100, 'energy-transfer': 'proportional'}, time=1604659863.689)\n",
      "\n",
      "find by configuration file name\n",
      "ExperimentConfiguration(experiment_configuration_id_hex=5fa52a97c0cba37786e8b239, experiment_id_hex=5fa52a97c0cba37786e8b238, configuration_file_name=this_is_just_a_name, parameters={}, time=1604659863.679)\n",
      "\n",
      "find by experiment name\n",
      "ExperimentConfiguration(experiment_configuration_id_hex=5fa52a97c0cba37786e8b239, experiment_id_hex=5fa52a97c0cba37786e8b238, configuration_file_name=this_is_just_a_name, parameters={}, time=1604659863.679)\n",
      "ExperimentConfiguration(experiment_configuration_id_hex=5fa52a97c0cba37786e8b23a, experiment_id_hex=5fa52a97c0cba37786e8b238, configuration_file_name=None, parameters={'islands.count': 100, 'energy-transfer': 'proportional'}, time=1604659863.689)\n"
     ]
    }
   ],
   "source": [
    "# Finding experiment configuration\n",
    "# print(\"find all\")\n",
    "# for config in cb_meta_experiment_configuration.find_all():\n",
    "#    print(config)\n",
    "\n",
    "print()\n",
    "print(\"find by id\")\n",
    "print(cb_meta_experiment_configuration.find_by_id(configuration1.experiment_configuration_id_hex))\n",
    "\n",
    "print()\n",
    "print(\"find by computation\")\n",
    "print(cb_meta_experiment_configuration.find_by_computation(computations[0]))\n",
    "\n",
    "print()\n",
    "print(\"find by experiment\")\n",
    "for conf in cb_meta_experiment_configuration.find_by_experiment(experiment):\n",
    "    print(conf)\n",
    "    \n",
    "print()\n",
    "print(\"find by configuration name\")\n",
    "for conf in cb_meta_experiment_configuration.find_by_configuration_name(configuration1_name):\n",
    "    print(conf)\n",
    "    \n",
    "print()\n",
    "print(\"find by experiment name\")\n",
    "for conf in cb_meta_experiment_configuration.find_by_experiment_name(experiment_name):\n",
    "    print(conf)"
   ]
  },
  {
   "cell_type": "markdown",
   "metadata": {
    "pycharm": {
     "name": "#%% md\n"
    }
   },
   "source": [
    "Znajdź uruchomienia:"
   ]
  },
  {
   "cell_type": "code",
   "execution_count": null,
   "metadata": {
    "pycharm": {
     "name": "#%%\n"
    }
   },
   "outputs": [],
   "source": [
    "# Finding experiment computation\n",
    "# print(\"find all\")\n",
    "# for config in cb_meta_experiment_computation.find_all():\n",
    "#    print(config)\n",
    "\n",
    "print()\n",
    "print(\"find by id\")\n",
    "print(cb_meta_experiment_computation.find_by_id(computations[0].computation_id_hex))\n",
    "\n",
    "print()\n",
    "print(\"find by experiment\")\n",
    "for comp in cb_meta_experiment_computation.find_by_experiment(experiment):\n",
    "    print(comp)\n",
    "    \n",
    "print()\n",
    "print(\"find by experiment configuration\")\n",
    "for comp in cb_meta_experiment_computation.find_by_configuration(configuration1):\n",
    "    print(comp)"
   ]
  },
  {
   "cell_type": "markdown",
   "source": [
    "Zaaktualizuj parametry lub nazwę eksperymentu:"
   ],
   "metadata": {
    "collapsed": false
   }
  },
  {
   "cell_type": "code",
   "execution_count": null,
   "outputs": [],
   "source": [
    "# Update experiment\n",
    "# Change name and add new param\n",
    "experiment_new_name = \"BETTER EMAS\"\n",
    "updated_experiment = cb_meta_experiment.update(experiment = experiment, name = experiment_new_name, parameters = {\"CoAuthor\": \"Jarosław\"}, override_params = False)\n",
    "print(\"Updated name and parameters:\")\n",
    "print(updated_experiment)\n",
    "print()\n",
    "\n",
    "# change existing param\n",
    "updated_experiment = cb_meta_experiment.update(experiment = experiment, parameters = {\"CoAuthor\": \"Antoni\"}, override_params = False)\n",
    "print(\"Updated already existing parameter:\")\n",
    "print(updated_experiment)\n",
    "print()\n",
    "\n",
    "# override all params\n",
    "updated_experiment = cb_meta_experiment.update(experiment = experiment, parameters = {\"Location\": \"Kraków\"}, override_params = True)\n",
    "print(\"Override all parameters:\")\n",
    "print(updated_experiment)"
   ],
   "metadata": {
    "collapsed": false,
    "pycharm": {
     "name": "#%%\n"
    }
   }
  },
  {
   "cell_type": "markdown",
   "source": [
    "Zaaktualizuj parametry lub nazwę konfiguracji:"
   ],
   "metadata": {
    "collapsed": false
   }
  },
  {
   "cell_type": "code",
   "execution_count": null,
   "outputs": [],
   "source": [
    "# Update experiment configuration\n",
    "# Change name and add new param\n",
    "configuration2_new_name = \"my new very custom config name\"\n",
    "updated_config2 = cb_meta_experiment_configuration.update(configuration=configuration2, configuration_name=configuration2_new_name, parameters={\"use-fast-flip\": True})\n",
    "print(\"Updated name and parameters:\")\n",
    "print(updated_config2)\n",
    "print()\n",
    "\n",
    "# change existing param\n",
    "print(\"Updated already existing parameter:\")\n",
    "updated_config2 = cb_meta_experiment_configuration.update(configuration=configuration2, parameters={\"use-fast-flip\": False})\n",
    "print(updated_config2)\n",
    "print()\n",
    "\n",
    "# override all params\n",
    "print(\"Override all parameters:\")\n",
    "updated_config2 = cb_meta_experiment_configuration.update(configuration=configuration2, parameters={\"iterations\": 10}, override_params=True)\n",
    "print(updated_config2)"
   ],
   "metadata": {
    "collapsed": false,
    "pycharm": {
     "name": "#%%\n"
    }
   }
  },
  {
   "cell_type": "markdown",
   "source": [
    "Usuń dane eksperymentów, konfiguracji lub uruchomień (rekursywnie):\n",
    "\n",
    "*(!) Usuwa także dane z bazy InfluxDB*"
   ],
   "metadata": {
    "collapsed": false
   }
  },
  {
   "cell_type": "code",
   "execution_count": null,
   "outputs": [],
   "source": [
    "# delete metadata and associated values from influxDB\n",
    "\n",
    "# WARNING - deleting experiment will also remove all its configurations and computations\n",
    "cb_deleteion.delete_experiments([experiment])\n",
    "\n",
    "# WARNING - deleting configurations will also remove all its computations\n",
    "# cb_deleteion.delete_configurations([configuration1, configuration2])\n",
    "\n",
    "# cb_deleteion.delete_computations(computations)"
   ],
   "metadata": {
    "collapsed": false,
    "pycharm": {
     "name": "#%%\n"
    }
   }
  },
  {
   "cell_type": "code",
   "execution_count": null,
   "outputs": [],
   "source": [
    "# delete only metadata - probably never needed\n",
    "# WARNING - will not delete data with associated values - stored in influxDB\n",
    "\n",
    "# WARNING - deleting experiment will also remove all its configurations and computations\n",
    "# cb_meta_experiment.delete(experiment)\n",
    "\n",
    "# cb_meta_experiment_configuration.delete(configuration1)\n",
    "# cb_meta_experiment_configuration.delete(configuration2)\n",
    "\n",
    "# for comp in computations:\n",
    "#     cb_meta_experiment_computation.delete(comp)"
   ],
   "metadata": {
    "collapsed": false,
    "pycharm": {
     "name": "#%%\n"
    }
   }
  },
  {
   "cell_type": "code",
   "execution_count": null,
   "outputs": [],
   "source": [
    "# delete only metadata - probably never needed\n",
    "# WARNING - will not delete data with associated values - stored in influxDB\n",
    "\n",
    "# WARNING - deleting experiment will also remove all its configurations and computations\n",
    "# cb_meta_experiment.delete(experiment)\n",
    "\n",
    "# cb_meta_experiment_configuration.delete(configuration1)\n",
    "# cb_meta_experiment_configuration.delete(configuration2)\n",
    "\n",
    "# for comp in computations:\n",
    "#     cb_meta_experiment_computation.delete(comp)"
   ],
   "metadata": {
    "collapsed": false,
    "pycharm": {
     "name": "#%%\n"
    }
   }
  },
  {
   "cell_type": "markdown",
   "metadata": {},
   "source": [
    "Zaaktualizuj parametry lub nazwę eksperymentu:"
   ]
  },
  {
   "cell_type": "code",
   "execution_count": null,
   "metadata": {
    "pycharm": {
     "name": "#%%\n"
    }
   },
   "outputs": [],
   "source": [
    "# Update experiment\n",
    "# Change name and add new param\n",
    "experiment_new_name = \"BETTER EMAS\"\n",
    "updated_experiment = cb_meta_experiment.update(experiment = experiment, name = experiment_new_name, parameters = {\"CoAuthor\": \"Jarosław\"}, override_params = False)\n",
    "print(\"Updated name and parameters:\")\n",
    "print(updated_experiment)\n",
    "print()\n",
    "\n",
    "# change existing param\n",
    "updated_experiment = cb_meta_experiment.update(experiment = experiment, parameters = {\"CoAuthor\": \"Antoni\"}, override_params = False)\n",
    "print(\"Updated already existing parameter:\")\n",
    "print(updated_experiment)\n",
    "print()\n",
    "\n",
    "# override all params\n",
    "updated_experiment = cb_meta_experiment.update(experiment = experiment, parameters = {\"Location\": \"Kraków\"}, override_params = True)\n",
    "print(\"Override all parameters:\")\n",
    "print(updated_experiment)"
   ]
  },
  {
   "cell_type": "markdown",
   "metadata": {},
   "source": [
    "Zaaktualizuj parametry lub nazwę konfiguracji:"
   ]
  },
  {
   "cell_type": "code",
   "execution_count": null,
   "metadata": {
    "pycharm": {
     "name": "#%%\n"
    }
   },
   "outputs": [],
   "source": [
    "# Update experiment configuration\n",
    "# Change name and add new param\n",
    "configuration2_new_name = \"my new very custom config name\"\n",
    "updated_config2 = cb_meta_experiment_configuration.update(configuration=configuration2, configuration_name=configuration2_new_name, parameters={\"use-fast-flip\": True})\n",
    "print(\"Updated name and parameters:\")\n",
    "print(updated_config2)\n",
    "print()\n",
    "\n",
    "# change existing param\n",
    "print(\"Updated already existing parameter:\")\n",
    "updated_config2 = cb_meta_experiment_configuration.update(configuration=configuration2, parameters={\"use-fast-flip\": False})\n",
    "print(updated_config2)\n",
    "print()\n",
    "\n",
    "# override all params\n",
    "print(\"Override all parameters:\")\n",
    "updated_config2 = cb_meta_experiment_configuration.update(configuration=configuration2, parameters={\"iterations\": 10}, override_params=True)\n",
    "print(updated_config2)"
   ]
  },
  {
   "cell_type": "markdown",
   "metadata": {},
   "source": [
    "Usuń dane eksperymentów, konfiguracji lub uruchomień (rekursywnie):\n",
    "\n",
    "*(!) Usuwa także dane z bazy InfluxDB*"
   ]
  },
  {
   "cell_type": "code",
   "execution_count": null,
   "metadata": {
    "pycharm": {
     "name": "#%%\n"
    }
   },
   "outputs": [],
   "source": [
    "# delete metadata and associated values from influxDB\n",
    "\n",
    "# WARNING - deleting experiment will also remove all its configurations and computations\n",
    "cb_deleteion.delete_experiments([experiment])\n",
    "\n",
    "# WARNING - deleting configurations will also remove all its computations\n",
    "# cb_deleteion.delete_configurations([configuration1, configuration2])\n",
    "\n",
    "# cb_deleteion.delete_computations(computations)"
   ]
  },
  {
   "cell_type": "code",
   "execution_count": null,
   "metadata": {
    "pycharm": {
     "name": "#%%\n"
    }
   },
   "outputs": [],
   "source": [
    "# delete only metadata - probably never needed\n",
    "# WARNING - will not delete data with associated values - stored in influxDB\n",
    "\n",
    "# WARNING - deleting experiment will also remove all its configurations and computations\n",
    "# cb_meta_experiment.delete(experiment)\n",
    "\n",
    "# cb_meta_experiment_configuration.delete(configuration1)\n",
    "# cb_meta_experiment_configuration.delete(configuration2)\n",
    "\n",
    "# for comp in computations:\n",
    "#     cb_meta_experiment_computation.delete(comp)"
   ]
  },
  {
   "cell_type": "code",
   "execution_count": 5,
   "metadata": {},
   "outputs": [
    {
     "name": "stdout",
     "output_type": "stream",
     "text": [
      "\n",
      "find by id\n",
      "ExperimentComputation(computation_id_hex=5fa52a97c0cba37786e8b23b, configuration_id=5fa52a97c0cba37786e8b239, time=1604659863.699)\n",
      "\n",
      "find by experiment\n",
      "ExperimentComputation(computation_id_hex=5fa52a97c0cba37786e8b23b, configuration_id=5fa52a97c0cba37786e8b239, time=1604659863.699)\n",
      "ExperimentComputation(computation_id_hex=5fa52a97c0cba37786e8b23d, configuration_id=5fa52a97c0cba37786e8b239, time=1604659863.715)\n",
      "ExperimentComputation(computation_id_hex=5fa52a97c0cba37786e8b23c, configuration_id=5fa52a97c0cba37786e8b23a, time=1604659863.707)\n",
      "ExperimentComputation(computation_id_hex=5fa52a97c0cba37786e8b23e, configuration_id=5fa52a97c0cba37786e8b23a, time=1604659863.723)\n",
      "\n",
      "find by experiment configuration\n",
      "ExperimentComputation(computation_id_hex=5fa52a97c0cba37786e8b23b, configuration_id=5fa52a97c0cba37786e8b239, time=1604659863.699)\n",
      "ExperimentComputation(computation_id_hex=5fa52a97c0cba37786e8b23d, configuration_id=5fa52a97c0cba37786e8b239, time=1604659863.715)\n"
     ]
    }
   ],
   "source": [
    "# delete only metadata - probably never needed\n",
    "# WARNING - will not delete data with associated values - stored in influxDB\n",
    "\n",
    "# WARNING - deleting experiment will also remove all its configurations and computations\n",
    "# cb_meta_experiment.delete(experiment)\n",
    "\n",
    "# cb_meta_experiment_configuration.delete(configuration1)\n",
    "# cb_meta_experiment_configuration.delete(configuration2)\n",
    "\n",
    "# for comp in computations:\n",
    "#     cb_meta_experiment_computation.delete(comp)"
   ]
  },
  {
   "cell_type": "markdown",
   "metadata": {},
   "source": [
    "Zaaktualizuj parametry lub nazwę eksperymentu:"
   ]
  },
  {
   "cell_type": "code",
   "execution_count": 6,
   "metadata": {},
   "outputs": [
    {
     "name": "stdout",
     "output_type": "stream",
     "text": [
      "Updated name and parameters:\n",
      "Experiment(experiment_id_hex=5fa52a97c0cba37786e8b238, name=BETTER EMAS, parameters={'CoAuthor': 'Jarosław', 'Author': 'Andrzej'}, time=1604659863.668)\n",
      "\n",
      "Updated already existing parameter:\n",
      "Experiment(experiment_id_hex=5fa52a97c0cba37786e8b238, name=BETTER EMAS, parameters={'CoAuthor': 'Antoni', 'Author': 'Andrzej'}, time=1604659863.668)\n",
      "\n",
      "Override all parameters:\n",
      "Experiment(experiment_id_hex=5fa52a97c0cba37786e8b238, name=BETTER EMAS, parameters={'Location': 'Kraków'}, time=1604659863.668)\n"
     ]
    }
   ],
   "source": [
    "# Update experiment\n",
    "# Change name and add new param\n",
    "experiment_new_name = \"BETTER EMAS\"\n",
    "updated_experiment = cb_meta_experiment.update(experiment = experiment, name = experiment_new_name, parameters = {\"CoAuthor\": \"Jarosław\"}, override_params = False)\n",
    "print(\"Updated name and parameters:\")\n",
    "print(updated_experiment)\n",
    "print()\n",
    "\n",
    "# change existing param\n",
    "updated_experiment = cb_meta_experiment.update(experiment = experiment, parameters = {\"CoAuthor\": \"Antoni\"}, override_params = False)\n",
    "print(\"Updated already existing parameter:\")\n",
    "print(updated_experiment)\n",
    "print()\n",
    "\n",
    "# override all params\n",
    "updated_experiment = cb_meta_experiment.update(experiment = experiment, parameters = {\"Location\": \"Kraków\"}, override_params = True)\n",
    "print(\"Override all parameters:\")\n",
    "print(updated_experiment)"
   ]
  },
  {
   "cell_type": "markdown",
   "metadata": {},
   "source": [
    "Zaaktualizuj parametry lub nazwę konfiguracji:"
   ]
  },
  {
   "cell_type": "code",
   "execution_count": 7,
   "metadata": {},
   "outputs": [
    {
     "name": "stdout",
     "output_type": "stream",
     "text": [
      "Updated file name and parameters:\n",
      "ExperimentConfiguration(experiment_configuration_id_hex=5fa52a97c0cba37786e8b23a, experiment_id_hex=5fa52a97c0cba37786e8b238, configuration_file_name=file_name.xml, parameters={'energy-transfer': 'proportional', 'islands.count': 100, 'use-fast-flip': True}, time=1604659863.689)\n",
      "\n",
      "Updated already existing parameter:\n",
      "ExperimentConfiguration(experiment_configuration_id_hex=5fa52a97c0cba37786e8b23a, experiment_id_hex=5fa52a97c0cba37786e8b238, configuration_file_name=file_name.xml, parameters={'islands.count': 100, 'energy-transfer': 'proportional', 'use-fast-flip': False}, time=1604659863.689)\n",
      "\n",
      "Override all parameters:\n",
      "ExperimentConfiguration(experiment_configuration_id_hex=5fa52a97c0cba37786e8b23a, experiment_id_hex=5fa52a97c0cba37786e8b238, configuration_file_name=file_name.xml, parameters={'iterations': 10}, time=1604659863.689)\n"
     ]
    }
   ],
   "source": [
    "# Update experiment configuration\n",
    "# Change name and add new param\n",
    "configuration2_new_name = \"my new very custom config name\"\n",
    "updated_config2 = cb_meta_experiment_configuration.update(configuration=configuration2, configuration_name=configuration2_new_name, parameters={\"use-fast-flip\": True})\n",
    "print(\"Updated name and parameters:\")\n",
    "print(updated_config2)\n",
    "print()\n",
    "\n",
    "# change existing param\n",
    "print(\"Updated already existing parameter:\")\n",
    "updated_config2 = cb_meta_experiment_configuration.update(configuration=configuration2, parameters={\"use-fast-flip\": False})\n",
    "print(updated_config2)\n",
    "print()\n",
    "\n",
    "# override all params\n",
    "print(\"Override all parameters:\")\n",
    "updated_config2 = cb_meta_experiment_configuration.update(configuration=configuration2, parameters={\"iterations\": 10}, override_params=True)\n",
    "print(updated_config2)"
   ]
  },
  {
   "cell_type": "markdown",
   "metadata": {},
   "source": [
    "Usuń dane eksperymentów, konfiguracji lub uruchomień (rekursywnie):\n",
    "\n",
    "*(!) Usuwa także dane z bazy InfluxDB*"
   ]
  },
  {
   "cell_type": "code",
   "execution_count": 8,
   "metadata": {},
   "outputs": [],
   "source": [
    "# delete metadata and associated values from influxDB\n",
    "\n",
    "# WARNING - deleting experiment will also remove all its configurations and computations\n",
    "cb_deleteion.delete_experiments([experiment])\n",
    "\n",
    "# WARNING - deleting configurations will also remove all its computations\n",
    "# cb_deleteion.delete_configurations([configuration1, configuration2])\n",
    "\n",
    "# cb_deleteion.delete_computations(computations)"
   ]
  },
  {
   "cell_type": "code",
   "execution_count": 9,
   "metadata": {},
   "outputs": [],
   "source": [
    "# delete only metadata - probably never needed\n",
    "# WARNING - will not delete data with associated values - stored in influxDB\n",
    "\n",
    "# WARNING - deleting experiment will also remove all its configurations and computations\n",
    "# cb_meta_experiment.delete(experiment)\n",
    "\n",
    "# cb_meta_experiment_configuration.delete(configuration1)\n",
    "# cb_meta_experiment_configuration.delete(configuration2)\n",
    "\n",
    "# for comp in computations:\n",
    "#     cb_meta_experiment_computation.delete(comp)"
   ]
  }
 ],
 "metadata": {
  "@webio": {
   "lastCommId": null,
   "lastKernelId": null
  },
  "kernelspec": {
   "display_name": "Python 3",
   "language": "python",
   "name": "python3"
  },
  "language_info": {
   "codemirror_mode": {
    "name": "ipython",
    "version": 3
   },
   "file_extension": ".py",
   "mimetype": "text/x-python",
   "name": "python",
   "nbconvert_exporter": "python",
   "pygments_lexer": "ipython3",
   "version": "3.8.3"
  }
 },
 "nbformat": 4,
 "nbformat_minor": 1
}