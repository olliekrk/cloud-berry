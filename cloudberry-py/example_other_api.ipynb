{
 "cells": [
  {
   "cell_type": "markdown",
   "metadata": {},
   "source": [
    "## Notebook demonstrujący użycie pozostałych API biblioteki"
   ]
  },
  {
   "cell_type": "markdown",
   "metadata": {},
   "source": [
    "Inicjalizacja połączenia z serwerem."
   ]
  },
  {
   "cell_type": "code",
   "execution_count": 1,
   "metadata": {},
   "outputs": [],
   "source": [
    "import cloudberry.api as cb\n",
    "\n",
    "cb_port = 9000\n",
    "cb_config = cb.CloudberryConfig(f'http://localhost:{cb_port}')"
   ]
  },
  {
   "cell_type": "code",
   "execution_count": 2,
   "metadata": {},
   "outputs": [],
   "source": [
    "# Utils\n",
    "import math\n",
    "import datetime\n",
    "get_time = lambda: math.trunc(datetime.datetime.utcnow().timestamp())"
   ]
  },
  {
   "cell_type": "markdown",
   "metadata": {},
   "source": [
    "### API klasy Data\n",
    "Przy pomocy tego API istnieje możliwość wgrania danych do systemu przy pomocy klasy DataPoint, które zawiera pola:\n",
    "* time - znacznik czasowy\n",
    "* fields - pola zawierające dane z obliczeń\n",
    "* tags - znaczniki danych (indeksowane)"
   ]
  },
  {
   "cell_type": "code",
   "execution_count": 3,
   "metadata": {},
   "outputs": [],
   "source": [
    "# Raw data API\n",
    "data_api = cb.Data(cb_config)\n",
    "\n",
    "points = [\n",
    "    cb.DataPoint(time=get_time(), fields={'version': 0.1}, tags={'origin': 'jupyter_notebook', 'type': 'api_demo'}),\n",
    "    cb.DataPoint(time=get_time() + 1, fields={'version': 0.2}, tags={'origin': 'jupyter_notebook', 'type': 'api_demo'}),\n",
    "    cb.DataPoint(time=get_time() + 2, fields={'version': 0.3}, tags={'origin': 'notebook', 'type': 'api_demo'}),\n",
    "    cb.DataPoint(time=get_time() + 3, fields={'version': 0.4}, tags={'origin': 'notebook', 'type': 'api_demo'}),\n",
    "]"
   ]
  },
  {
   "cell_type": "markdown",
   "metadata": {},
   "source": [
    "Zapis danych:"
   ]
  },
  {
   "cell_type": "code",
   "execution_count": 4,
   "metadata": {},
   "outputs": [
    {
     "data": {
      "text/plain": [
       "True"
      ]
     },
     "execution_count": 4,
     "metadata": {},
     "output_type": "execute_result"
    }
   ],
   "source": [
    "# Save raw data points\n",
    "\n",
    "data_api.save_data(points)"
   ]
  },
  {
   "cell_type": "markdown",
   "metadata": {},
   "source": [
    "Do pobrania zapisanych danych wykorzystujemy DataFilters, które zawiera pola:\n",
    "* tags - filtrowanie po wartościach tagów (zalecane)\n",
    "* tags_presence - filtrowanie po obecności tagów (zalecane)\n",
    "* fields - filtrowanie po wartości pól"
   ]
  },
  {
   "cell_type": "code",
   "execution_count": 5,
   "metadata": {},
   "outputs": [
    {
     "data": {
      "text/html": [
       "<div>\n",
       "<style scoped>\n",
       "    .dataframe tbody tr th:only-of-type {\n",
       "        vertical-align: middle;\n",
       "    }\n",
       "\n",
       "    .dataframe tbody tr th {\n",
       "        vertical-align: top;\n",
       "    }\n",
       "\n",
       "    .dataframe thead th {\n",
       "        text-align: right;\n",
       "    }\n",
       "</style>\n",
       "<table border=\"1\" class=\"dataframe\">\n",
       "  <thead>\n",
       "    <tr style=\"text-align: right;\">\n",
       "      <th></th>\n",
       "      <th>_time</th>\n",
       "      <th>_measurement</th>\n",
       "      <th>origin</th>\n",
       "      <th>type</th>\n",
       "      <th>version</th>\n",
       "      <th>series_name</th>\n",
       "    </tr>\n",
       "  </thead>\n",
       "  <tbody>\n",
       "    <tr>\n",
       "      <th>0</th>\n",
       "      <td>1.604656e+09</td>\n",
       "      <td>cloudberry-default</td>\n",
       "      <td>notebook</td>\n",
       "      <td>api_demo</td>\n",
       "      <td>0.3</td>\n",
       "      <td>raw_data</td>\n",
       "    </tr>\n",
       "    <tr>\n",
       "      <th>1</th>\n",
       "      <td>1.604656e+09</td>\n",
       "      <td>cloudberry-default</td>\n",
       "      <td>notebook</td>\n",
       "      <td>api_demo</td>\n",
       "      <td>0.4</td>\n",
       "      <td>raw_data</td>\n",
       "    </tr>\n",
       "  </tbody>\n",
       "</table>\n",
       "</div>"
      ],
      "text/plain": [
       "          _time        _measurement    origin      type  version series_name\n",
       "0  1.604656e+09  cloudberry-default  notebook  api_demo      0.3    raw_data\n",
       "1  1.604656e+09  cloudberry-default  notebook  api_demo      0.4    raw_data"
      ]
     },
     "execution_count": 5,
     "metadata": {},
     "output_type": "execute_result"
    }
   ],
   "source": [
    "# Query raw data points - by tags values\n",
    "\n",
    "filters = cb.DataFilters(tags={'origin': 'notebook'}, tags_presence=None, fields=None)\n",
    "series = data_api.get_data(filters)\n",
    "\n",
    "series.as_data_frame"
   ]
  },
  {
   "cell_type": "code",
   "execution_count": 6,
   "metadata": {},
   "outputs": [
    {
     "data": {
      "text/html": [
       "<div>\n",
       "<style scoped>\n",
       "    .dataframe tbody tr th:only-of-type {\n",
       "        vertical-align: middle;\n",
       "    }\n",
       "\n",
       "    .dataframe tbody tr th {\n",
       "        vertical-align: top;\n",
       "    }\n",
       "\n",
       "    .dataframe thead th {\n",
       "        text-align: right;\n",
       "    }\n",
       "</style>\n",
       "<table border=\"1\" class=\"dataframe\">\n",
       "  <thead>\n",
       "    <tr style=\"text-align: right;\">\n",
       "      <th></th>\n",
       "      <th>_time</th>\n",
       "      <th>_measurement</th>\n",
       "      <th>origin</th>\n",
       "      <th>type</th>\n",
       "      <th>version</th>\n",
       "      <th>series_name</th>\n",
       "    </tr>\n",
       "  </thead>\n",
       "  <tbody>\n",
       "    <tr>\n",
       "      <th>0</th>\n",
       "      <td>1.604656e+09</td>\n",
       "      <td>cloudberry-default</td>\n",
       "      <td>jupyter_notebook</td>\n",
       "      <td>api_demo</td>\n",
       "      <td>0.1</td>\n",
       "      <td>raw_data</td>\n",
       "    </tr>\n",
       "    <tr>\n",
       "      <th>1</th>\n",
       "      <td>1.604656e+09</td>\n",
       "      <td>cloudberry-default</td>\n",
       "      <td>jupyter_notebook</td>\n",
       "      <td>api_demo</td>\n",
       "      <td>0.2</td>\n",
       "      <td>raw_data</td>\n",
       "    </tr>\n",
       "    <tr>\n",
       "      <th>2</th>\n",
       "      <td>1.604656e+09</td>\n",
       "      <td>cloudberry-default</td>\n",
       "      <td>notebook</td>\n",
       "      <td>api_demo</td>\n",
       "      <td>0.3</td>\n",
       "      <td>raw_data</td>\n",
       "    </tr>\n",
       "    <tr>\n",
       "      <th>3</th>\n",
       "      <td>1.604656e+09</td>\n",
       "      <td>cloudberry-default</td>\n",
       "      <td>notebook</td>\n",
       "      <td>api_demo</td>\n",
       "      <td>0.4</td>\n",
       "      <td>raw_data</td>\n",
       "    </tr>\n",
       "  </tbody>\n",
       "</table>\n",
       "</div>"
      ],
      "text/plain": [
       "          _time        _measurement            origin      type  version  \\\n",
       "0  1.604656e+09  cloudberry-default  jupyter_notebook  api_demo      0.1   \n",
       "1  1.604656e+09  cloudberry-default  jupyter_notebook  api_demo      0.2   \n",
       "2  1.604656e+09  cloudberry-default          notebook  api_demo      0.3   \n",
       "3  1.604656e+09  cloudberry-default          notebook  api_demo      0.4   \n",
       "\n",
       "  series_name  \n",
       "0    raw_data  \n",
       "1    raw_data  \n",
       "2    raw_data  \n",
       "3    raw_data  "
      ]
     },
     "execution_count": 6,
     "metadata": {},
     "output_type": "execute_result"
    }
   ],
   "source": [
    "# Query raw data points - by tags presence, regardless of their values\n",
    "\n",
    "filters = cb.DataFilters(tags_presence=['origin'])\n",
    "series = data_api.get_data(filters)\n",
    "\n",
    "series.as_data_frame"
   ]
  },
  {
   "cell_type": "markdown",
   "metadata": {},
   "source": [
    "## API klasy Buckets\n",
    "Do zarządzania sposobem przechowywania danych w bazie TSDB InfluxDB."
   ]
  },
  {
   "cell_type": "code",
   "execution_count": 7,
   "metadata": {},
   "outputs": [],
   "source": [
    "# Buckets (InfluxDB-specific) API\n",
    "\n",
    "buckets_api = cb.Buckets(cb_config)"
   ]
  },
  {
   "cell_type": "markdown",
   "metadata": {},
   "source": [
    "Wylistowanie wszystkich bucket'ów:"
   ]
  },
  {
   "cell_type": "code",
   "execution_count": 8,
   "metadata": {},
   "outputs": [
    {
     "data": {
      "text/plain": [
       "['_monitoring',\n",
       " '_tasks',\n",
       " 'cloudberry_logs',\n",
       " 'cloudberry_metrics',\n",
       " 'cloudberry_logs_streams']"
      ]
     },
     "execution_count": 8,
     "metadata": {},
     "output_type": "execute_result"
    }
   ],
   "source": [
    "# Get present buckets\n",
    "\n",
    "buckets_api.get_buckets_names()"
   ]
  },
  {
   "cell_type": "markdown",
   "metadata": {},
   "source": [
    "Tworzenie nowego bucket'a"
   ]
  },
  {
   "cell_type": "code",
   "execution_count": 9,
   "metadata": {},
   "outputs": [
    {
     "data": {
      "text/plain": [
       "['_monitoring',\n",
       " 'wiaderko_danych_0',\n",
       " '_tasks',\n",
       " 'cloudberry_logs',\n",
       " 'cloudberry_metrics',\n",
       " 'cloudberry_logs_streams']"
      ]
     },
     "execution_count": 9,
     "metadata": {},
     "output_type": "execute_result"
    }
   ],
   "source": [
    "# Create new bucket\n",
    "\n",
    "bucket_name = 'wiaderko_danych_0'\n",
    "buckets_api.create_bucket(bucket_name)\n",
    "\n",
    "buckets_api.get_buckets_names() # verify"
   ]
  },
  {
   "cell_type": "markdown",
   "metadata": {},
   "source": [
    "Usuwanie bucket'a"
   ]
  },
  {
   "cell_type": "code",
   "execution_count": 10,
   "metadata": {},
   "outputs": [
    {
     "data": {
      "text/plain": [
       "['_monitoring',\n",
       " '_tasks',\n",
       " 'cloudberry_logs',\n",
       " 'cloudberry_metrics',\n",
       " 'cloudberry_logs_streams']"
      ]
     },
     "execution_count": 10,
     "metadata": {},
     "output_type": "execute_result"
    }
   ],
   "source": [
    "# Delete new bucket\n",
    "\n",
    "buckets_api.delete_bucket(bucket_name)\n",
    "\n",
    "buckets_api.get_buckets_names() # verify"
   ]
  },
  {
   "cell_type": "markdown",
   "metadata": {},
   "source": [
    "## API klasy Query\n",
    "Do wykonywania query według specyfikacji języka Flux, zwracających pojedynczą serię danych."
   ]
  },
  {
   "cell_type": "code",
   "execution_count": 11,
   "metadata": {},
   "outputs": [
    {
     "data": {
      "text/html": [
       "<div>\n",
       "<style scoped>\n",
       "    .dataframe tbody tr th:only-of-type {\n",
       "        vertical-align: middle;\n",
       "    }\n",
       "\n",
       "    .dataframe tbody tr th {\n",
       "        vertical-align: top;\n",
       "    }\n",
       "\n",
       "    .dataframe thead th {\n",
       "        text-align: right;\n",
       "    }\n",
       "</style>\n",
       "<table border=\"1\" class=\"dataframe\">\n",
       "  <thead>\n",
       "    <tr style=\"text-align: right;\">\n",
       "      <th></th>\n",
       "      <th>result</th>\n",
       "      <th>table</th>\n",
       "      <th>_time</th>\n",
       "      <th>_value</th>\n",
       "      <th>series_name</th>\n",
       "    </tr>\n",
       "  </thead>\n",
       "  <tbody>\n",
       "    <tr>\n",
       "      <th>0</th>\n",
       "      <td>_result</td>\n",
       "      <td>0</td>\n",
       "      <td>1.604656e+09</td>\n",
       "      <td>0.1</td>\n",
       "      <td>flux_query</td>\n",
       "    </tr>\n",
       "    <tr>\n",
       "      <th>1</th>\n",
       "      <td>_result</td>\n",
       "      <td>0</td>\n",
       "      <td>1.604656e+09</td>\n",
       "      <td>0.2</td>\n",
       "      <td>flux_query</td>\n",
       "    </tr>\n",
       "    <tr>\n",
       "      <th>2</th>\n",
       "      <td>_result</td>\n",
       "      <td>0</td>\n",
       "      <td>1.604656e+09</td>\n",
       "      <td>0.3</td>\n",
       "      <td>flux_query</td>\n",
       "    </tr>\n",
       "    <tr>\n",
       "      <th>3</th>\n",
       "      <td>_result</td>\n",
       "      <td>0</td>\n",
       "      <td>1.604656e+09</td>\n",
       "      <td>0.4</td>\n",
       "      <td>flux_query</td>\n",
       "    </tr>\n",
       "  </tbody>\n",
       "</table>\n",
       "</div>"
      ],
      "text/plain": [
       "    result  table         _time  _value series_name\n",
       "0  _result      0  1.604656e+09     0.1  flux_query\n",
       "1  _result      0  1.604656e+09     0.2  flux_query\n",
       "2  _result      0  1.604656e+09     0.3  flux_query\n",
       "3  _result      0  1.604656e+09     0.4  flux_query"
      ]
     },
     "execution_count": 11,
     "metadata": {},
     "output_type": "execute_result"
    }
   ],
   "source": [
    "# Raw Flux Query (InfluxDB-specific) API\n",
    "\n",
    "query_api = cb.Query(cb_config)\n",
    "query_flux = \"\"\"\n",
    "from(bucket:\"cloudberry_logs\")\n",
    "|> range(start: 0)\n",
    "|> filter(fn: (r) => r._field == \"version\")\n",
    "|> keep(columns: [\"_value\", \"_time\"])\n",
    "\"\"\"\n",
    "\n",
    "query_series = query_api.query_series(query_flux)\n",
    "query_series.as_data_frame"
   ]
  },
  {
   "cell_type": "code",
   "execution_count": 12,
   "metadata": {},
   "outputs": [
    {
     "data": {
      "text/plain": [
       "True"
      ]
     },
     "execution_count": 12,
     "metadata": {},
     "output_type": "execute_result"
    }
   ],
   "source": [
    "# Delete created raw data points\n",
    "\n",
    "data_api.delete_data(filters)"
   ]
  },
  {
   "cell_type": "markdown",
   "metadata": {},
   "source": [
    "## Wgrywanie danych z plików CSV\n",
    "Aby wgrać pliki CSV z danymi do systemu, należy najpierw utworzyć metadane dla eksperymentu, które opiszą jakiego eksperymentu dotyczą dane oraz konfiguracji, opisujące konfigurację w której uzyskano dany wynik."
   ]
  },
  {
   "cell_type": "code",
   "execution_count": 13,
   "metadata": {},
   "outputs": [],
   "source": [
    "# Create metadata necessary for CSV upload - Experiment & Configuration\n",
    "\n",
    "meta_api = cb.Metadata(cb_config)\n",
    "experiment_api = meta_api.experiment_api()\n",
    "configuration_api = meta_api.experiment_configuration_api()\n",
    "\n",
    "csv_experiment_name = 'Example CSV Experiment'\n",
    "csv_configuration_name = 'Example CSV Configuration'\n",
    "\n",
    "# optionally pass parameters to save experiment with\n",
    "csv_experiment = experiment_api.find_or_create(csv_experiment_name, parameters={'importance': 'high'})\n",
    "csv_configuration = configuration_api.find_or_create(csv_experiment, csv_configuration_name, parameters={'version': 1})"
   ]
  },
  {
   "cell_type": "markdown",
   "metadata": {},
   "source": [
    "Do importu danych należy użyć API klasy CsvFileUploader.\n",
    "W klasie CsvUploadDetails specyfikujemy:\n",
    "* tags_names - lista kolumn które są tagami i powinny zostać zaindeksowane\n",
    "* configuration - konfiguracja utworzona wcześniej, opisująca plik\n",
    "* computation (opcjonalny) - jeżeli podany, dane zostaną przypisane istniejącemu uruchomieniu, w przeciwnym razie zostanie utworzone nowe uruchomienie"
   ]
  },
  {
   "cell_type": "code",
   "execution_count": 14,
   "metadata": {},
   "outputs": [],
   "source": [
    "# CSV-like Data Upload API\n",
    "\n",
    "csv_api = cb.CsvFileUploader(cb_config)\n",
    "\n",
    "csv_file_path = './data/emas_1.csv'\n",
    "csv_details = cb.CsvUploadDetails(\n",
    "    tags_names=['WORKPLACE_ID'],\n",
    "    configuration=csv_configuration,\n",
    "    computation=None # None for new one, otherwise append data to existing computation \n",
    ")\n",
    "\n",
    "csv_computation = csv_api.upload_file(\n",
    "    csv_file_path,\n",
    "    csv_experiment_name,\n",
    "    csv_details\n",
    ")"
   ]
  },
  {
   "cell_type": "code",
   "execution_count": 15,
   "metadata": {},
   "outputs": [
    {
     "data": {
      "text/html": [
       "<div>\n",
       "<style scoped>\n",
       "    .dataframe tbody tr th:only-of-type {\n",
       "        vertical-align: middle;\n",
       "    }\n",
       "\n",
       "    .dataframe tbody tr th {\n",
       "        vertical-align: top;\n",
       "    }\n",
       "\n",
       "    .dataframe thead th {\n",
       "        text-align: right;\n",
       "    }\n",
       "</style>\n",
       "<table border=\"1\" class=\"dataframe\">\n",
       "  <thead>\n",
       "    <tr style=\"text-align: right;\">\n",
       "      <th></th>\n",
       "      <th>_time</th>\n",
       "      <th>WORKPLACE_ID</th>\n",
       "      <th>_measurement</th>\n",
       "      <th>computationId</th>\n",
       "      <th>ENERGY_SUM</th>\n",
       "      <th>AVERAGE_FITNESS</th>\n",
       "      <th>POPULATION_SIZE</th>\n",
       "      <th>STEP_NUMBER</th>\n",
       "      <th>series_name</th>\n",
       "    </tr>\n",
       "  </thead>\n",
       "  <tbody>\n",
       "    <tr>\n",
       "      <th>0</th>\n",
       "      <td>1.603151e+09</td>\n",
       "      <td>0</td>\n",
       "      <td>cloudberry-default</td>\n",
       "      <td>5fa52a71c0cba37786e8b237</td>\n",
       "      <td>2460.512629</td>\n",
       "      <td>4.598373</td>\n",
       "      <td>98.0</td>\n",
       "      <td>5079.0</td>\n",
       "      <td>raw_data</td>\n",
       "    </tr>\n",
       "    <tr>\n",
       "      <th>1</th>\n",
       "      <td>1.603152e+09</td>\n",
       "      <td>0</td>\n",
       "      <td>cloudberry-default</td>\n",
       "      <td>5fa52a71c0cba37786e8b237</td>\n",
       "      <td>2454.008962</td>\n",
       "      <td>4.595291</td>\n",
       "      <td>98.0</td>\n",
       "      <td>10478.0</td>\n",
       "      <td>raw_data</td>\n",
       "    </tr>\n",
       "    <tr>\n",
       "      <th>2</th>\n",
       "      <td>1.603153e+09</td>\n",
       "      <td>0</td>\n",
       "      <td>cloudberry-default</td>\n",
       "      <td>5fa52a71c0cba37786e8b237</td>\n",
       "      <td>2529.148288</td>\n",
       "      <td>4.607681</td>\n",
       "      <td>99.0</td>\n",
       "      <td>15843.0</td>\n",
       "      <td>raw_data</td>\n",
       "    </tr>\n",
       "    <tr>\n",
       "      <th>3</th>\n",
       "      <td>1.603154e+09</td>\n",
       "      <td>0</td>\n",
       "      <td>cloudberry-default</td>\n",
       "      <td>5fa52a71c0cba37786e8b237</td>\n",
       "      <td>1974.607684</td>\n",
       "      <td>4.608023</td>\n",
       "      <td>76.0</td>\n",
       "      <td>20914.0</td>\n",
       "      <td>raw_data</td>\n",
       "    </tr>\n",
       "  </tbody>\n",
       "</table>\n",
       "</div>"
      ],
      "text/plain": [
       "          _time WORKPLACE_ID        _measurement             computationId  \\\n",
       "0  1.603151e+09            0  cloudberry-default  5fa52a71c0cba37786e8b237   \n",
       "1  1.603152e+09            0  cloudberry-default  5fa52a71c0cba37786e8b237   \n",
       "2  1.603153e+09            0  cloudberry-default  5fa52a71c0cba37786e8b237   \n",
       "3  1.603154e+09            0  cloudberry-default  5fa52a71c0cba37786e8b237   \n",
       "\n",
       "    ENERGY_SUM  AVERAGE_FITNESS  POPULATION_SIZE  STEP_NUMBER series_name  \n",
       "0  2460.512629         4.598373             98.0       5079.0    raw_data  \n",
       "1  2454.008962         4.595291             98.0      10478.0    raw_data  \n",
       "2  2529.148288         4.607681             99.0      15843.0    raw_data  \n",
       "3  1974.607684         4.608023             76.0      20914.0    raw_data  "
      ]
     },
     "execution_count": 15,
     "metadata": {},
     "output_type": "execute_result"
    }
   ],
   "source": [
    "# Verify uploaded CSV data\n",
    "\n",
    "filters = cb.DataFilters(tags={'WORKPLACE_ID': 0}, computation=csv_computation)\n",
    "series = data_api.get_data(filters)\n",
    "series.as_data_frame"
   ]
  },
  {
   "cell_type": "code",
   "execution_count": 16,
   "metadata": {},
   "outputs": [
    {
     "name": "stdout",
     "output_type": "stream",
     "text": [
      "{'computation_id': '5fa52a71c0cba37786e8b237', 'configuration_id': '5fa52a71c0cba37786e8b235', 'experiment_id': '5fa52a71c0cba37786e8b234'}\n"
     ]
    },
    {
     "data": {
      "text/html": [
       "<div>\n",
       "<style scoped>\n",
       "    .dataframe tbody tr th:only-of-type {\n",
       "        vertical-align: middle;\n",
       "    }\n",
       "\n",
       "    .dataframe tbody tr th {\n",
       "        vertical-align: top;\n",
       "    }\n",
       "\n",
       "    .dataframe thead th {\n",
       "        text-align: right;\n",
       "    }\n",
       "</style>\n",
       "<table border=\"1\" class=\"dataframe\">\n",
       "  <thead>\n",
       "    <tr style=\"text-align: right;\">\n",
       "      <th></th>\n",
       "      <th>_time</th>\n",
       "      <th>WORKPLACE_ID</th>\n",
       "      <th>_measurement</th>\n",
       "      <th>computationId</th>\n",
       "      <th>ENERGY_SUM</th>\n",
       "      <th>AVERAGE_FITNESS</th>\n",
       "      <th>POPULATION_SIZE</th>\n",
       "      <th>STEP_NUMBER</th>\n",
       "      <th>series_name</th>\n",
       "      <th>experiment_id</th>\n",
       "      <th>configuration_id</th>\n",
       "      <th>computation_id</th>\n",
       "    </tr>\n",
       "  </thead>\n",
       "  <tbody>\n",
       "    <tr>\n",
       "      <th>0</th>\n",
       "      <td>1.603151e+09</td>\n",
       "      <td>0</td>\n",
       "      <td>cloudberry-default</td>\n",
       "      <td>5fa52a71c0cba37786e8b237</td>\n",
       "      <td>2460.512629</td>\n",
       "      <td>4.598373</td>\n",
       "      <td>98.0</td>\n",
       "      <td>5079.0</td>\n",
       "      <td>raw_data</td>\n",
       "      <td>5fa52a71c0cba37786e8b234</td>\n",
       "      <td>5fa52a71c0cba37786e8b235</td>\n",
       "      <td>5fa52a71c0cba37786e8b237</td>\n",
       "    </tr>\n",
       "    <tr>\n",
       "      <th>1</th>\n",
       "      <td>1.603152e+09</td>\n",
       "      <td>0</td>\n",
       "      <td>cloudberry-default</td>\n",
       "      <td>5fa52a71c0cba37786e8b237</td>\n",
       "      <td>2454.008962</td>\n",
       "      <td>4.595291</td>\n",
       "      <td>98.0</td>\n",
       "      <td>10478.0</td>\n",
       "      <td>raw_data</td>\n",
       "      <td>5fa52a71c0cba37786e8b234</td>\n",
       "      <td>5fa52a71c0cba37786e8b235</td>\n",
       "      <td>5fa52a71c0cba37786e8b237</td>\n",
       "    </tr>\n",
       "    <tr>\n",
       "      <th>2</th>\n",
       "      <td>1.603153e+09</td>\n",
       "      <td>0</td>\n",
       "      <td>cloudberry-default</td>\n",
       "      <td>5fa52a71c0cba37786e8b237</td>\n",
       "      <td>2529.148288</td>\n",
       "      <td>4.607681</td>\n",
       "      <td>99.0</td>\n",
       "      <td>15843.0</td>\n",
       "      <td>raw_data</td>\n",
       "      <td>5fa52a71c0cba37786e8b234</td>\n",
       "      <td>5fa52a71c0cba37786e8b235</td>\n",
       "      <td>5fa52a71c0cba37786e8b237</td>\n",
       "    </tr>\n",
       "    <tr>\n",
       "      <th>3</th>\n",
       "      <td>1.603154e+09</td>\n",
       "      <td>0</td>\n",
       "      <td>cloudberry-default</td>\n",
       "      <td>5fa52a71c0cba37786e8b237</td>\n",
       "      <td>1974.607684</td>\n",
       "      <td>4.608023</td>\n",
       "      <td>76.0</td>\n",
       "      <td>20914.0</td>\n",
       "      <td>raw_data</td>\n",
       "      <td>5fa52a71c0cba37786e8b234</td>\n",
       "      <td>5fa52a71c0cba37786e8b235</td>\n",
       "      <td>5fa52a71c0cba37786e8b237</td>\n",
       "    </tr>\n",
       "  </tbody>\n",
       "</table>\n",
       "</div>"
      ],
      "text/plain": [
       "          _time WORKPLACE_ID        _measurement             computationId  \\\n",
       "0  1.603151e+09            0  cloudberry-default  5fa52a71c0cba37786e8b237   \n",
       "1  1.603152e+09            0  cloudberry-default  5fa52a71c0cba37786e8b237   \n",
       "2  1.603153e+09            0  cloudberry-default  5fa52a71c0cba37786e8b237   \n",
       "3  1.603154e+09            0  cloudberry-default  5fa52a71c0cba37786e8b237   \n",
       "\n",
       "    ENERGY_SUM  AVERAGE_FITNESS  POPULATION_SIZE  STEP_NUMBER series_name  \\\n",
       "0  2460.512629         4.598373             98.0       5079.0    raw_data   \n",
       "1  2454.008962         4.595291             98.0      10478.0    raw_data   \n",
       "2  2529.148288         4.607681             99.0      15843.0    raw_data   \n",
       "3  1974.607684         4.608023             76.0      20914.0    raw_data   \n",
       "\n",
       "              experiment_id          configuration_id  \\\n",
       "0  5fa52a71c0cba37786e8b234  5fa52a71c0cba37786e8b235   \n",
       "1  5fa52a71c0cba37786e8b234  5fa52a71c0cba37786e8b235   \n",
       "2  5fa52a71c0cba37786e8b234  5fa52a71c0cba37786e8b235   \n",
       "3  5fa52a71c0cba37786e8b234  5fa52a71c0cba37786e8b235   \n",
       "\n",
       "             computation_id  \n",
       "0  5fa52a71c0cba37786e8b237  \n",
       "1  5fa52a71c0cba37786e8b237  \n",
       "2  5fa52a71c0cba37786e8b237  \n",
       "3  5fa52a71c0cba37786e8b237  "
      ]
     },
     "execution_count": 16,
     "metadata": {},
     "output_type": "execute_result"
    }
   ],
   "source": [
    "# Append additional metadata ids to DataSeries\n",
    "\n",
    "series.meta_ids = meta_api.get_meta_ids(csv_computation)\n",
    "print(series.meta_ids.__dict__)\n",
    "series.as_data_frame"
   ]
  },
  {
   "cell_type": "markdown",
   "metadata": {},
   "source": [
    "## API klasy Anomalies\n",
    "Przy pomocy Anomalies, możemy zbadać wartość wybranego pola dla danego uruchomienia, otrzymując informacje statystyczne o tym polu w obrębie serii."
   ]
  },
  {
   "cell_type": "code",
   "execution_count": 17,
   "metadata": {},
   "outputs": [
    {
     "data": {
      "text/plain": [
       "{'computation_id': '5fa52a71c0cba37786e8b237',\n",
       " 'stddev': 255.57835624293207,\n",
       " 'mean': 2354.5693908957446,\n",
       " 'spread': 554.5406047293914,\n",
       " 'minimum': 1974.6076836456664,\n",
       " 'maximum': 2529.1482883750577,\n",
       " 'max_diff': 554.5406047293914}"
      ]
     },
     "execution_count": 17,
     "metadata": {},
     "output_type": "execute_result"
    }
   ],
   "source": [
    "# # Anomalies Reports API\n",
    "\n",
    "anomalies_api = cb.Anomalies(cb_config)\n",
    "report = anomalies_api.get_report(field_name='ENERGY_SUM', computation=csv_computation)\n",
    "\n",
    "report.__dict__"
   ]
  },
  {
   "cell_type": "code",
   "execution_count": 18,
   "metadata": {},
   "outputs": [
    {
     "data": {
      "text/plain": [
       "True"
      ]
     },
     "execution_count": 18,
     "metadata": {},
     "output_type": "execute_result"
    }
   ],
   "source": [
    "# Cleanup\n",
    "data_api.delete_data(filters)"
   ]
  },
  {
   "cell_type": "markdown",
   "metadata": {},
   "source": [
    "## API klasy ApiConfiguration\n",
    "Przy pomocy ApiConfiguration możemy modyfikować pewne ustawienia serwera, np. to do jakiego bucket'a w bazie InfluxDB domyślnie trafią wszelkie zbierane dane."
   ]
  },
  {
   "cell_type": "code",
   "execution_count": 19,
   "metadata": {},
   "outputs": [
    {
     "name": "stdout",
     "output_type": "stream",
     "text": [
      "cloudberry_logs_secondary\n",
      "True\n"
     ]
    }
   ],
   "source": [
    "# Configuration Properties API\n",
    "\n",
    "properties_api = cb.ApiConfiguration(cb_config)\n",
    "\n",
    "property_key = cb.ApiPropertiesIndex.OVERRIDDEN_DEFAULT_BUCKET_NAME\n",
    "\n",
    "properties_api.set_property(property_key, \"cloudberry_logs_secondary\")\n",
    "property_value = properties_api.get_property(property_key)\n",
    "print(property_value)\n",
    "\n",
    "properties_api.delete_property(property_key)\n",
    "\n",
    "property_value = properties_api.get_property(property_key)\n",
    "print(property_value == '')"
   ]
  }
 ],
 "metadata": {
  "kernelspec": {
   "display_name": "Python 3",
   "language": "python",
   "name": "python3"
  },
  "language_info": {
   "codemirror_mode": {
    "name": "ipython",
    "version": 3
   },
   "file_extension": ".py",
   "mimetype": "text/x-python",
   "name": "python",
   "nbconvert_exporter": "python",
   "pygments_lexer": "ipython3",
   "version": "3.8.3"
  }
 },
 "nbformat": 4,
 "nbformat_minor": 1
}
