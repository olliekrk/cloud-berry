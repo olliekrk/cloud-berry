{
 "cells": [
  {
   "cell_type": "code",
   "execution_count": 1,
   "metadata": {},
   "outputs": [],
   "source": [
    "\"\"\"\n",
    " TODO: put there apis for:\n",
    "  * Configuration\n",
    "  * Anomalies\n",
    "  * Raw CSV Upload\n",
    "\"\"\"\n",
    "\n",
    "import cloudberry.api as cb\n",
    "cb_port = 9000\n",
    "cb_config = cb.CloudberryConfig(f'http://localhost:{cb_port}')"
   ]
  },
  {
   "cell_type": "code",
   "execution_count": 2,
   "metadata": {},
   "outputs": [],
   "source": [
    "# Utils\n",
    "import math\n",
    "import datetime\n",
    "get_time = lambda: math.trunc(datetime.datetime.utcnow().timestamp())"
   ]
  },
  {
   "cell_type": "code",
   "execution_count": 3,
   "metadata": {},
   "outputs": [],
   "source": [
    "# Raw data API\n",
    "data_api = cb.Data(cb_config)\n",
    "\n",
    "points = [\n",
    "    cb.DataPoint(time=get_time(), fields={'version': 0.1}, tags={'origin': 'jupyter_notebook', 'type': 'api_demo'}),\n",
    "    cb.DataPoint(time=get_time() + 1, fields={'version': 0.2}, tags={'origin': 'jupyter_notebook', 'type': 'api_demo'}),\n",
    "    cb.DataPoint(time=get_time() + 2, fields={'version': 0.3}, tags={'origin': 'notebook', 'type': 'api_demo'}),\n",
    "    cb.DataPoint(time=get_time() + 3, fields={'version': 0.4}, tags={'origin': 'notebook', 'type': 'api_demo'}),\n",
    "]"
   ]
  },
  {
   "cell_type": "code",
   "execution_count": 4,
   "metadata": {},
   "outputs": [
    {
     "data": {
      "text/plain": [
       "True"
      ]
     },
     "execution_count": 4,
     "metadata": {},
     "output_type": "execute_result"
    }
   ],
   "source": [
    "# Save raw data points\n",
    "\n",
    "data_api.save_data(points)"
   ]
  },
  {
   "cell_type": "code",
   "execution_count": 5,
   "metadata": {},
   "outputs": [
    {
     "data": {
      "text/html": [
       "<div>\n",
       "<style scoped>\n",
       "    .dataframe tbody tr th:only-of-type {\n",
       "        vertical-align: middle;\n",
       "    }\n",
       "\n",
       "    .dataframe tbody tr th {\n",
       "        vertical-align: top;\n",
       "    }\n",
       "\n",
       "    .dataframe thead th {\n",
       "        text-align: right;\n",
       "    }\n",
       "</style>\n",
       "<table border=\"1\" class=\"dataframe\">\n",
       "  <thead>\n",
       "    <tr style=\"text-align: right;\">\n",
       "      <th></th>\n",
       "      <th>_time</th>\n",
       "      <th>_measurement</th>\n",
       "      <th>origin</th>\n",
       "      <th>type</th>\n",
       "      <th>version</th>\n",
       "      <th>series_name</th>\n",
       "    </tr>\n",
       "  </thead>\n",
       "  <tbody>\n",
       "    <tr>\n",
       "      <th>0</th>\n",
       "      <td>1.604009e+09</td>\n",
       "      <td>cloudberry-default</td>\n",
       "      <td>notebook</td>\n",
       "      <td>api_demo</td>\n",
       "      <td>0.3</td>\n",
       "      <td>raw_data</td>\n",
       "    </tr>\n",
       "    <tr>\n",
       "      <th>1</th>\n",
       "      <td>1.604009e+09</td>\n",
       "      <td>cloudberry-default</td>\n",
       "      <td>notebook</td>\n",
       "      <td>api_demo</td>\n",
       "      <td>0.4</td>\n",
       "      <td>raw_data</td>\n",
       "    </tr>\n",
       "  </tbody>\n",
       "</table>\n",
       "</div>"
      ],
      "text/plain": [
       "          _time        _measurement    origin      type  version series_name\n",
       "0  1.604009e+09  cloudberry-default  notebook  api_demo      0.3    raw_data\n",
       "1  1.604009e+09  cloudberry-default  notebook  api_demo      0.4    raw_data"
      ]
     },
     "execution_count": 5,
     "metadata": {},
     "output_type": "execute_result"
    }
   ],
   "source": [
    "# Query raw data points - by tags values\n",
    "\n",
    "filters = cb.DataFilters(tags={'origin': 'notebook'}, tags_presence=None, fields=None)\n",
    "series = data_api.get_data(filters)\n",
    "\n",
    "series.as_data_frame"
   ]
  },
  {
   "cell_type": "code",
   "execution_count": 6,
   "metadata": {},
   "outputs": [
    {
     "data": {
      "text/html": [
       "<div>\n",
       "<style scoped>\n",
       "    .dataframe tbody tr th:only-of-type {\n",
       "        vertical-align: middle;\n",
       "    }\n",
       "\n",
       "    .dataframe tbody tr th {\n",
       "        vertical-align: top;\n",
       "    }\n",
       "\n",
       "    .dataframe thead th {\n",
       "        text-align: right;\n",
       "    }\n",
       "</style>\n",
       "<table border=\"1\" class=\"dataframe\">\n",
       "  <thead>\n",
       "    <tr style=\"text-align: right;\">\n",
       "      <th></th>\n",
       "      <th>_time</th>\n",
       "      <th>_measurement</th>\n",
       "      <th>origin</th>\n",
       "      <th>type</th>\n",
       "      <th>version</th>\n",
       "      <th>series_name</th>\n",
       "    </tr>\n",
       "  </thead>\n",
       "  <tbody>\n",
       "    <tr>\n",
       "      <th>0</th>\n",
       "      <td>1.604009e+09</td>\n",
       "      <td>cloudberry-default</td>\n",
       "      <td>jupyter_notebook</td>\n",
       "      <td>api_demo</td>\n",
       "      <td>0.1</td>\n",
       "      <td>raw_data</td>\n",
       "    </tr>\n",
       "    <tr>\n",
       "      <th>1</th>\n",
       "      <td>1.604009e+09</td>\n",
       "      <td>cloudberry-default</td>\n",
       "      <td>jupyter_notebook</td>\n",
       "      <td>api_demo</td>\n",
       "      <td>0.2</td>\n",
       "      <td>raw_data</td>\n",
       "    </tr>\n",
       "    <tr>\n",
       "      <th>2</th>\n",
       "      <td>1.604009e+09</td>\n",
       "      <td>cloudberry-default</td>\n",
       "      <td>notebook</td>\n",
       "      <td>api_demo</td>\n",
       "      <td>0.3</td>\n",
       "      <td>raw_data</td>\n",
       "    </tr>\n",
       "    <tr>\n",
       "      <th>3</th>\n",
       "      <td>1.604009e+09</td>\n",
       "      <td>cloudberry-default</td>\n",
       "      <td>notebook</td>\n",
       "      <td>api_demo</td>\n",
       "      <td>0.4</td>\n",
       "      <td>raw_data</td>\n",
       "    </tr>\n",
       "  </tbody>\n",
       "</table>\n",
       "</div>"
      ],
      "text/plain": [
       "          _time        _measurement            origin      type  version  \\\n",
       "0  1.604009e+09  cloudberry-default  jupyter_notebook  api_demo      0.1   \n",
       "1  1.604009e+09  cloudberry-default  jupyter_notebook  api_demo      0.2   \n",
       "2  1.604009e+09  cloudberry-default          notebook  api_demo      0.3   \n",
       "3  1.604009e+09  cloudberry-default          notebook  api_demo      0.4   \n",
       "\n",
       "  series_name  \n",
       "0    raw_data  \n",
       "1    raw_data  \n",
       "2    raw_data  \n",
       "3    raw_data  "
      ]
     },
     "execution_count": 6,
     "metadata": {},
     "output_type": "execute_result"
    }
   ],
   "source": [
    "# Query raw data points - by tags presence, regardless of their values\n",
    "\n",
    "filters = cb.DataFilters(tags_presence=['origin'])\n",
    "series = data_api.get_data(filters)\n",
    "\n",
    "series.as_data_frame"
   ]
  },
  {
   "cell_type": "code",
   "execution_count": 8,
   "metadata": {},
   "outputs": [],
   "source": [
    "# Buckets (InfluxDB-specific) API\n",
    "\n",
    "buckets_api = cb.Buckets(cb_config)"
   ]
  },
  {
   "cell_type": "code",
   "execution_count": 9,
   "metadata": {},
   "outputs": [
    {
     "data": {
      "text/plain": [
       "['cloudberry_logs', '_monitoring', '_tasks', 'cloudberry_metrics']"
      ]
     },
     "execution_count": 9,
     "metadata": {},
     "output_type": "execute_result"
    }
   ],
   "source": [
    "# Get present buckets\n",
    "\n",
    "buckets_api.get_buckets_names()"
   ]
  },
  {
   "cell_type": "code",
   "execution_count": 10,
   "metadata": {},
   "outputs": [
    {
     "data": {
      "text/plain": [
       "['cloudberry_logs',\n",
       " '_monitoring',\n",
       " 'wiaderko_danych_0',\n",
       " '_tasks',\n",
       " 'cloudberry_metrics']"
      ]
     },
     "execution_count": 10,
     "metadata": {},
     "output_type": "execute_result"
    }
   ],
   "source": [
    "# Create new bucket\n",
    "\n",
    "bucket_name = 'wiaderko_danych_0'\n",
    "buckets_api.create_bucket(bucket_name)\n",
    "\n",
    "buckets_api.get_buckets_names() # verify"
   ]
  },
  {
   "cell_type": "code",
   "execution_count": 11,
   "metadata": {},
   "outputs": [
    {
     "data": {
      "text/plain": [
       "['cloudberry_logs', '_monitoring', '_tasks', 'cloudberry_metrics']"
      ]
     },
     "execution_count": 11,
     "metadata": {},
     "output_type": "execute_result"
    }
   ],
   "source": [
    "# Delete new bucket\n",
    "\n",
    "buckets_api.delete_bucket(bucket_name)\n",
    "\n",
    "buckets_api.get_buckets_names() # verify"
   ]
  },
  {
   "cell_type": "code",
   "execution_count": 12,
   "metadata": {},
   "outputs": [
    {
     "data": {
      "text/html": [
       "<div>\n",
       "<style scoped>\n",
       "    .dataframe tbody tr th:only-of-type {\n",
       "        vertical-align: middle;\n",
       "    }\n",
       "\n",
       "    .dataframe tbody tr th {\n",
       "        vertical-align: top;\n",
       "    }\n",
       "\n",
       "    .dataframe thead th {\n",
       "        text-align: right;\n",
       "    }\n",
       "</style>\n",
       "<table border=\"1\" class=\"dataframe\">\n",
       "  <thead>\n",
       "    <tr style=\"text-align: right;\">\n",
       "      <th></th>\n",
       "      <th>result</th>\n",
       "      <th>table</th>\n",
       "      <th>_time</th>\n",
       "      <th>_value</th>\n",
       "      <th>series_name</th>\n",
       "    </tr>\n",
       "  </thead>\n",
       "  <tbody>\n",
       "    <tr>\n",
       "      <th>0</th>\n",
       "      <td>_result</td>\n",
       "      <td>0</td>\n",
       "      <td>1.604009e+09</td>\n",
       "      <td>0.1</td>\n",
       "      <td>\\nfrom(bucket:\"cloudberry_logs\")\\n|&gt; range(sta...</td>\n",
       "    </tr>\n",
       "    <tr>\n",
       "      <th>1</th>\n",
       "      <td>_result</td>\n",
       "      <td>0</td>\n",
       "      <td>1.604009e+09</td>\n",
       "      <td>0.2</td>\n",
       "      <td>\\nfrom(bucket:\"cloudberry_logs\")\\n|&gt; range(sta...</td>\n",
       "    </tr>\n",
       "    <tr>\n",
       "      <th>2</th>\n",
       "      <td>_result</td>\n",
       "      <td>0</td>\n",
       "      <td>1.604009e+09</td>\n",
       "      <td>0.3</td>\n",
       "      <td>\\nfrom(bucket:\"cloudberry_logs\")\\n|&gt; range(sta...</td>\n",
       "    </tr>\n",
       "    <tr>\n",
       "      <th>3</th>\n",
       "      <td>_result</td>\n",
       "      <td>0</td>\n",
       "      <td>1.604009e+09</td>\n",
       "      <td>0.4</td>\n",
       "      <td>\\nfrom(bucket:\"cloudberry_logs\")\\n|&gt; range(sta...</td>\n",
       "    </tr>\n",
       "  </tbody>\n",
       "</table>\n",
       "</div>"
      ],
      "text/plain": [
       "    result  table         _time  _value  \\\n",
       "0  _result      0  1.604009e+09     0.1   \n",
       "1  _result      0  1.604009e+09     0.2   \n",
       "2  _result      0  1.604009e+09     0.3   \n",
       "3  _result      0  1.604009e+09     0.4   \n",
       "\n",
       "                                         series_name  \n",
       "0  \\nfrom(bucket:\"cloudberry_logs\")\\n|> range(sta...  \n",
       "1  \\nfrom(bucket:\"cloudberry_logs\")\\n|> range(sta...  \n",
       "2  \\nfrom(bucket:\"cloudberry_logs\")\\n|> range(sta...  \n",
       "3  \\nfrom(bucket:\"cloudberry_logs\")\\n|> range(sta...  "
      ]
     },
     "execution_count": 12,
     "metadata": {},
     "output_type": "execute_result"
    }
   ],
   "source": [
    "# Raw Flux Query (InfluxDB-specific) API\n",
    "\n",
    "query_api = cb.Query(cb_config)\n",
    "query_flux = \"\"\"\n",
    "from(bucket:\"cloudberry_logs\")\n",
    "|> range(start: 0)\n",
    "|> filter(fn: (r) => r._field == \"version\")\n",
    "|> keep(columns: [\"_value\", \"_time\"])\n",
    "\"\"\"\n",
    "\n",
    "query_series = query_api.query_series(query_flux)\n",
    "query_series.as_data_frame"
   ]
  },
  {
   "cell_type": "code",
   "execution_count": 13,
   "metadata": {},
   "outputs": [
    {
     "data": {
      "text/plain": [
       "True"
      ]
     },
     "execution_count": 13,
     "metadata": {},
     "output_type": "execute_result"
    }
   ],
   "source": [
    "# Delete created raw data points\n",
    "\n",
    "data_api.delete_data(filters)"
   ]
  },
  {
   "cell_type": "code",
   "execution_count": 18,
   "metadata": {},
   "outputs": [],
   "source": [
    "# Create metadata necessary for CSV upload - Experiment & Configuration\n",
    "\n",
    "meta_api = cb.Metadata(cb_config)\n",
    "experiment_api = meta_api.experiment_api()\n",
    "configuration_api = meta_api.experiment_configuration_api()\n",
    "\n",
    "csv_experiment_name = 'Example CSV Experiment'\n",
    "csv_configuration_name = 'Example CSV Configuration'\n",
    "\n",
    "# optionally pass parameters to save experiment with\n",
    "csv_experiment = experiment_api.find_or_create(csv_experiment_name, parameters={'importance': 'high'})\n",
    "csv_configuration = configuration_api.find_or_create(csv_experiment, csv_configuration_name, parameters={'version': 1})"
   ]
  },
  {
   "cell_type": "code",
   "execution_count": 21,
   "metadata": {},
   "outputs": [],
   "source": [
    "# CSV-like Data Upload API\n",
    "\n",
    "csv_api = cb.CsvFileUploader(cb_config)\n",
    "\n",
    "csv_file_path = './data/emas_1.csv'\n",
    "csv_details = cb.CsvUploadDetails(\n",
    "    tags_names=['WORKPLACE_ID'],\n",
    "    configuration=csv_configuration,\n",
    "    computation=None # None for new one, otherwise append data to existing computation \n",
    ")\n",
    "\n",
    "csv_computation = csv_api.upload_file(\n",
    "    csv_file_path,\n",
    "    csv_experiment_name,\n",
    "    csv_details\n",
    ")"
   ]
  },
  {
   "cell_type": "code",
   "execution_count": 22,
   "metadata": {},
   "outputs": [
    {
     "data": {
      "text/html": [
       "<div>\n",
       "<style scoped>\n",
       "    .dataframe tbody tr th:only-of-type {\n",
       "        vertical-align: middle;\n",
       "    }\n",
       "\n",
       "    .dataframe tbody tr th {\n",
       "        vertical-align: top;\n",
       "    }\n",
       "\n",
       "    .dataframe thead th {\n",
       "        text-align: right;\n",
       "    }\n",
       "</style>\n",
       "<table border=\"1\" class=\"dataframe\">\n",
       "  <thead>\n",
       "    <tr style=\"text-align: right;\">\n",
       "      <th></th>\n",
       "      <th>_time</th>\n",
       "      <th>WORKPLACE_ID</th>\n",
       "      <th>_measurement</th>\n",
       "      <th>computationId</th>\n",
       "      <th>POPULATION_SIZE</th>\n",
       "      <th>AVERAGE_FITNESS</th>\n",
       "      <th>ENERGY_SUM</th>\n",
       "      <th>STEP_NUMBER</th>\n",
       "      <th>series_name</th>\n",
       "    </tr>\n",
       "  </thead>\n",
       "  <tbody>\n",
       "    <tr>\n",
       "      <th>0</th>\n",
       "      <td>5.003171e+06</td>\n",
       "      <td>0</td>\n",
       "      <td>cloudberry-default</td>\n",
       "      <td>5f9b4f796b9caa425950693c</td>\n",
       "      <td>98.0</td>\n",
       "      <td>4.598373</td>\n",
       "      <td>2460.512629</td>\n",
       "      <td>5079.0</td>\n",
       "      <td>raw_data</td>\n",
       "    </tr>\n",
       "    <tr>\n",
       "      <th>1</th>\n",
       "      <td>1.000203e+07</td>\n",
       "      <td>0</td>\n",
       "      <td>cloudberry-default</td>\n",
       "      <td>5f9b4f796b9caa425950693c</td>\n",
       "      <td>98.0</td>\n",
       "      <td>4.595291</td>\n",
       "      <td>2454.008962</td>\n",
       "      <td>10478.0</td>\n",
       "      <td>raw_data</td>\n",
       "    </tr>\n",
       "    <tr>\n",
       "      <th>2</th>\n",
       "      <td>1.500043e+07</td>\n",
       "      <td>0</td>\n",
       "      <td>cloudberry-default</td>\n",
       "      <td>5f9b4f796b9caa425950693c</td>\n",
       "      <td>99.0</td>\n",
       "      <td>4.607681</td>\n",
       "      <td>2529.148288</td>\n",
       "      <td>15843.0</td>\n",
       "      <td>raw_data</td>\n",
       "    </tr>\n",
       "    <tr>\n",
       "      <th>3</th>\n",
       "      <td>2.000397e+07</td>\n",
       "      <td>0</td>\n",
       "      <td>cloudberry-default</td>\n",
       "      <td>5f9b4f796b9caa425950693c</td>\n",
       "      <td>76.0</td>\n",
       "      <td>4.608023</td>\n",
       "      <td>1974.607684</td>\n",
       "      <td>20914.0</td>\n",
       "      <td>raw_data</td>\n",
       "    </tr>\n",
       "    <tr>\n",
       "      <th>4</th>\n",
       "      <td>5.003171e+06</td>\n",
       "      <td>0</td>\n",
       "      <td>cloudberry-default</td>\n",
       "      <td>5f9b4f816b9caa425950693e</td>\n",
       "      <td>98.0</td>\n",
       "      <td>4.598373</td>\n",
       "      <td>2460.512629</td>\n",
       "      <td>5079.0</td>\n",
       "      <td>raw_data</td>\n",
       "    </tr>\n",
       "    <tr>\n",
       "      <th>5</th>\n",
       "      <td>1.000203e+07</td>\n",
       "      <td>0</td>\n",
       "      <td>cloudberry-default</td>\n",
       "      <td>5f9b4f816b9caa425950693e</td>\n",
       "      <td>98.0</td>\n",
       "      <td>4.595291</td>\n",
       "      <td>2454.008962</td>\n",
       "      <td>10478.0</td>\n",
       "      <td>raw_data</td>\n",
       "    </tr>\n",
       "    <tr>\n",
       "      <th>6</th>\n",
       "      <td>1.500043e+07</td>\n",
       "      <td>0</td>\n",
       "      <td>cloudberry-default</td>\n",
       "      <td>5f9b4f816b9caa425950693e</td>\n",
       "      <td>99.0</td>\n",
       "      <td>4.607681</td>\n",
       "      <td>2529.148288</td>\n",
       "      <td>15843.0</td>\n",
       "      <td>raw_data</td>\n",
       "    </tr>\n",
       "    <tr>\n",
       "      <th>7</th>\n",
       "      <td>2.000397e+07</td>\n",
       "      <td>0</td>\n",
       "      <td>cloudberry-default</td>\n",
       "      <td>5f9b4f816b9caa425950693e</td>\n",
       "      <td>76.0</td>\n",
       "      <td>4.608023</td>\n",
       "      <td>1974.607684</td>\n",
       "      <td>20914.0</td>\n",
       "      <td>raw_data</td>\n",
       "    </tr>\n",
       "    <tr>\n",
       "      <th>8</th>\n",
       "      <td>5.003171e+06</td>\n",
       "      <td>0</td>\n",
       "      <td>cloudberry-default</td>\n",
       "      <td>5f9b4f896b9caa4259506940</td>\n",
       "      <td>98.0</td>\n",
       "      <td>4.598373</td>\n",
       "      <td>2460.512629</td>\n",
       "      <td>5079.0</td>\n",
       "      <td>raw_data</td>\n",
       "    </tr>\n",
       "    <tr>\n",
       "      <th>9</th>\n",
       "      <td>1.000203e+07</td>\n",
       "      <td>0</td>\n",
       "      <td>cloudberry-default</td>\n",
       "      <td>5f9b4f896b9caa4259506940</td>\n",
       "      <td>98.0</td>\n",
       "      <td>4.595291</td>\n",
       "      <td>2454.008962</td>\n",
       "      <td>10478.0</td>\n",
       "      <td>raw_data</td>\n",
       "    </tr>\n",
       "    <tr>\n",
       "      <th>10</th>\n",
       "      <td>1.500043e+07</td>\n",
       "      <td>0</td>\n",
       "      <td>cloudberry-default</td>\n",
       "      <td>5f9b4f896b9caa4259506940</td>\n",
       "      <td>99.0</td>\n",
       "      <td>4.607681</td>\n",
       "      <td>2529.148288</td>\n",
       "      <td>15843.0</td>\n",
       "      <td>raw_data</td>\n",
       "    </tr>\n",
       "    <tr>\n",
       "      <th>11</th>\n",
       "      <td>2.000397e+07</td>\n",
       "      <td>0</td>\n",
       "      <td>cloudberry-default</td>\n",
       "      <td>5f9b4f896b9caa4259506940</td>\n",
       "      <td>76.0</td>\n",
       "      <td>4.608023</td>\n",
       "      <td>1974.607684</td>\n",
       "      <td>20914.0</td>\n",
       "      <td>raw_data</td>\n",
       "    </tr>\n",
       "  </tbody>\n",
       "</table>\n",
       "</div>"
      ],
      "text/plain": [
       "           _time WORKPLACE_ID        _measurement             computationId  \\\n",
       "0   5.003171e+06            0  cloudberry-default  5f9b4f796b9caa425950693c   \n",
       "1   1.000203e+07            0  cloudberry-default  5f9b4f796b9caa425950693c   \n",
       "2   1.500043e+07            0  cloudberry-default  5f9b4f796b9caa425950693c   \n",
       "3   2.000397e+07            0  cloudberry-default  5f9b4f796b9caa425950693c   \n",
       "4   5.003171e+06            0  cloudberry-default  5f9b4f816b9caa425950693e   \n",
       "5   1.000203e+07            0  cloudberry-default  5f9b4f816b9caa425950693e   \n",
       "6   1.500043e+07            0  cloudberry-default  5f9b4f816b9caa425950693e   \n",
       "7   2.000397e+07            0  cloudberry-default  5f9b4f816b9caa425950693e   \n",
       "8   5.003171e+06            0  cloudberry-default  5f9b4f896b9caa4259506940   \n",
       "9   1.000203e+07            0  cloudberry-default  5f9b4f896b9caa4259506940   \n",
       "10  1.500043e+07            0  cloudberry-default  5f9b4f896b9caa4259506940   \n",
       "11  2.000397e+07            0  cloudberry-default  5f9b4f896b9caa4259506940   \n",
       "\n",
       "    POPULATION_SIZE  AVERAGE_FITNESS   ENERGY_SUM  STEP_NUMBER series_name  \n",
       "0              98.0         4.598373  2460.512629       5079.0    raw_data  \n",
       "1              98.0         4.595291  2454.008962      10478.0    raw_data  \n",
       "2              99.0         4.607681  2529.148288      15843.0    raw_data  \n",
       "3              76.0         4.608023  1974.607684      20914.0    raw_data  \n",
       "4              98.0         4.598373  2460.512629       5079.0    raw_data  \n",
       "5              98.0         4.595291  2454.008962      10478.0    raw_data  \n",
       "6              99.0         4.607681  2529.148288      15843.0    raw_data  \n",
       "7              76.0         4.608023  1974.607684      20914.0    raw_data  \n",
       "8              98.0         4.598373  2460.512629       5079.0    raw_data  \n",
       "9              98.0         4.595291  2454.008962      10478.0    raw_data  \n",
       "10             99.0         4.607681  2529.148288      15843.0    raw_data  \n",
       "11             76.0         4.608023  1974.607684      20914.0    raw_data  "
      ]
     },
     "execution_count": 22,
     "metadata": {},
     "output_type": "execute_result"
    }
   ],
   "source": [
    "# Verify uploaded CSV data\n",
    "\n",
    "filters = cb.DataFilters(tags_presence=['WORKPLACE_ID'])\n",
    "series = data_api.get_data(filters)\n",
    "series.as_data_frame"
   ]
  },
  {
   "cell_type": "code",
   "execution_count": null,
   "outputs": [],
   "source": [
    "# # Anomalies Reports API\n",
    "\n",
    "# # todo: fix NPEs\n",
    "\n",
    "# anomalies_api = cb.Anomalies(cb_config)\n",
    "# anomalies_api.get_report(field_name='AVERAGE_FITNESS', computation=csv_computation)"
   ],
   "metadata": {
    "collapsed": false,
    "pycharm": {
     "name": "#%%\n"
    }
   }
  },
  {
   "cell_type": "code",
   "execution_count": null,
   "outputs": [],
   "source": [
    "# Cleanup\n",
    "data_api.delete_data(filters)"
   ],
   "metadata": {
    "collapsed": false,
    "pycharm": {
     "name": "#%%\n"
    }
   }
  },
  {
   "cell_type": "code",
   "execution_count": null,
   "outputs": [],
   "source": [
    "# Configuration Properties API\n",
    "\n",
    "# todo: check if bucket is actually created\n",
    "\n",
    "properties_api = cb.ApiConfiguration(cb_config)\n",
    "\n",
    "property_key = cb.ApiPropertiesIndex.OVERRIDDEN_DEFAULT_BUCKET_NAME\n",
    "\n",
    "properties_api.set_property(property_key, \"cloudberry_logs_secondary\")\n",
    "property_value = properties_api.get_property(property_key)\n",
    "print(property_value)\n",
    "\n",
    "properties_api.delete_property(property_key)\n",
    "\n",
    "property_value = properties_api.get_property(property_key)\n",
    "print(property_value)"
   ],
   "metadata": {
    "collapsed": false,
    "pycharm": {
     "name": "#%%\n"
    }
   }
  },
  {
   "cell_type": "code",
   "execution_count": null,
   "outputs": [],
   "source": [
    "# # #49 - append metadata ids to DataSeries\n",
    "\n",
    "# # todo: all\n",
    "\n",
    "# computation = cb_meta_experiment_computation.find_all()[1]\n",
    "# computation_series = cb_analytics.compare_computations([computation], 'AVERAGE_FITNESS')[0]\n",
    "\n",
    "# computation_series.meta_ids = cb_meta.get_meta_ids(computation)\n",
    "# computation_series.as_data_frame\n"
   ],
   "metadata": {
    "collapsed": false,
    "pycharm": {
     "name": "#%%\n"
    }
   }
  },
  {
   "cell_type": "code",
   "execution_count": 27,
   "metadata": {},
   "outputs": [
    {
     "ename": "TypeError",
     "evalue": "string indices must be integers",
     "output_type": "error",
     "traceback": [
      "\u001B[1;31m---------------------------------------------------------------------------\u001B[0m",
      "\u001B[1;31mTypeError\u001B[0m                                 Traceback (most recent call last)",
      "\u001B[1;32m<ipython-input-27-f362c1f578e0>\u001B[0m in \u001B[0;36m<module>\u001B[1;34m\u001B[0m\n\u001B[0;32m      4\u001B[0m \u001B[1;33m\u001B[0m\u001B[0m\n\u001B[0;32m      5\u001B[0m \u001B[0manomalies_api\u001B[0m \u001B[1;33m=\u001B[0m \u001B[0mcb\u001B[0m\u001B[1;33m.\u001B[0m\u001B[0mAnomalies\u001B[0m\u001B[1;33m(\u001B[0m\u001B[0mcb_config\u001B[0m\u001B[1;33m)\u001B[0m\u001B[1;33m\u001B[0m\u001B[1;33m\u001B[0m\u001B[0m\n\u001B[1;32m----> 6\u001B[1;33m \u001B[0manomalies_api\u001B[0m\u001B[1;33m.\u001B[0m\u001B[0mget_report\u001B[0m\u001B[1;33m(\u001B[0m\u001B[0mfield_name\u001B[0m\u001B[1;33m=\u001B[0m\u001B[1;34m'AVERAGE_FITNESS'\u001B[0m\u001B[1;33m,\u001B[0m \u001B[0mcomputation\u001B[0m\u001B[1;33m=\u001B[0m\u001B[0mcsv_computation\u001B[0m\u001B[1;33m)\u001B[0m\u001B[1;33m\u001B[0m\u001B[1;33m\u001B[0m\u001B[0m\n\u001B[0m",
      "\u001B[1;32m~\\IdeaProjects\\cloud-berry\\cloudberry-py\\cloudberry\\api\\anomalies.py\u001B[0m in \u001B[0;36mget_report\u001B[1;34m(self, field_name, computation, measurement_name, bucket_name)\u001B[0m\n\u001B[0;32m     19\u001B[0m                    \u001B[0mmeasurement_name\u001B[0m\u001B[1;33m:\u001B[0m \u001B[0mstr\u001B[0m \u001B[1;33m=\u001B[0m \u001B[1;32mNone\u001B[0m\u001B[1;33m,\u001B[0m\u001B[1;33m\u001B[0m\u001B[1;33m\u001B[0m\u001B[0m\n\u001B[0;32m     20\u001B[0m                    bucket_name: str = None) -> AnomalyReport:\n\u001B[1;32m---> 21\u001B[1;33m         \u001B[1;32mreturn\u001B[0m \u001B[0mself\u001B[0m\u001B[1;33m.\u001B[0m\u001B[0mget_reports\u001B[0m\u001B[1;33m(\u001B[0m\u001B[0mfield_name\u001B[0m\u001B[1;33m,\u001B[0m \u001B[1;33m[\u001B[0m\u001B[0mcomputation\u001B[0m\u001B[1;33m]\u001B[0m\u001B[1;33m,\u001B[0m \u001B[0mmeasurement_name\u001B[0m\u001B[1;33m,\u001B[0m \u001B[0mbucket_name\u001B[0m\u001B[1;33m)\u001B[0m\u001B[1;33m[\u001B[0m\u001B[1;36m0\u001B[0m\u001B[1;33m]\u001B[0m\u001B[1;33m\u001B[0m\u001B[1;33m\u001B[0m\u001B[0m\n\u001B[0m\u001B[0;32m     22\u001B[0m \u001B[1;33m\u001B[0m\u001B[0m\n\u001B[0;32m     23\u001B[0m     def get_reports(self,\n",
      "\u001B[1;32m~\\IdeaProjects\\cloud-berry\\cloudberry-py\\cloudberry\\api\\anomalies.py\u001B[0m in \u001B[0;36mget_reports\u001B[1;34m(self, field_name, computations, measurement_name, bucket_name)\u001B[0m\n\u001B[0;32m     29\u001B[0m         \u001B[0mparams\u001B[0m \u001B[1;33m=\u001B[0m \u001B[0mAnomalies\u001B[0m\u001B[1;33m.\u001B[0m\u001B[0m_query_params\u001B[0m\u001B[1;33m(\u001B[0m\u001B[0mfield_name\u001B[0m\u001B[1;33m,\u001B[0m \u001B[0mmeasurement_name\u001B[0m\u001B[1;33m,\u001B[0m \u001B[0mbucket_name\u001B[0m\u001B[1;33m)\u001B[0m\u001B[1;33m\u001B[0m\u001B[1;33m\u001B[0m\u001B[0m\n\u001B[0;32m     30\u001B[0m         \u001B[0mresponse\u001B[0m \u001B[1;33m=\u001B[0m \u001B[0mrequests\u001B[0m\u001B[1;33m.\u001B[0m\u001B[0mpost\u001B[0m\u001B[1;33m(\u001B[0m\u001B[0murl\u001B[0m\u001B[1;33m=\u001B[0m\u001B[0murl\u001B[0m\u001B[1;33m,\u001B[0m \u001B[0mparams\u001B[0m\u001B[1;33m=\u001B[0m\u001B[0mparams\u001B[0m\u001B[1;33m,\u001B[0m \u001B[0mjson\u001B[0m\u001B[1;33m=\u001B[0m\u001B[0mget_ids_for_computations\u001B[0m\u001B[1;33m(\u001B[0m\u001B[0mcomputations\u001B[0m\u001B[1;33m)\u001B[0m\u001B[1;33m)\u001B[0m\u001B[1;33m\u001B[0m\u001B[1;33m\u001B[0m\u001B[0m\n\u001B[1;32m---> 31\u001B[1;33m         \u001B[1;32mreturn\u001B[0m \u001B[0mlist\u001B[0m\u001B[1;33m(\u001B[0m\u001B[0mmap\u001B[0m\u001B[1;33m(\u001B[0m\u001B[1;32mlambda\u001B[0m \u001B[0mjson\u001B[0m\u001B[1;33m:\u001B[0m \u001B[0mAnomalyReport\u001B[0m\u001B[1;33m.\u001B[0m\u001B[0mfrom_json\u001B[0m\u001B[1;33m(\u001B[0m\u001B[0mjson\u001B[0m\u001B[1;33m)\u001B[0m\u001B[1;33m,\u001B[0m \u001B[0mresponse\u001B[0m\u001B[1;33m.\u001B[0m\u001B[0mjson\u001B[0m\u001B[1;33m(\u001B[0m\u001B[1;33m)\u001B[0m\u001B[1;33m)\u001B[0m\u001B[1;33m)\u001B[0m\u001B[1;33m\u001B[0m\u001B[1;33m\u001B[0m\u001B[0m\n\u001B[0m\u001B[0;32m     32\u001B[0m \u001B[1;33m\u001B[0m\u001B[0m\n\u001B[0;32m     33\u001B[0m     \u001B[1;33m@\u001B[0m\u001B[0mstaticmethod\u001B[0m\u001B[1;33m\u001B[0m\u001B[1;33m\u001B[0m\u001B[0m\n",
      "\u001B[1;32m~\\IdeaProjects\\cloud-berry\\cloudberry-py\\cloudberry\\api\\anomalies.py\u001B[0m in \u001B[0;36m<lambda>\u001B[1;34m(json)\u001B[0m\n\u001B[0;32m     29\u001B[0m         \u001B[0mparams\u001B[0m \u001B[1;33m=\u001B[0m \u001B[0mAnomalies\u001B[0m\u001B[1;33m.\u001B[0m\u001B[0m_query_params\u001B[0m\u001B[1;33m(\u001B[0m\u001B[0mfield_name\u001B[0m\u001B[1;33m,\u001B[0m \u001B[0mmeasurement_name\u001B[0m\u001B[1;33m,\u001B[0m \u001B[0mbucket_name\u001B[0m\u001B[1;33m)\u001B[0m\u001B[1;33m\u001B[0m\u001B[1;33m\u001B[0m\u001B[0m\n\u001B[0;32m     30\u001B[0m         \u001B[0mresponse\u001B[0m \u001B[1;33m=\u001B[0m \u001B[0mrequests\u001B[0m\u001B[1;33m.\u001B[0m\u001B[0mpost\u001B[0m\u001B[1;33m(\u001B[0m\u001B[0murl\u001B[0m\u001B[1;33m=\u001B[0m\u001B[0murl\u001B[0m\u001B[1;33m,\u001B[0m \u001B[0mparams\u001B[0m\u001B[1;33m=\u001B[0m\u001B[0mparams\u001B[0m\u001B[1;33m,\u001B[0m \u001B[0mjson\u001B[0m\u001B[1;33m=\u001B[0m\u001B[0mget_ids_for_computations\u001B[0m\u001B[1;33m(\u001B[0m\u001B[0mcomputations\u001B[0m\u001B[1;33m)\u001B[0m\u001B[1;33m)\u001B[0m\u001B[1;33m\u001B[0m\u001B[1;33m\u001B[0m\u001B[0m\n\u001B[1;32m---> 31\u001B[1;33m         \u001B[1;32mreturn\u001B[0m \u001B[0mlist\u001B[0m\u001B[1;33m(\u001B[0m\u001B[0mmap\u001B[0m\u001B[1;33m(\u001B[0m\u001B[1;32mlambda\u001B[0m \u001B[0mjson\u001B[0m\u001B[1;33m:\u001B[0m \u001B[0mAnomalyReport\u001B[0m\u001B[1;33m.\u001B[0m\u001B[0mfrom_json\u001B[0m\u001B[1;33m(\u001B[0m\u001B[0mjson\u001B[0m\u001B[1;33m)\u001B[0m\u001B[1;33m,\u001B[0m \u001B[0mresponse\u001B[0m\u001B[1;33m.\u001B[0m\u001B[0mjson\u001B[0m\u001B[1;33m(\u001B[0m\u001B[1;33m)\u001B[0m\u001B[1;33m)\u001B[0m\u001B[1;33m)\u001B[0m\u001B[1;33m\u001B[0m\u001B[1;33m\u001B[0m\u001B[0m\n\u001B[0m\u001B[0;32m     32\u001B[0m \u001B[1;33m\u001B[0m\u001B[0m\n\u001B[0;32m     33\u001B[0m     \u001B[1;33m@\u001B[0m\u001B[0mstaticmethod\u001B[0m\u001B[1;33m\u001B[0m\u001B[1;33m\u001B[0m\u001B[0m\n",
      "\u001B[1;32m~\\IdeaProjects\\cloud-berry\\cloudberry-py\\cloudberry\\api\\model\\anomaly.py\u001B[0m in \u001B[0;36mfrom_json\u001B[1;34m(json_dict)\u001B[0m\n\u001B[0;32m     23\u001B[0m     \u001B[1;32mdef\u001B[0m \u001B[0mfrom_json\u001B[0m\u001B[1;33m(\u001B[0m\u001B[0mjson_dict\u001B[0m\u001B[1;33m:\u001B[0m \u001B[0mdict\u001B[0m\u001B[1;33m)\u001B[0m\u001B[1;33m:\u001B[0m\u001B[1;33m\u001B[0m\u001B[1;33m\u001B[0m\u001B[0m\n\u001B[0;32m     24\u001B[0m         return AnomalyReport(\n\u001B[1;32m---> 25\u001B[1;33m             \u001B[0mjson_dict\u001B[0m\u001B[1;33m[\u001B[0m\u001B[1;34m'computationId'\u001B[0m\u001B[1;33m]\u001B[0m\u001B[1;33m,\u001B[0m\u001B[1;33m\u001B[0m\u001B[1;33m\u001B[0m\u001B[0m\n\u001B[0m\u001B[0;32m     26\u001B[0m             \u001B[0mjson_dict\u001B[0m\u001B[1;33m[\u001B[0m\u001B[1;34m'stddev'\u001B[0m\u001B[1;33m]\u001B[0m\u001B[1;33m,\u001B[0m\u001B[1;33m\u001B[0m\u001B[1;33m\u001B[0m\u001B[0m\n\u001B[0;32m     27\u001B[0m             \u001B[0mjson_dict\u001B[0m\u001B[1;33m[\u001B[0m\u001B[1;34m'mean'\u001B[0m\u001B[1;33m]\u001B[0m\u001B[1;33m,\u001B[0m\u001B[1;33m\u001B[0m\u001B[1;33m\u001B[0m\u001B[0m\n",
      "\u001B[1;31mTypeError\u001B[0m: string indices must be integers"
     ]
    }
   ],
   "source": [
    "# # #49 - append metadata ids to DataSeries\n",
    "\n",
    "# # todo: all\n",
    "\n",
    "# computation = cb_meta_experiment_computation.find_all()[1]\n",
    "# computation_series = cb_analytics.compare_computations([computation], 'AVERAGE_FITNESS')[0]\n",
    "\n",
    "# computation_series.meta_ids = cb_meta.get_meta_ids(computation)\n",
    "# computation_series.as_data_frame\n"
   ]
  },
  {
   "cell_type": "code",
   "execution_count": null,
   "metadata": {},
   "outputs": [],
   "source": [
    "# Cleanup\n",
    "data_api.delete_data(filters)"
   ]
  },
  {
   "cell_type": "code",
   "execution_count": 24,
   "metadata": {},
   "outputs": [
    {
     "name": "stdout",
     "output_type": "stream",
     "text": [
      "\"cloudberry_logs_secondary\"\n",
      "\n"
     ]
    }
   ],
   "source": [
    "# Configuration Properties API\n",
    "\n",
    "# todo: check if bucket is actually created\n",
    "\n",
    "properties_api = cb.ApiConfiguration(cb_config)\n",
    "\n",
    "property_key = cb.ApiPropertiesIndex.OVERRIDDEN_DEFAULT_BUCKET_NAME\n",
    "\n",
    "properties_api.set_property(property_key, \"cloudberry_logs_secondary\")\n",
    "property_value = properties_api.get_property(property_key)\n",
    "print(property_value)\n",
    "\n",
    "properties_api.delete_property(property_key)\n",
    "\n",
    "property_value = properties_api.get_property(property_key)\n",
    "print(property_value)"
   ]
  },
  {
   "cell_type": "code",
   "execution_count": null,
   "metadata": {},
   "outputs": [],
   "source": [
    "# # #49 - append metadata ids to DataSeries\n",
    "\n",
    "# # todo: all\n",
    "\n",
    "# computation = cb_meta_experiment_computation.find_all()[1]\n",
    "# computation_series = cb_analytics.compare_computations([computation], 'AVERAGE_FITNESS')[0]\n",
    "\n",
    "# computation_series.meta_ids = cb_meta.get_meta_ids(computation)\n",
    "# computation_series.as_data_frame\n"
   ]
  }
 ],
 "metadata": {
  "kernelspec": {
   "display_name": "Python 3",
   "language": "python",
   "name": "python3"
  },
  "language_info": {
   "codemirror_mode": {
    "name": "ipython",
    "version": 3
   },
   "file_extension": ".py",
   "mimetype": "text/x-python",
   "name": "python",
   "nbconvert_exporter": "python",
   "pygments_lexer": "ipython3",
   "version": "3.8.3"
  }
 },
 "nbformat": 4,
 "nbformat_minor": 1
}