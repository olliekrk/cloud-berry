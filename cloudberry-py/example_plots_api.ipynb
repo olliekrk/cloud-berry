{
 "cells": [
  {
   "cell_type": "markdown",
   "metadata": {},
   "source": [
    "## Demonstracja użycia biblioteki cloudberry.plots do tworzenia wykresów."
   ]
  },
  {
   "cell_type": "markdown",
   "metadata": {},
   "source": [
    "## 1.1 Podstawowe użycie\n",
    "Celem tworzenia wykresu należy stworzyć obiekt z konfiguracją wykresu (nazwy osi, legenda, nazwa wykresu i inne) - PlotProperties.\n",
    "Następnie właściwy wykres tworzymy przy użyciu API klasy PlotBuilder."
   ]
  },
  {
   "cell_type": "code",
   "execution_count": null,
   "metadata": {},
   "outputs": [],
   "source": [
    "import cloudberry.plots as cp\n",
    "import cloudberry.api.model as model\n",
    "\n",
    "properties = cp.PlotProperties.default()\n",
    "properties.default_series_kind = cp.PlotSeriesKind.LINE\n",
    "properties.show_legend = True\n",
    "properties.x_axis_name = 'Time [s]'\n",
    "properties.y_axis_name = 'Values'\n",
    "builder = cp.PlotBuilder(properties)"
   ]
  },
  {
   "cell_type": "markdown",
   "metadata": {},
   "source": [
    "Przykładowe dane do wyświetlenia."
   ]
  },
  {
   "cell_type": "code",
   "execution_count": null,
   "metadata": {},
   "outputs": [],
   "source": [
    "import pandas as pd\n",
    "\n",
    "df = pd.DataFrame({\n",
    "    'time': [1, 2, 3, 4],\n",
    "    'value': [2, 1, 3, 7],\n",
    "    'value_error': [.2, .1, .3, .7],\n",
    "})\n",
    "df"
   ]
  },
  {
   "cell_type": "markdown",
   "metadata": {},
   "source": [
    "Z powyższych danych tworzymy PlotSeries - obiekt reprezentujący pojedynczą serię wykresu i dodajemy go do PlotBuilder'a."
   ]
  },
  {
   "cell_type": "code",
   "execution_count": null,
   "metadata": {},
   "outputs": [],
   "source": [
    "serie_id = \"1st seriesId\"\n",
    "serie1 = cp.PlotSeries(\n",
    "    series_info=model.SeriesInfo(\"1st series\", serie_id), \n",
    "    data=df,\n",
    "    x_field=\"time\", \n",
    "    y_field=\"value\",\n",
    "    y_err_field=\"value_error\",\n",
    ")\n",
    "\n",
    "builder.add_series(serie1)"
   ]
  },
  {
   "cell_type": "markdown",
   "metadata": {},
   "source": [
    "Poniżej tworzymy i wyświetlamy wykres."
   ]
  },
  {
   "cell_type": "code",
   "execution_count": null,
   "metadata": {},
   "outputs": [],
   "source": [
    "plot = builder.plot()"
   ]
  },
  {
   "cell_type": "code",
   "execution_count": null,
   "metadata": {},
   "outputs": [],
   "source": [
    "plot.show()"
   ]
  },
  {
   "cell_type": "markdown",
   "metadata": {},
   "source": [
    "## 1.2. Dodanie linii trendu\n",
    "Biblioteka oferuje kilka typów linii trendu:\n",
    "* regresja metodą KNN (K Nearest Neighbors)\n",
    "* regresja liniowa\n",
    "* funkcja stała (do zaznaczenia wartości progowych)"
   ]
  },
  {
   "cell_type": "markdown",
   "metadata": {},
   "source": [
    "Regresja KNN:"
   ]
  },
  {
   "cell_type": "code",
   "execution_count": null,
   "metadata": {
    "scrolled": true
   },
   "outputs": [],
   "source": [
    "builder.add_trend('KNN Regression', cp.PlotlyTrendLine(serie_id, cp.PlotlyTrendLineKind.KNN10))\n",
    "plot_with_trend = builder.plot()\n",
    "plot_with_trend"
   ]
  },
  {
   "cell_type": "markdown",
   "metadata": {},
   "source": [
    "Regresja liniowa:"
   ]
  },
  {
   "cell_type": "code",
   "execution_count": null,
   "metadata": {},
   "outputs": [],
   "source": [
    "builder.add_trend('Linear Regression', cp.PlotlyTrendLine(serie_id, cp.PlotlyTrendLineKind.LINEAR))\n",
    "plot_with_trend = builder.plot()\n",
    "plot_with_trend"
   ]
  },
  {
   "cell_type": "markdown",
   "metadata": {},
   "source": [
    "Funkcja stała:"
   ]
  },
  {
   "cell_type": "code",
   "execution_count": null,
   "metadata": {},
   "outputs": [],
   "source": [
    "builder.add_trend('Const Threshold', cp.PlotlyTrendLine(serie_id, cp.PlotlyTrendLineKind.CONST, constant=6))\n",
    "plot_with_trend = builder.plot()\n",
    "plot_with_trend"
   ]
  },
  {
   "cell_type": "markdown",
   "metadata": {},
   "source": [
    "## 1.3. Użycie biblioteki na danych pobranych z Cloudberry"
   ]
  },
  {
   "cell_type": "code",
   "execution_count": null,
   "metadata": {},
   "outputs": [],
   "source": [
    "import cloudberry.api as cb\n",
    "\n",
    "cb_config = cb.CloudberryConfig(f'http://localhost:9000')"
   ]
  },
  {
   "cell_type": "code",
   "execution_count": null,
   "metadata": {},
   "outputs": [],
   "source": [
    "cb_meta = cb.Metadata(cb_config)\n",
    "cb_meta_experiment_computation = cb_meta.experiment_computation_api()\n",
    "\n",
    "computation = cb_meta_experiment_computation.find_all()[0]"
   ]
  },
  {
   "cell_type": "code",
   "execution_count": null,
   "metadata": {},
   "outputs": [],
   "source": [
    "x_field = '_time'\n",
    "y_field = 'AVERAGE_FITNESS'\n",
    "cb_computation_series_api = cb.ComputationSeries(cb_config)\n",
    "\n",
    "result = cb_computation_series_api.for_computations([computation], y_field)\n",
    "data_series = result.series[0]\n",
    "\n",
    "plot_series = cp.PlotSeries(name = data_series.series_name, \n",
    "                            data = data_series.as_data_frame,\n",
    "                            x_field = x_field,\n",
    "                            y_field = y_field,\n",
    "                            y_err_field = None)"
   ]
  },
  {
   "cell_type": "code",
   "execution_count": null,
   "metadata": {
    "pycharm": {
     "name": "#%%\n"
    }
   },
   "outputs": [],
   "source": [
    "plot_builder = cp.PlotBuilder(properties)\n",
    "plot_builder.add_series(plot_series)\n",
    "plot_builder.plot()"
   ]
  }
 ],
 "metadata": {
  "kernelspec": {
   "display_name": "Python 3",
   "language": "python",
   "name": "python3"
  },
  "language_info": {
   "codemirror_mode": {
    "name": "ipython",
    "version": 3
   },
   "file_extension": ".py",
   "mimetype": "text/x-python",
   "name": "python",
   "nbconvert_exporter": "python",
   "pygments_lexer": "ipython3",
   "version": "3.8.3"
  }
 },
 "nbformat": 4,
 "nbformat_minor": 1
}
