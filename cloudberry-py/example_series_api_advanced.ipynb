{
 "cells": [
  {
   "cell_type": "markdown",
   "metadata": {},
   "source": [
    "## Notebook demonstrujący użycie bardziej zaawansowanych funkcji biblioteki cloudberry-py.\n",
    "Notebook zawiera przykłady użycia pozostałych funkcji biblioteki. Początkowe czynności zostały przeprowadzone analogicznie jak w innych notebookach."
   ]
  },
  {
   "cell_type": "code",
   "execution_count": null,
   "metadata": {},
   "outputs": [],
   "source": [
    "# Define Cloudberry configuration\n",
    "\n",
    "import cloudberry.api as cb\n",
    "cb_port = 9000\n",
    "cb_config = cb.CloudberryConfig(f'http://localhost:{cb_port}')"
   ]
  },
  {
   "cell_type": "code",
   "execution_count": null,
   "metadata": {
    "pycharm": {
     "name": "#%%\n"
    }
   },
   "outputs": [],
   "source": [
    "# Initialize API for data upload\n",
    "\n",
    "cb_uploader = cb.AgeFileUploader(cb_config)\n",
    "cb_meta = cb.Metadata(cb_config)\n",
    "\n",
    "files_paths = [\n",
    "    \"./data/emas-20190411T232808.log\",\n",
    "    \"./data/emas-20190411T234810.log\",\n",
    "    \"./data/emas-20190412T000813.log\",\n",
    "    \"./data/emas-20190412T120536.log\",\n",
    "]\n",
    "\n",
    "files_details = cb.AgeUploadDetails(\n",
    "    headers_keys={\"[WH]\": \"[W]\", \"[SH]\": \"[S]\", \"[BH]\": \"[B]\"}\n",
    ")\n",
    "\n",
    "experiment_name = 'Example AgE experiment'\n",
    "\n",
    "uploaded_computations = []\n",
    "for fp in files_paths:\n",
    "    computation = cb_uploader.upload_file(file_path=fp, experiment_name=experiment_name, details=files_details)\n",
    "    uploaded_computations.append(computation)\n",
    "    \n",
    "uploaded_configurations = list(cb_meta.experiment_configuration_api().find_by_id(id) for id in set([c.configuration_id for c in uploaded_computations]))"
   ]
  },
  {
   "cell_type": "code",
   "execution_count": null,
   "metadata": {},
   "outputs": [],
   "source": [
    "# Initialize ComputationSeries API\n",
    "cb_computation_series_api = cb.ComputationSeries(cb_config)"
   ]
  },
  {
   "cell_type": "code",
   "execution_count": null,
   "metadata": {},
   "outputs": [],
   "source": [
    "# Config & Utility methods for easier plots creation\n",
    "\n",
    "from cloudberry.converters import SeriesConverter\n",
    "import cloudberry.plots as cp\n",
    "\n",
    "props = cp.PlotProperties.default()\n",
    "props.title = \"Result\"\n",
    "props.x_axis_name = \"Time [ms]\"\n",
    "props.y_axis_name = \"Value\"\n",
    "props.default_series_kind = cp.PlotSeriesKind.LINE\n",
    "\n",
    "field = 'BEST_SOLUTION_SO_FAR'\n",
    "def to_plot_pack(data_pack):\n",
    "    return SeriesConverter.data_series_pack_to_plot_series_pack(\n",
    "        ds=data_pack,\n",
    "        x_field=\"_time\",\n",
    "        y_field=field,\n",
    "        y_err_field=\"stddev\"\n",
    "    )\n",
    "\n",
    "def plot_builder(data_pack):\n",
    "    plot_pack = to_plot_pack(data_pack)\n",
    "    builder = cp.PlotBuilder(props)\n",
    "    builder.add_pack(plot_pack)\n",
    "    return builder"
   ]
  },
  {
   "cell_type": "markdown",
   "metadata": {},
   "source": [
    "#### Use case: Porównaj wszystkie uruchomienia dla wybranej konfiguracji."
   ]
  },
  {
   "cell_type": "code",
   "execution_count": null,
   "metadata": {},
   "outputs": [],
   "source": [
    "configuration0 = uploaded_configurations[0]\n",
    "configuration1 = uploaded_configurations[1]\n",
    "\n",
    "data_pack = cb_computation_series_api.for_configuration(configuration0, field)\n",
    "plot_builder(data_pack).plot()"
   ]
  },
  {
   "cell_type": "markdown",
   "metadata": {},
   "source": [
    "#### Use case: Optymalizacja - znajdź N najlepszych uruchomień.\n",
    "Parametry:\n",
    "* goal: \n",
    " * MIN = szukanie serii o najmniejszych wartościach\n",
    " * MAX = o największych\n",
    "* kind: \n",
    " * FINAL_VALUE - porównaj ostatnie wartości serii\n",
    " * AREA_UNDER_CURVE - porównaj pole pod wykresem serii\n"
   ]
  },
  {
   "cell_type": "code",
   "execution_count": null,
   "metadata": {},
   "outputs": [],
   "source": [
    "# Best N Computation Series API\n",
    "\n",
    "n = 2\n",
    "goal = cb.OptimizationGoal.MAX # MIN/MAX\n",
    "kind = cb.OptimizationKind.FINAL_VALUE # try AREA_UNDER_CURVE\n",
    "\n",
    "data_pack = cb_computation_series_api.best_n(n, field, goal, kind)\n",
    "plot_builder(data_pack).plot()"
   ]
  },
  {
   "cell_type": "markdown",
   "metadata": {},
   "source": [
    "#### Use case: Optymalizacja - znajdź N najlepszych uruchomień w obrębie danej konfiguracji."
   ]
  },
  {
   "cell_type": "code",
   "execution_count": null,
   "metadata": {},
   "outputs": [],
   "source": [
    "data_pack = cb_computation_series_api.best_n_for_configuration(n, field, configuration0, goal, kind)\n",
    "plot_builder(data_pack).plot()"
   ]
  },
  {
   "cell_type": "markdown",
   "metadata": {},
   "source": [
    "#### Use case: Wartości progowe - znajdź uruchomienia których wartości wykroczyły poza podane wartości progowe.\n",
    "Parametry:\n",
    "* thresholds - klasa Thresholds z dwoma opcjonalnymi polami:\n",
    " * upper dla górnego progu\n",
    " * lower dla dolnego progu\n",
    "* criteria - seria spełnia kryteria, jeżeli: \n",
    " * ANY - dowolna wartość wykracza poza próg\n",
    " * FINAL - ostateczna wartość wykracza poza próg\n",
    " * AVERAGE - średnia wartość wykracza poza próg\n"
   ]
  },
  {
   "cell_type": "code",
   "execution_count": null,
   "metadata": {},
   "outputs": [],
   "source": [
    "# Thresholds Computation Series API\n",
    "\n",
    "upper_threshold = 6.8\n",
    "criteria = cb.CriteriaMode.ANY # ANY | FINAL | AVERAGE\n",
    "thresholds = cb.Thresholds(upper=upper_threshold, lower=None)\n",
    "\n",
    "data_pack = cb_computation_series_api.exceeding_thresholds(field, criteria, thresholds)\n",
    "builder = plot_builder(data_pack)\n",
    "\n",
    "# Additionaly draw threshold(s) on the plot\n",
    "builder.add_trend('UPPER BOUND', cp.PlotlyTrendLine('average', cp.PlotlyTrendLineKind.CONST, upper_threshold))\n",
    "builder.plot()"
   ]
  },
  {
   "cell_type": "markdown",
   "metadata": {},
   "source": [
    "#### Use case: Wartości progowe - znajdź uruchomienia których wartości wykroczyły poza podane wartości progowe w obrębie wybranej konfiguracji."
   ]
  },
  {
   "cell_type": "code",
   "execution_count": null,
   "metadata": {},
   "outputs": [],
   "source": [
    "thresholds = cb.Thresholds(upper=6.7, lower=None)\n",
    "data_pack = cb_computation_series_api.exceeding_thresholds_for_configuration(field, configuration0, criteria, thresholds)\n",
    "plot_builder(data_pack).plot()"
   ]
  },
  {
   "cell_type": "markdown",
   "metadata": {},
   "source": [
    "#### Use case: Wartości progowe relatywnie - znajdź uruchomienia których wartości wykroczyły poza podane wartości progowe w obrębie wybranej konfiguracji, relatywnie do serii średniej dla tej konfiguracji.\n",
    "Parametry:\n",
    "* criteria - analogiczne j.w.\n",
    "* thresholds - analogiczne j.w.\n",
    "* thresholds_type - sposób porównania do wartości średniej:\n",
    " * PERCENTS - traktuj progi `thresholds` jako wartości procentowe, i oblicz progi względnie\n",
    " * ABSOLUTE - traktuj progi `thresholds` jako wartości absolutne, i oblicz progi bezwzglednie"
   ]
  },
  {
   "cell_type": "code",
   "execution_count": null,
   "metadata": {},
   "outputs": [],
   "source": [
    "# Relative Thresholds Computation Series API\n",
    "\n",
    "criteria = cb.CriteriaMode.ANY\n",
    "thresholds = cb.Thresholds(upper=1, lower=None) # exceeding by 1% more relatively to average series \n",
    "thresholds_type = cb.ThresholdsType.PERCENTS # ABSOLUTE\n",
    "\n",
    "data_pack = cb_computation_series_api.exceeding_thresholds_relatively(field, configuration0, criteria, thresholds, thresholds_type)\n",
    "plot_builder(data_pack).plot()"
   ]
  },
  {
   "cell_type": "code",
   "execution_count": null,
   "metadata": {},
   "outputs": [],
   "source": [
    "# Initialize ConfigurationSeries API\n",
    "cb_configuration_series_api = cb.ConfigurationSeries(cb_config)"
   ]
  },
  {
   "cell_type": "markdown",
   "metadata": {},
   "source": [
    "#### Use case: Porównaj wartości parametru dla wybranych konfiguracji."
   ]
  },
  {
   "cell_type": "code",
   "execution_count": null,
   "metadata": {},
   "outputs": [],
   "source": [
    "data_pack = cb_configuration_series_api.for_configurations(uploaded_configurations, field)\n",
    "plot_builder(data_pack).plot()"
   ]
  },
  {
   "cell_type": "markdown",
   "metadata": {},
   "source": [
    "#### Use case: Porównaj wartości parametru dla wszystkich konfiguracji wybranego eksperymentu."
   ]
  },
  {
   "cell_type": "code",
   "execution_count": null,
   "metadata": {},
   "outputs": [],
   "source": [
    "data_pack = cb_configuration_series_api.for_experiment(experiment_name, field)\n",
    "plot_builder(data_pack).plot()"
   ]
  },
  {
   "cell_type": "markdown",
   "metadata": {},
   "source": [
    "#### Use case: Znajdź N najlepszych konfiguracji na podstawie ich średnich."
   ]
  },
  {
   "cell_type": "code",
   "execution_count": null,
   "metadata": {},
   "outputs": [],
   "source": [
    "# Best N Configuration Series API\n",
    "\n",
    "n = 2\n",
    "goal = cb.OptimizationGoal.MAX # MIN/MAX\n",
    "kind = cb.OptimizationKind.FINAL_VALUE # try AREA_UNDER_CURVE\n",
    "\n",
    "data_pack = cb_configuration_series_api.best_n(n, field, uploaded_configurations, goal, kind)\n",
    "plot_builder(data_pack).plot()"
   ]
  },
  {
   "cell_type": "markdown",
   "metadata": {},
   "source": [
    "#### Use case: Znajdź N najlepszych konfiguracji na podstawie ich średnich w obrębie wybranego eksperymentu."
   ]
  },
  {
   "cell_type": "code",
   "execution_count": null,
   "metadata": {},
   "outputs": [],
   "source": [
    "data_pack = cb_configuration_series_api.best_n_for_experiment(n, field, experiment_name, goal, kind)\n",
    "plot_builder(data_pack).plot()"
   ]
  },
  {
   "cell_type": "markdown",
   "metadata": {},
   "source": [
    "#### Use case: Znajdź konfiguracje których średnie przekraczają podane progi."
   ]
  },
  {
   "cell_type": "code",
   "execution_count": null,
   "metadata": {},
   "outputs": [],
   "source": [
    "# Thresholds Configuration Series API\n",
    "\n",
    "upper_threshold = 6.63\n",
    "criteria = cb.CriteriaMode.ANY # ANY | FINAL | AVERAGE\n",
    "thresholds = cb.Thresholds(upper=upper_threshold, lower=None)\n",
    "\n",
    "data_pack = cb_configuration_series_api.exceeding_thresholds(field, criteria, thresholds, uploaded_configurations)\n",
    "builder = plot_builder(data_pack)\n",
    "\n",
    "# Additionaly draw threshold(s) on the plot\n",
    "builder.add_trend('UPPER BOUND', cp.PlotlyTrendLine('average', cp.PlotlyTrendLineKind.CONST, upper_threshold))\n",
    "builder.plot()"
   ]
  },
  {
   "cell_type": "markdown",
   "metadata": {},
   "source": [
    "#### Use case: Znajdź konfiguracje których średnie przekraczają podane progi w obrębie wybranego eksperymentu."
   ]
  },
  {
   "cell_type": "code",
   "execution_count": null,
   "metadata": {},
   "outputs": [],
   "source": [
    "data_pack = cb_configuration_series_api.exceeding_thresholds_for_experiment(field, experiment_name, criteria, thresholds)\n",
    "plot_builder(data_pack).plot()"
   ]
  },
  {
   "cell_type": "markdown",
   "metadata": {},
   "source": [
    "#### Usunięcie danych:"
   ]
  },
  {
   "cell_type": "code",
   "execution_count": null,
   "metadata": {
    "pycharm": {
     "name": "#%%\n"
    }
   },
   "outputs": [],
   "source": [
    "# Cleanup\n",
    "cb_deletion = cb.Deletion(cb_config)\n",
    "cb_deletion.delete_computations(uploaded_computations)\n",
    "cb_deletion.delete_configurations(uploaded_configurations)"
   ]
  }
 ],
 "metadata": {
  "kernelspec": {
   "display_name": "Python 3",
   "language": "python",
   "name": "python3"
  },
  "language_info": {
   "codemirror_mode": {
    "name": "ipython",
    "version": 3
   },
   "file_extension": ".py",
   "mimetype": "text/x-python",
   "name": "python",
   "nbconvert_exporter": "python",
   "pygments_lexer": "ipython3",
   "version": "3.8.3"
  }
 },
 "nbformat": 4,
 "nbformat_minor": 1
}
