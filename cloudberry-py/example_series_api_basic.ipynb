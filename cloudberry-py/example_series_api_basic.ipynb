{
 "cells": [
  {
   "cell_type": "markdown",
   "metadata": {},
   "source": [
    "# 1. Inicjalizacja API i załadowanie danych\n",
    "Celem inicjalizacji wykorzystujemy klasę CloudberryConfig, jako argument podając adres serwera cloudberry-cb."
   ]
  },
  {
   "cell_type": "code",
   "execution_count": null,
   "metadata": {},
   "outputs": [],
   "source": [
    "# Define Cloudberry configuration\n",
    "\n",
    "import cloudberry.api as cb\n",
    "cb_port = 9000\n",
    "cb_config = cb.CloudberryConfig(f'http://localhost:{cb_port}')"
   ]
  },
  {
   "cell_type": "markdown",
   "metadata": {},
   "source": [
    "Następnie wgrywamy przykładowe pliki z eksperymentów przeprowadzonych na platformie AgE. Wykorzystujemy w tym celu AgeFileUploader. Metoda upload_file zwraca informacje o wczytanych z pliku danych dotyczących uruchomienia, którą zapisujemy."
   ]
  },
  {
   "cell_type": "code",
   "execution_count": null,
   "metadata": {
    "pycharm": {
     "name": "#%%\n"
    }
   },
   "outputs": [],
   "source": [
    "# Initialize API for data upload\n",
    "\n",
    "cb_uploader = cb.AgeFileUploader(cb_config)\n",
    "\n",
    "files_paths = [\n",
    "    \"./data/emas-20190411T232808.log\",\n",
    "    \"./data/emas-20190411T234810.log\",\n",
    "    \"./data/emas-20190412T000813.log\",\n",
    "    \"./data/emas-20190412T120536.log\",\n",
    "]\n",
    "\n",
    "files_details = cb.AgeUploadDetails(\n",
    "    headers_keys={\"[WH]\": \"[W]\", \"[SH]\": \"[S]\", \"[BH]\": \"[B]\"}\n",
    ")\n",
    "\n",
    "experiment_name = 'Example AgE experiment'\n",
    "\n",
    "uploaded_computations = []\n",
    "for fp in files_paths:\n",
    "    computation = cb_uploader.upload_file(file_path=fp, experiment_name=experiment_name, details=files_details)\n",
    "    uploaded_computations.append(computation)"
   ]
  },
  {
   "cell_type": "markdown",
   "metadata": {},
   "source": [
    "## 1.1. API do analizy poszczególnych uruchomień\n",
    "\n",
    "Poniżej inicjalizujemy kolejny moduł API - ComputationSeries.\n",
    "Metoda for_computations pobiera dla wybranych uruchomień szczegółowe dane danego uruchomienia, dla wybranego parametru.\n",
    "\n",
    "Każda metoda API oprócz serii generuje również serię średnią, wraz z odchyleniem standardowym. Zwracany obiekt to DataSeriesPack, który ma następujące pola:\n",
    "- series - lista obiektów DataSeries, każdy reprezentuje dane z 1 uruchomienia\n",
    "- average_series - obiekt DataSeries, reprezentujący serię średnią\n"
   ]
  },
  {
   "cell_type": "code",
   "execution_count": null,
   "metadata": {},
   "outputs": [],
   "source": [
    "# Compare uploaded computations and compute average and std\n",
    "\n",
    "cb_computations = cb.ComputationSeries(cb_config)\n",
    "\n",
    "field = 'BEST_SOLUTION_SO_FAR'\n",
    "series_pack = cb_computations.for_computations(uploaded_computations, field)"
   ]
  },
  {
   "cell_type": "markdown",
   "metadata": {},
   "source": [
    "Możemy podejrzeć zawartość zwróconych serii, konwertując je do DataFrame z biblioteki pandas."
   ]
  },
  {
   "cell_type": "code",
   "execution_count": null,
   "metadata": {},
   "outputs": [],
   "source": [
    "# Preview returned series as data frames\n",
    "\n",
    "# series_pack.series[0].as_data_frame\n",
    "series_pack.average_series.as_data_frame"
   ]
  },
  {
   "cell_type": "markdown",
   "metadata": {},
   "source": [
    "Aby nanieść pobrane dane na wykres, należy użyć SeriesConverter i przekonwertować model danych z DataSeriesPack do PlotSeriesPack:"
   ]
  },
  {
   "cell_type": "code",
   "execution_count": null,
   "metadata": {},
   "outputs": [],
   "source": [
    "# Perform conversion to plots model\n",
    "\n",
    "from cloudberry.converters import SeriesConverter\n",
    "\n",
    "plot_pack = SeriesConverter.data_series_pack_to_plot_series_pack(\n",
    "    ds=series_pack,\n",
    "    x_field=\"_time\",\n",
    "    y_field=field,\n",
    "    y_err_field=\"stddev\"\n",
    ")"
   ]
  },
  {
   "cell_type": "markdown",
   "metadata": {},
   "source": [
    "Konieczne jest jeszcze zainicjalizowanie API do tworzenia wykresów, poprzez utworzenie obiektu PlotProperties. Możemy modyfikować pola tego obiektu, aby konfigurować finalny wygląd wykresów."
   ]
  },
  {
   "cell_type": "code",
   "execution_count": null,
   "metadata": {},
   "outputs": [],
   "source": [
    "# Configure cloudberry.plots\n",
    "\n",
    "import cloudberry.plots as cp\n",
    "\n",
    "props = cp.PlotProperties.default()\n",
    "props.title = \"Best fitness for uploaded computations\"\n",
    "props.show_title = True\n",
    "props.x_axis_name = \"Time in milliseconds\"\n",
    "props.y_axis_name = \"Best fitness\"\n",
    "# props.show_series = False\n",
    "# props.show_error_bars = True\n",
    "props.default_series_kind = cp.PlotSeriesKind.LINE"
   ]
  },
  {
   "cell_type": "markdown",
   "metadata": {},
   "source": [
    "Chcąc utworzyć nowy wykres korzystamy z klasy PlotBuilder, którą inicjalizujemy utworzonymi wcześniej PlotProperties.\n",
    "\n",
    "Serie możemy dodawać przy pomocy metod:\n",
    "* add_pack - dodaje PlotSeriesPack\n",
    "* add_series - dodaje pojedynczą PlotSeries\n",
    "* add_avg_series - dodaje pojedynczą PlotSeries jako serię średnią\n",
    "* add_trend - dodaje linie trendu"
   ]
  },
  {
   "cell_type": "code",
   "execution_count": null,
   "metadata": {},
   "outputs": [],
   "source": [
    "builder = cp.PlotBuilder(props)\n",
    "builder.add_pack(plot_pack)\n",
    "plot = builder.plot()\n",
    "plot"
   ]
  },
  {
   "cell_type": "markdown",
   "metadata": {},
   "source": [
    "Utworzony wykres możemy wyeksportować do wybranego formatu: png, svg lub jpeg z dowolną rozdzielczością, modyfikując parametry metody."
   ]
  },
  {
   "cell_type": "code",
   "execution_count": null,
   "metadata": {},
   "outputs": [],
   "source": [
    "# Optionally export plot to file\n",
    "cp.PlotlyExporter(plot).write_image(file='best_solution_computations.png', scale=4)"
   ]
  },
  {
   "cell_type": "markdown",
   "metadata": {},
   "source": [
    "## 1.2. API do analizy użytych konfiguracji\n",
    "Aby pobrać informacje o konifiguracjach zastosowanych w zaimportowanych plikach, należy użyć API klasy Metadata. "
   ]
  },
  {
   "cell_type": "code",
   "execution_count": null,
   "metadata": {
    "pycharm": {
     "name": "#%%\n"
    }
   },
   "outputs": [],
   "source": [
    "# Check what configuration were used in uploaded files\n",
    "cb_meta = cb.Metadata(cb_config)\n",
    "uploaded_configurations = list(cb_meta.experiment_configuration_api().find_by_id(id) for id in set([c.configuration_id for c in uploaded_computations]))"
   ]
  },
  {
   "cell_type": "markdown",
   "metadata": {},
   "source": [
    "Do właściwej analizy wykorzystujemy API klasy ConfigurationSeries.\n",
    "Poniżej postępujemy analogicznie jak w przypadku analizy uruchomień, tworząc nowy wykres."
   ]
  },
  {
   "cell_type": "code",
   "execution_count": null,
   "metadata": {
    "pycharm": {
     "name": "#%%\n"
    }
   },
   "outputs": [],
   "source": [
    "# Compare averages for configuration\n",
    "\n",
    "cb_configurations = cb.ConfigurationSeries(cb_config)\n",
    "series_pack = cb_configurations.for_configurations(uploaded_configurations, field)\n",
    "plot_pack = SeriesConverter.data_series_pack_to_plot_series_pack(\n",
    "    ds=series_pack,\n",
    "    x_field=\"_time\",\n",
    "    y_field=field,\n",
    "    y_err_field=\"stddev\"\n",
    ")\n",
    "\n",
    "props.title = \"Best fitness for configurations\"\n",
    "# props.show_error_bars = True\n",
    "builder = cp.PlotBuilder(props)\n",
    "builder.add_pack(plot_pack)\n",
    "\n",
    "# Do not show error bars on 'average' series\n",
    "for s in plot_pack.series:\n",
    "    s.y_err_field = None\n",
    "\n",
    "plot = builder.plot()\n",
    "plot\n"
   ]
  },
  {
   "cell_type": "code",
   "execution_count": null,
   "metadata": {},
   "outputs": [],
   "source": [
    "plot_pack.series"
   ]
  },
  {
   "cell_type": "code",
   "execution_count": null,
   "metadata": {
    "pycharm": {
     "name": "#%%\n"
    }
   },
   "outputs": [],
   "source": [
    "# export plot PNG\n",
    "cp.PlotlyExporter(plot).write_image(file='best_solution_configurations.png', scale=4)"
   ]
  },
  {
   "cell_type": "markdown",
   "metadata": {},
   "source": [
    "Poniżej usuwamy zaimportowane dane."
   ]
  },
  {
   "cell_type": "code",
   "execution_count": null,
   "metadata": {},
   "outputs": [],
   "source": [
    "# Cleanup\n",
    "cb_deletion = cb.Deletion(cb_config)\n",
    "cb_deletion.delete_computations(uploaded_computations)\n",
    "cb_deletion.delete_configurations(uploaded_configurations)\n",
    "\n",
    "# Verify cleanup\n",
    "cb_meta.experiment_computation_api().find_all()\n",
    "\n",
    "# Warning: Total cleanup\n",
    "# v = cb_meta.experiment_computation_api().find_all()\n",
    "# cb_deletion.delete_computations(v)"
   ]
  }
 ],
 "metadata": {
  "kernelspec": {
   "display_name": "Python 3",
   "language": "python",
   "name": "python3"
  },
  "language_info": {
   "codemirror_mode": {
    "name": "ipython",
    "version": 3
   },
   "file_extension": ".py",
   "mimetype": "text/x-python",
   "name": "python",
   "nbconvert_exporter": "python",
   "pygments_lexer": "ipython3",
   "version": "3.8.3"
  }
 },
 "nbformat": 4,
 "nbformat_minor": 1
}