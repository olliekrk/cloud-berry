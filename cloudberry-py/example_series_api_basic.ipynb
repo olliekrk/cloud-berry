{
 "cells": [
  {
   "cell_type": "code",
   "execution_count": null,
   "metadata": {},
   "outputs": [],
   "source": [
    "# Define Cloudberry configuration\n",
    "\n",
    "import cloudberry.api as cb\n",
    "cb_port = 9000\n",
    "cb_config = cb.CloudberryConfig(f'http://localhost:{cb_port}')"
   ]
  },
  {
   "cell_type": "code",
   "execution_count": null,
   "metadata": {
    "pycharm": {
     "name": "#%%\n"
    }
   },
   "outputs": [],
   "source": [
    "# Initialize API for data upload\n",
    "\n",
    "cb_uploader = cb.AgeFileUploader(cb_config)\n",
    "\n",
    "files_paths = [\n",
    "    \"./data/emas-20190411T232808.log\",\n",
    "    \"./data/emas-20190411T234810.log\",\n",
    "    \"./data/emas-20190412T000813.log\",\n",
    "    \"./data/emas-20190412T120536.log\",\n",
    "]\n",
    "\n",
    "files_details = cb.AgeUploadDetails(\n",
    "    headers_keys={\"[WH]\": \"[W]\", \"[SH]\": \"[S]\", \"[BH]\": \"[B]\"}\n",
    ")\n",
    "\n",
    "experiment_name = 'Example AgE experiment'\n",
    "\n",
    "uploaded_computations = []\n",
    "for fp in files_paths:\n",
    "    computation = cb_uploader.upload_file(file_path=fp, experiment_name=experiment_name, details=files_details)\n",
    "    uploaded_computations.append(computation)"
   ]
  },
  {
   "cell_type": "code",
   "execution_count": null,
   "metadata": {},
   "outputs": [],
   "source": [
    "# Compare uploaded computations and compute average and std\n",
    "\n",
    "cb_computations = cb.ComputationSeries(cb_config)\n",
    "\n",
    "field = 'BEST_SOLUTION_SO_FAR'\n",
    "series_pack = cb_computations.for_computations(uploaded_computations, field)"
   ]
  },
  {
   "cell_type": "code",
   "execution_count": null,
   "metadata": {},
   "outputs": [],
   "source": [
    "# Preview returned series as data frames\n",
    "\n",
    "# series_pack.series[0].as_data_frame\n",
    "# series_pack.average_series.as_data_frame"
   ]
  },
  {
   "cell_type": "code",
   "execution_count": null,
   "metadata": {},
   "outputs": [],
   "source": [
    "# Perform conversion to plots model\n",
    "\n",
    "from cloudberry.converters import SeriesConverter\n",
    "\n",
    "plot_pack = SeriesConverter.data_series_pack_to_plot_series_pack(\n",
    "    ds=series_pack,\n",
    "    x_field=\"_time\",\n",
    "    y_field=field,\n",
    "    y_err_field=\"stddev\"\n",
    ")"
   ]
  },
  {
   "cell_type": "code",
   "execution_count": null,
   "metadata": {},
   "outputs": [],
   "source": [
    "# Configure cloudberry.plots\n",
    "\n",
    "import cloudberry.plots as cp\n",
    "\n",
    "props = cp.PlotProperties.default()\n",
    "props.title = \"Best fitness for uploaded computations\"\n",
    "props.show_title = True\n",
    "props.x_axis_name = \"Time in milliseconds\"\n",
    "props.y_axis_name = \"Best fitness\"\n",
    "# props.show_series = False\n",
    "# props.show_error_bars = True\n",
    "props.default_series_kind = cp.PlotSeriesKind.LINE"
   ]
  },
  {
   "cell_type": "code",
   "execution_count": null,
   "metadata": {},
   "outputs": [],
   "source": [
    "builder = cp.PlotBuilder(props)\n",
    "builder.add_pack(plot_pack)\n",
    "plot = builder.plot()\n",
    "plot"
   ]
  },
  {
   "cell_type": "code",
   "execution_count": null,
   "metadata": {},
   "outputs": [],
   "source": [
    "# Optionally export plot to file\n",
    "cp.PlotlyExporter(plot).write_image(file='best_solution_computations.png', scale=4)"
   ]
  },
  {
   "cell_type": "code",
   "execution_count": null,
   "metadata": {
    "pycharm": {
     "name": "#%%\n"
    }
   },
   "outputs": [],
   "source": [
    "# Check what configuration were used in uploaded files\n",
    "cb_meta = cb.Metadata(cb_config)\n",
    "uploaded_configurations = list(cb_meta.experiment_configuration_api().find_by_id(id) for id in set([c.configuration_id for c in uploaded_computations]))"
   ]
  },
  {
   "cell_type": "code",
   "execution_count": null,
   "metadata": {
    "pycharm": {
     "name": "#%%\n"
    }
   },
   "outputs": [],
   "source": [
    "# Compare averages for configuration\n",
    "\n",
    "cb_configurations = cb.ConfigurationSeries(cb_config)\n",
    "series_pack = cb_configurations.for_configurations(uploaded_configurations, field)\n",
    "plot_pack = SeriesConverter.data_series_pack_to_plot_series_pack(\n",
    "    ds=series_pack,\n",
    "    x_field=\"_time\",\n",
    "    y_field=field,\n",
    "    y_err_field=\"stddev\"\n",
    ")\n",
    "\n",
    "props.title = \"Best fitness for configurations\"\n",
    "props.show_error_bars = True\n",
    "builder = cp.PlotBuilder(props)\n",
    "builder.add_pack(plot_pack)\n",
    "plot = builder.plot()\n",
    "plot\n"
   ]
  },
  {
   "cell_type": "code",
   "execution_count": null,
   "metadata": {},
   "outputs": [],
   "source": [
    "plot_pack.series"
   ]
  },
  {
   "cell_type": "code",
   "execution_count": null,
   "metadata": {
    "pycharm": {
     "name": "#%%\n"
    }
   },
   "outputs": [],
   "source": [
    "# export plot PNG\n",
    "cp.PlotlyExporter(plot).write_image(file='best_solution_configurations.png', scale=4)"
   ]
  },
  {
   "cell_type": "code",
   "execution_count": null,
   "metadata": {
    "pycharm": {
     "name": "#%%\n"
    }
   },
   "outputs": [],
   "source": [
    "# Cleanup\n",
    "cb_deletion = cb.Deletion(cb_config)\n",
    "cb_deletion.delete_computations(uploaded_computations)\n",
    "cb_deletion.delete_configurations(uploaded_configurations)\n",
    "\n",
    "# Verify cleanup\n",
    "cb_meta.experiment_computation_api().find_all()\n",
    "\n",
    "# Warning: Total cleanup\n",
    "# v = cb_meta.experiment_computation_api().find_all()\n",
    "# cb_deletion.delete_computations(v)"
   ]
  },
  {
   "cell_type": "code",
   "execution_count": null,
   "metadata": {},
   "outputs": [],
   "source": [
    "# Cleanup\n",
    "cb_deletion = cb.Deletion(cb_config)\n",
    "cb_deletion.delete_computations(uploaded_computations)\n",
    "cb_deletion.delete_configurations(uploaded_configurations)\n",
    "\n",
    "# Verify cleanup\n",
    "cb_meta.experiment_computation_api().find_all()\n",
    "\n",
    "# Warning: Total cleanup\n",
    "# v = cb_meta.experiment_computation_api().find_all()\n",
    "# cb_deletion.delete_computations(v)"
   ]
  },
  {
   "cell_type": "code",
   "execution_count": null,
   "metadata": {},
   "outputs": [],
   "source": [
    "# Compare averages for configuration\n",
    "\n",
    "cb_configurations = cb.ConfigurationSeries(cb_config)\n",
    "series_pack = cb_configurations.for_configurations(uploaded_configurations, field)\n",
    "plot_pack = SeriesConverter.data_series_pack_to_plot_series_pack(\n",
    "    ds=series_pack,\n",
    "    x_field=\"_time\",\n",
    "    y_field=field,\n",
    "    y_err_field=\"stddev\"\n",
    ")\n",
    "\n",
    "props.title = \"Best fitness for configurations\"\n",
    "props.show_error_bars = True\n",
    "builder = cp.PlotBuilder(props)\n",
    "builder.add_pack(plot_pack)\n",
    "plot = builder.plot()\n",
    "plot"
   ]
  },
  {
   "cell_type": "code",
   "execution_count": null,
   "metadata": {},
   "outputs": [],
   "source": [
    "# export plot PNG\n",
    "cp.PlotlyExporter(plot).write_image(file='best_solution_configurations.png', scale=4)"
   ]
  },
  {
   "cell_type": "code",
   "execution_count": null,
   "metadata": {},
   "outputs": [],
   "source": [
    "# Cleanup\n",
    "cb_deletion = cb.Deletion(cb_config)\n",
    "cb_deletion.delete_computations(uploaded_computations)\n",
    "cb_deletion.delete_configurations(uploaded_configurations)\n",
    "\n",
    "# Verify cleanup\n",
    "cb_meta.experiment_computation_api().find_all()\n",
    "\n",
    "# Warning: Total cleanup\n",
    "# v = cb_meta.experiment_computation_api().find_all()\n",
    "# cb_deletion.delete_computations(v)"
   ]
  }
 ],
 "metadata": {
  "kernelspec": {
   "display_name": "Python 3",
   "language": "python",
   "name": "python3"
  },
  "language_info": {
   "codemirror_mode": {
    "name": "ipython",
    "version": 3
   },
   "file_extension": ".py",
   "mimetype": "text/x-python",
   "name": "python",
   "nbconvert_exporter": "python",
   "pygments_lexer": "ipython3",
   "version": "3.7.1"
  }
 },
 "nbformat": 4,
 "nbformat_minor": 1
}
