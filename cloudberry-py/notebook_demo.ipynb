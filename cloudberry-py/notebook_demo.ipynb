{
 "cells": [
  {
   "cell_type": "code",
   "execution_count": 4,
   "metadata": {
    "collapsed": true
   },
   "outputs": [],
   "source": [
    "import api\n"
   ]
  },
  {
   "cell_type": "code",
   "execution_count": 5,
   "outputs": [],
   "source": [
    "config = api.CloudberryConfig('http://localhost', 9000)\n",
    "logs_api = api.LogsApi(config)\n",
    "flux_api = api.FluxApi(config)"
   ],
   "metadata": {
    "collapsed": false,
    "pycharm": {
     "name": "#%%\n"
    }
   }
  },
  {
   "cell_type": "code",
   "execution_count": 6,
   "outputs": [],
   "source": [
    "evaluation_id = \"3e29294d-bf7c-43c6-86b8-c9073de2685f\"\n",
    "workplace_id = 0\n",
    "\n",
    "logs_query = logs_api \\\n",
    "    .workplace() \\\n",
    "    .by_evaluation_id(evaluation_id) \\\n",
    "    # .by_workplace_id(workplace_id)\n",
    "\n",
    "logs = logs_query.get_raw()\n",
    "logs_df = logs_query.get_dataframe()"
   ],
   "metadata": {
    "collapsed": false,
    "pycharm": {
     "name": "#%%\n"
    }
   }
  },
  {
   "cell_type": "code",
   "source": [
    "logs"
   ],
   "metadata": {
    "collapsed": false,
    "pycharm": {
     "name": "#%%\n"
    }
   },
   "execution_count": 7,
   "outputs": [
    {
     "data": {
      "text/plain": "[{'time': {'nano': 758000000, 'epochSecond': 1592503095},\n  'evaluationId': '3e29294d-bf7c-43c6-86b8-c9073de2685f',\n  'workplaceId': 0,\n  'parameters': {}}]"
     },
     "execution_count": 7,
     "metadata": {},
     "output_type": "execute_result"
    }
   ]
  },
  {
   "cell_type": "code",
   "execution_count": 8,
   "outputs": [
    {
     "data": {
      "text/plain": "                                             time  \\\n0  {'nano': 758000000, 'epochSecond': 1592503095}   \n\n                           evaluationId  workplaceId parameters  \n0  3e29294d-bf7c-43c6-86b8-c9073de2685f            0         {}  ",
      "text/html": "<div>\n<style scoped>\n    .dataframe tbody tr th:only-of-type {\n        vertical-align: middle;\n    }\n\n    .dataframe tbody tr th {\n        vertical-align: top;\n    }\n\n    .dataframe thead th {\n        text-align: right;\n    }\n</style>\n<table border=\"1\" class=\"dataframe\">\n  <thead>\n    <tr style=\"text-align: right;\">\n      <th></th>\n      <th>time</th>\n      <th>evaluationId</th>\n      <th>workplaceId</th>\n      <th>parameters</th>\n    </tr>\n  </thead>\n  <tbody>\n    <tr>\n      <th>0</th>\n      <td>{'nano': 758000000, 'epochSecond': 1592503095}</td>\n      <td>3e29294d-bf7c-43c6-86b8-c9073de2685f</td>\n      <td>0</td>\n      <td>{}</td>\n    </tr>\n  </tbody>\n</table>\n</div>"
     },
     "execution_count": 8,
     "metadata": {},
     "output_type": "execute_result"
    }
   ],
   "source": [
    "logs_df"
   ],
   "metadata": {
    "collapsed": false,
    "pycharm": {
     "name": "#%%\n"
    }
   }
  },
  {
   "cell_type": "code",
   "execution_count": 9,
   "outputs": [],
   "source": [
    "bucket_name = \"cloudberry-logs\"\n",
    "raw_query = f\"from(bucket:{bucket_name}) |> range(start:0) |> filter(fn: (r) => r.workplaceId == 0)\"\n",
    "result = flux_api.query(raw_query)"
   ],
   "metadata": {
    "collapsed": false,
    "pycharm": {
     "name": "#%%\n"
    }
   }
  },
  {
   "cell_type": "code",
   "execution_count": null,
   "outputs": [],
   "source": [
    "result"
   ],
   "metadata": {
    "collapsed": false,
    "pycharm": {
     "name": "#%%\n"
    }
   }
  }
 ],
 "metadata": {
  "kernelspec": {
   "display_name": "Python 3",
   "language": "python",
   "name": "python3"
  },
  "language_info": {
   "codemirror_mode": {
    "name": "ipython",
    "version": 2
   },
   "file_extension": ".py",
   "mimetype": "text/x-python",
   "name": "python",
   "nbconvert_exporter": "python",
   "pygments_lexer": "ipython2",
   "version": "2.7.6"
  }
 },
 "nbformat": 4,
 "nbformat_minor": 0
}