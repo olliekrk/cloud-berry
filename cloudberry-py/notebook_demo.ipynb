{
 "cells": [
  {
   "cell_type": "code",
   "execution_count": 1,
   "metadata": {},
   "outputs": [],
   "source": [
    "import api\n",
    "import datetime\n",
    "import math\n"
   ]
  },
  {
   "cell_type": "code",
   "execution_count": 2,
   "metadata": {
    "pycharm": {
     "name": "#%%\n"
    }
   },
   "outputs": [],
   "source": [
    "config = api.CloudberryConfig('http://localhost', 9000)\n",
    "raw_api = api.RawDataApi(config)\n",
    "flux_api = api.FluxDataApi(config)"
   ]
  },
  {
   "cell_type": "code",
   "execution_count": 3,
   "metadata": {
    "pycharm": {
     "name": "#%%\n"
    }
   },
   "outputs": [
    {
     "data": {
      "text/plain": [
       "True"
      ]
     },
     "execution_count": 3,
     "metadata": {},
     "output_type": "execute_result"
    }
   ],
   "source": [
    "get_current_timestamp = lambda: math.trunc(datetime.datetime.utcnow().timestamp())\n",
    "\n",
    "custom_bucket_name = None\n",
    "\n",
    "measurement_name = 'notebook_demo_log'\n",
    "computation_data = [\n",
    "    api.ComputationData(\n",
    "        time=get_current_timestamp(),\n",
    "        fields={'python': 1, 'cloudberry': 2},\n",
    "        tags={'evaluation_id': '3e29294d-bf7c-43c6-86b8-c9073de2685f'}\n",
    "    )\n",
    "]\n",
    "\n",
    "r = raw_api.save_measurement_data(computation_data, measurement_name, custom_bucket_name)\n",
    "r"
   ]
  },
  {
   "cell_type": "code",
   "execution_count": null,
   "metadata": {
    "pycharm": {
     "is_executing": true,
     "name": "#%%\n"
    }
   },
   "outputs": [],
   "source": [
    "bucket_name = custom_bucket_name or \"cloudberry-logs\"\n",
    "raw_query = f\"from(bucket:\\\"{bucket_name}\\\") |> range(start:0) |> filter(fn: (r) => r.python == 1)\"\n",
    "result = flux_api.query(raw_query, True)\n",
    "result"
   ]
  },
  {
   "cell_type": "code",
   "execution_count": 12,
   "metadata": {
    "pycharm": {
     "is_executing": true,
     "name": "#%%\n"
    }
   },
   "outputs": [
    {
     "data": {
      "text/plain": [
       "[{'result': '_result',\n",
       "  'table': 0,\n",
       "  '_start': 0.0,\n",
       "  '_stop': 1593543314.9135404,\n",
       "  '_time': 1593379990.0,\n",
       "  '_measurement': 'notebook_demo_log',\n",
       "  'evaluation_id': '3e29294d-bf7c-43c6-86b8-c9073de2685f',\n",
       "  'cloudberry': 2,\n",
       "  'python': 1},\n",
       " {'result': '_result',\n",
       "  'table': 0,\n",
       "  '_start': 0.0,\n",
       "  '_stop': 1593543314.9135404,\n",
       "  '_time': 1593380998.0,\n",
       "  '_measurement': 'notebook_demo_log',\n",
       "  'evaluation_id': '3e29294d-bf7c-43c6-86b8-c9073de2685f',\n",
       "  'cloudberry': 2,\n",
       "  'python': 1},\n",
       " {'result': '_result',\n",
       "  'table': 0,\n",
       "  '_start': 0.0,\n",
       "  '_stop': 1593543314.9135404,\n",
       "  '_time': 1593535804.0,\n",
       "  '_measurement': 'notebook_demo_log',\n",
       "  'evaluation_id': '3e29294d-bf7c-43c6-86b8-c9073de2685f',\n",
       "  'cloudberry': 2,\n",
       "  'python': 1}]"
      ]
     },
     "execution_count": 12,
     "metadata": {},
     "output_type": "execute_result"
    }
   ],
   "source": [
    "tags = {'evaluation_id': '3e29294d-bf7c-43c6-86b8-c9073de2685f'}\n",
    "fields = {'python': 1}\n",
    "\n",
    "result = raw_api.get_measurement_data(api.LogFilters(tags, fields), measurement_name, custom_bucket_name)\n",
    "result"
   ]
  },
  {
   "cell_type": "code",
   "execution_count": null,
   "outputs": [],
   "source": [
    "df = api.as_data_frame(result)"
   ],
   "metadata": {
    "collapsed": false,
    "pycharm": {
     "name": "#%%\n"
    }
   }
  },
  {
   "cell_type": "code",
   "execution_count": 13,
   "metadata": {},
   "outputs": [
    {
     "data": {
      "text/html": [
       "<div>\n",
       "<style scoped>\n",
       "    .dataframe tbody tr th:only-of-type {\n",
       "        vertical-align: middle;\n",
       "    }\n",
       "\n",
       "    .dataframe tbody tr th {\n",
       "        vertical-align: top;\n",
       "    }\n",
       "\n",
       "    .dataframe thead th {\n",
       "        text-align: right;\n",
       "    }\n",
       "</style>\n",
       "<table border=\"1\" class=\"dataframe\">\n",
       "  <thead>\n",
       "    <tr style=\"text-align: right;\">\n",
       "      <th></th>\n",
       "      <th>result</th>\n",
       "      <th>table</th>\n",
       "      <th>_start</th>\n",
       "      <th>_stop</th>\n",
       "      <th>_time</th>\n",
       "      <th>_measurement</th>\n",
       "      <th>evaluation_id</th>\n",
       "      <th>cloudberry</th>\n",
       "      <th>python</th>\n",
       "    </tr>\n",
       "  </thead>\n",
       "  <tbody>\n",
       "    <tr>\n",
       "      <th>0</th>\n",
       "      <td>_result</td>\n",
       "      <td>0</td>\n",
       "      <td>0.0</td>\n",
       "      <td>1.593543e+09</td>\n",
       "      <td>1.593380e+09</td>\n",
       "      <td>notebook_demo_log</td>\n",
       "      <td>3e29294d-bf7c-43c6-86b8-c9073de2685f</td>\n",
       "      <td>2</td>\n",
       "      <td>1</td>\n",
       "    </tr>\n",
       "    <tr>\n",
       "      <th>1</th>\n",
       "      <td>_result</td>\n",
       "      <td>0</td>\n",
       "      <td>0.0</td>\n",
       "      <td>1.593543e+09</td>\n",
       "      <td>1.593381e+09</td>\n",
       "      <td>notebook_demo_log</td>\n",
       "      <td>3e29294d-bf7c-43c6-86b8-c9073de2685f</td>\n",
       "      <td>2</td>\n",
       "      <td>1</td>\n",
       "    </tr>\n",
       "    <tr>\n",
       "      <th>2</th>\n",
       "      <td>_result</td>\n",
       "      <td>0</td>\n",
       "      <td>0.0</td>\n",
       "      <td>1.593543e+09</td>\n",
       "      <td>1.593536e+09</td>\n",
       "      <td>notebook_demo_log</td>\n",
       "      <td>3e29294d-bf7c-43c6-86b8-c9073de2685f</td>\n",
       "      <td>2</td>\n",
       "      <td>1</td>\n",
       "    </tr>\n",
       "  </tbody>\n",
       "</table>\n",
       "</div>"
      ],
      "text/plain": [
       "    result  table  _start         _stop         _time       _measurement  \\\n",
       "0  _result      0     0.0  1.593543e+09  1.593380e+09  notebook_demo_log   \n",
       "1  _result      0     0.0  1.593543e+09  1.593381e+09  notebook_demo_log   \n",
       "2  _result      0     0.0  1.593543e+09  1.593536e+09  notebook_demo_log   \n",
       "\n",
       "                          evaluation_id  cloudberry  python  \n",
       "0  3e29294d-bf7c-43c6-86b8-c9073de2685f           2       1  \n",
       "1  3e29294d-bf7c-43c6-86b8-c9073de2685f           2       1  \n",
       "2  3e29294d-bf7c-43c6-86b8-c9073de2685f           2       1  "
      ]
     },
     "execution_count": 13,
     "metadata": {},
     "output_type": "execute_result"
    }
   ],
   "source": [
    "import pandas as pd\n",
    "pd.DataFrame(result)"
   ]
  },
  {
   "cell_type": "code",
   "execution_count": 33,
   "metadata": {
    "pycharm": {
     "name": "#%%\n"
    }
   },
   "outputs": [
    {
     "data": {
      "text/plain": [
       "True"
      ]
     },
     "execution_count": 33,
     "metadata": {},
     "output_type": "execute_result"
    }
   ],
   "source": [
    "raw_api.delete_measurement_data('workplace_log')"
   ]
  },
  {
   "cell_type": "code",
   "execution_count": null,
   "metadata": {
    "pycharm": {
     "is_executing": true,
     "name": "#%%\n"
    }
   },
   "outputs": [],
   "source": [
    "# File upload test\n",
    "\n",
    "uploader = api.FileUploader(config)\n",
    "response = uploader.upload_file('emas-20190412T120536.log')\n",
    "print(response)\n",
    "\n"
   ]
  }
 ],
 "metadata": {
  "kernelspec": {
   "display_name": "Python 3",
   "language": "python",
   "name": "python3"
  },
  "language_info": {
   "codemirror_mode": {
    "name": "ipython",
    "version": 3
   },
   "file_extension": ".py",
   "mimetype": "text/x-python",
   "name": "python",
   "nbconvert_exporter": "python",
   "pygments_lexer": "ipython3",
   "version": "3.6.9"
  }
 },
 "nbformat": 4,
 "nbformat_minor": 1
}